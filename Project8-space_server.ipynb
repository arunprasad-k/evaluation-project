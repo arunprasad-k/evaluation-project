{
 "cells": [
  {
   "cell_type": "markdown",
   "metadata": {},
   "source": [
    "# Program to Predict the class whether it is Star or Galaxy or Qso Using Logisistic Regression"
   ]
  },
  {
   "cell_type": "markdown",
   "metadata": {},
   "source": [
    "## Problem Statement\n",
    "\n",
    "The data consists of 10,000 observations of space taken by the SDSS. Every observation is described by 17 feature columns and 1 class column which identifies it to be either a star, galaxy or quasar."
   ]
  },
  {
   "cell_type": "code",
   "execution_count": 1,
   "metadata": {},
   "outputs": [],
   "source": [
    "#importing libraries\n",
    "import pandas as pd\n",
    "import numpy as np\n",
    "import matplotlib.pyplot as plt\n",
    "import seaborn as sns\n",
    "import warnings\n",
    "warnings.filterwarnings(\"ignore\")"
   ]
  },
  {
   "cell_type": "code",
   "execution_count": 2,
   "metadata": {},
   "outputs": [
    {
     "data": {
      "text/html": [
       "<div>\n",
       "<style scoped>\n",
       "    .dataframe tbody tr th:only-of-type {\n",
       "        vertical-align: middle;\n",
       "    }\n",
       "\n",
       "    .dataframe tbody tr th {\n",
       "        vertical-align: top;\n",
       "    }\n",
       "\n",
       "    .dataframe thead th {\n",
       "        text-align: right;\n",
       "    }\n",
       "</style>\n",
       "<table border=\"1\" class=\"dataframe\">\n",
       "  <thead>\n",
       "    <tr style=\"text-align: right;\">\n",
       "      <th></th>\n",
       "      <th>objid</th>\n",
       "      <th>ra</th>\n",
       "      <th>dec</th>\n",
       "      <th>u</th>\n",
       "      <th>g</th>\n",
       "      <th>r</th>\n",
       "      <th>i</th>\n",
       "      <th>z</th>\n",
       "      <th>run</th>\n",
       "      <th>rerun</th>\n",
       "      <th>camcol</th>\n",
       "      <th>field</th>\n",
       "      <th>specobjid</th>\n",
       "      <th>class</th>\n",
       "      <th>redshift</th>\n",
       "      <th>plate</th>\n",
       "      <th>mjd</th>\n",
       "      <th>fiberid</th>\n",
       "    </tr>\n",
       "  </thead>\n",
       "  <tbody>\n",
       "    <tr>\n",
       "      <th>0</th>\n",
       "      <td>1.237650e+18</td>\n",
       "      <td>183.531326</td>\n",
       "      <td>0.089693</td>\n",
       "      <td>19.47406</td>\n",
       "      <td>17.04240</td>\n",
       "      <td>15.94699</td>\n",
       "      <td>15.50342</td>\n",
       "      <td>15.22531</td>\n",
       "      <td>752</td>\n",
       "      <td>301</td>\n",
       "      <td>4</td>\n",
       "      <td>267</td>\n",
       "      <td>3.722360e+18</td>\n",
       "      <td>STAR</td>\n",
       "      <td>-0.000009</td>\n",
       "      <td>3306</td>\n",
       "      <td>54922</td>\n",
       "      <td>491</td>\n",
       "    </tr>\n",
       "    <tr>\n",
       "      <th>1</th>\n",
       "      <td>1.237650e+18</td>\n",
       "      <td>183.598371</td>\n",
       "      <td>0.135285</td>\n",
       "      <td>18.66280</td>\n",
       "      <td>17.21449</td>\n",
       "      <td>16.67637</td>\n",
       "      <td>16.48922</td>\n",
       "      <td>16.39150</td>\n",
       "      <td>752</td>\n",
       "      <td>301</td>\n",
       "      <td>4</td>\n",
       "      <td>267</td>\n",
       "      <td>3.638140e+17</td>\n",
       "      <td>STAR</td>\n",
       "      <td>-0.000055</td>\n",
       "      <td>323</td>\n",
       "      <td>51615</td>\n",
       "      <td>541</td>\n",
       "    </tr>\n",
       "    <tr>\n",
       "      <th>2</th>\n",
       "      <td>1.237650e+18</td>\n",
       "      <td>183.680207</td>\n",
       "      <td>0.126185</td>\n",
       "      <td>19.38298</td>\n",
       "      <td>18.19169</td>\n",
       "      <td>17.47428</td>\n",
       "      <td>17.08732</td>\n",
       "      <td>16.80125</td>\n",
       "      <td>752</td>\n",
       "      <td>301</td>\n",
       "      <td>4</td>\n",
       "      <td>268</td>\n",
       "      <td>3.232740e+17</td>\n",
       "      <td>GALAXY</td>\n",
       "      <td>0.123111</td>\n",
       "      <td>287</td>\n",
       "      <td>52023</td>\n",
       "      <td>513</td>\n",
       "    </tr>\n",
       "    <tr>\n",
       "      <th>3</th>\n",
       "      <td>1.237650e+18</td>\n",
       "      <td>183.870529</td>\n",
       "      <td>0.049911</td>\n",
       "      <td>17.76536</td>\n",
       "      <td>16.60272</td>\n",
       "      <td>16.16116</td>\n",
       "      <td>15.98233</td>\n",
       "      <td>15.90438</td>\n",
       "      <td>752</td>\n",
       "      <td>301</td>\n",
       "      <td>4</td>\n",
       "      <td>269</td>\n",
       "      <td>3.722370e+18</td>\n",
       "      <td>STAR</td>\n",
       "      <td>-0.000111</td>\n",
       "      <td>3306</td>\n",
       "      <td>54922</td>\n",
       "      <td>510</td>\n",
       "    </tr>\n",
       "    <tr>\n",
       "      <th>4</th>\n",
       "      <td>1.237650e+18</td>\n",
       "      <td>183.883288</td>\n",
       "      <td>0.102557</td>\n",
       "      <td>17.55025</td>\n",
       "      <td>16.26342</td>\n",
       "      <td>16.43869</td>\n",
       "      <td>16.55492</td>\n",
       "      <td>16.61326</td>\n",
       "      <td>752</td>\n",
       "      <td>301</td>\n",
       "      <td>4</td>\n",
       "      <td>269</td>\n",
       "      <td>3.722370e+18</td>\n",
       "      <td>STAR</td>\n",
       "      <td>0.000590</td>\n",
       "      <td>3306</td>\n",
       "      <td>54922</td>\n",
       "      <td>512</td>\n",
       "    </tr>\n",
       "    <tr>\n",
       "      <th>...</th>\n",
       "      <td>...</td>\n",
       "      <td>...</td>\n",
       "      <td>...</td>\n",
       "      <td>...</td>\n",
       "      <td>...</td>\n",
       "      <td>...</td>\n",
       "      <td>...</td>\n",
       "      <td>...</td>\n",
       "      <td>...</td>\n",
       "      <td>...</td>\n",
       "      <td>...</td>\n",
       "      <td>...</td>\n",
       "      <td>...</td>\n",
       "      <td>...</td>\n",
       "      <td>...</td>\n",
       "      <td>...</td>\n",
       "      <td>...</td>\n",
       "      <td>...</td>\n",
       "    </tr>\n",
       "    <tr>\n",
       "      <th>9995</th>\n",
       "      <td>1.237650e+18</td>\n",
       "      <td>131.316413</td>\n",
       "      <td>51.539547</td>\n",
       "      <td>18.81777</td>\n",
       "      <td>17.47053</td>\n",
       "      <td>16.91508</td>\n",
       "      <td>16.68305</td>\n",
       "      <td>16.50570</td>\n",
       "      <td>1345</td>\n",
       "      <td>301</td>\n",
       "      <td>3</td>\n",
       "      <td>161</td>\n",
       "      <td>5.033450e+17</td>\n",
       "      <td>GALAXY</td>\n",
       "      <td>0.027583</td>\n",
       "      <td>447</td>\n",
       "      <td>51877</td>\n",
       "      <td>246</td>\n",
       "    </tr>\n",
       "    <tr>\n",
       "      <th>9996</th>\n",
       "      <td>1.237650e+18</td>\n",
       "      <td>131.306083</td>\n",
       "      <td>51.671341</td>\n",
       "      <td>18.27255</td>\n",
       "      <td>17.43849</td>\n",
       "      <td>17.07692</td>\n",
       "      <td>16.71661</td>\n",
       "      <td>16.69897</td>\n",
       "      <td>1345</td>\n",
       "      <td>301</td>\n",
       "      <td>3</td>\n",
       "      <td>162</td>\n",
       "      <td>5.033400e+17</td>\n",
       "      <td>GALAXY</td>\n",
       "      <td>0.117772</td>\n",
       "      <td>447</td>\n",
       "      <td>51877</td>\n",
       "      <td>228</td>\n",
       "    </tr>\n",
       "    <tr>\n",
       "      <th>9997</th>\n",
       "      <td>1.237650e+18</td>\n",
       "      <td>131.552562</td>\n",
       "      <td>51.666986</td>\n",
       "      <td>18.75818</td>\n",
       "      <td>17.77784</td>\n",
       "      <td>17.51872</td>\n",
       "      <td>17.43302</td>\n",
       "      <td>17.42048</td>\n",
       "      <td>1345</td>\n",
       "      <td>301</td>\n",
       "      <td>3</td>\n",
       "      <td>162</td>\n",
       "      <td>8.222620e+18</td>\n",
       "      <td>STAR</td>\n",
       "      <td>-0.000402</td>\n",
       "      <td>7303</td>\n",
       "      <td>57013</td>\n",
       "      <td>622</td>\n",
       "    </tr>\n",
       "    <tr>\n",
       "      <th>9998</th>\n",
       "      <td>1.237650e+18</td>\n",
       "      <td>131.477151</td>\n",
       "      <td>51.753068</td>\n",
       "      <td>18.88287</td>\n",
       "      <td>17.91068</td>\n",
       "      <td>17.53152</td>\n",
       "      <td>17.36284</td>\n",
       "      <td>17.13988</td>\n",
       "      <td>1345</td>\n",
       "      <td>301</td>\n",
       "      <td>3</td>\n",
       "      <td>163</td>\n",
       "      <td>5.033400e+17</td>\n",
       "      <td>GALAXY</td>\n",
       "      <td>0.014019</td>\n",
       "      <td>447</td>\n",
       "      <td>51877</td>\n",
       "      <td>229</td>\n",
       "    </tr>\n",
       "    <tr>\n",
       "      <th>9999</th>\n",
       "      <td>1.237650e+18</td>\n",
       "      <td>131.665012</td>\n",
       "      <td>51.805307</td>\n",
       "      <td>19.27586</td>\n",
       "      <td>17.37829</td>\n",
       "      <td>16.30542</td>\n",
       "      <td>15.83548</td>\n",
       "      <td>15.50588</td>\n",
       "      <td>1345</td>\n",
       "      <td>301</td>\n",
       "      <td>3</td>\n",
       "      <td>163</td>\n",
       "      <td>5.033410e+17</td>\n",
       "      <td>GALAXY</td>\n",
       "      <td>0.118417</td>\n",
       "      <td>447</td>\n",
       "      <td>51877</td>\n",
       "      <td>233</td>\n",
       "    </tr>\n",
       "  </tbody>\n",
       "</table>\n",
       "<p>10000 rows × 18 columns</p>\n",
       "</div>"
      ],
      "text/plain": [
       "             objid          ra        dec         u         g         r  \\\n",
       "0     1.237650e+18  183.531326   0.089693  19.47406  17.04240  15.94699   \n",
       "1     1.237650e+18  183.598371   0.135285  18.66280  17.21449  16.67637   \n",
       "2     1.237650e+18  183.680207   0.126185  19.38298  18.19169  17.47428   \n",
       "3     1.237650e+18  183.870529   0.049911  17.76536  16.60272  16.16116   \n",
       "4     1.237650e+18  183.883288   0.102557  17.55025  16.26342  16.43869   \n",
       "...            ...         ...        ...       ...       ...       ...   \n",
       "9995  1.237650e+18  131.316413  51.539547  18.81777  17.47053  16.91508   \n",
       "9996  1.237650e+18  131.306083  51.671341  18.27255  17.43849  17.07692   \n",
       "9997  1.237650e+18  131.552562  51.666986  18.75818  17.77784  17.51872   \n",
       "9998  1.237650e+18  131.477151  51.753068  18.88287  17.91068  17.53152   \n",
       "9999  1.237650e+18  131.665012  51.805307  19.27586  17.37829  16.30542   \n",
       "\n",
       "             i         z   run  rerun  camcol  field     specobjid   class  \\\n",
       "0     15.50342  15.22531   752    301       4    267  3.722360e+18    STAR   \n",
       "1     16.48922  16.39150   752    301       4    267  3.638140e+17    STAR   \n",
       "2     17.08732  16.80125   752    301       4    268  3.232740e+17  GALAXY   \n",
       "3     15.98233  15.90438   752    301       4    269  3.722370e+18    STAR   \n",
       "4     16.55492  16.61326   752    301       4    269  3.722370e+18    STAR   \n",
       "...        ...       ...   ...    ...     ...    ...           ...     ...   \n",
       "9995  16.68305  16.50570  1345    301       3    161  5.033450e+17  GALAXY   \n",
       "9996  16.71661  16.69897  1345    301       3    162  5.033400e+17  GALAXY   \n",
       "9997  17.43302  17.42048  1345    301       3    162  8.222620e+18    STAR   \n",
       "9998  17.36284  17.13988  1345    301       3    163  5.033400e+17  GALAXY   \n",
       "9999  15.83548  15.50588  1345    301       3    163  5.033410e+17  GALAXY   \n",
       "\n",
       "      redshift  plate    mjd  fiberid  \n",
       "0    -0.000009   3306  54922      491  \n",
       "1    -0.000055    323  51615      541  \n",
       "2     0.123111    287  52023      513  \n",
       "3    -0.000111   3306  54922      510  \n",
       "4     0.000590   3306  54922      512  \n",
       "...        ...    ...    ...      ...  \n",
       "9995  0.027583    447  51877      246  \n",
       "9996  0.117772    447  51877      228  \n",
       "9997 -0.000402   7303  57013      622  \n",
       "9998  0.014019    447  51877      229  \n",
       "9999  0.118417    447  51877      233  \n",
       "\n",
       "[10000 rows x 18 columns]"
      ]
     },
     "execution_count": 2,
     "metadata": {},
     "output_type": "execute_result"
    }
   ],
   "source": [
    "#Loading Dataset\n",
    "df=pd.read_csv(\"space_server.csv\")\n",
    "df"
   ]
  },
  {
   "cell_type": "code",
   "execution_count": 3,
   "metadata": {},
   "outputs": [],
   "source": [
    "#converting scientific number to numeric\n",
    "pd.options.display.float_format=\"{:.2f}\".format"
   ]
  },
  {
   "cell_type": "markdown",
   "metadata": {},
   "source": [
    "###### Attributes Description:\n",
    "\n",
    "1)objid = Object Identifier\n",
    "\n",
    "     contains photometric data\n",
    "    \n",
    "2)ra = J2000 Right Ascension (r-band)\n",
    "\n",
    "    Right ascension (abbreviated RA) is the angular distance measured eastward along the celestial equator from the Sun at the March equinox to the hour circle of the point above the earth in question.\n",
    "\n",
    "3)dec = J2000 Declination (r-band)\n",
    "\n",
    "     declination (abbreviated DEC) when combined with ra these astronomical coordinates specify the direction of a point on the celestial sphere (traditionally called in English the skies or the sky) in the equatorial coordinate system.\n",
    "     \n",
    "4)u = better of DeV/Exp magnitude fit\n",
    "\n",
    "5)g = better of DeV/Exp magnitude fit\n",
    "\n",
    "6)r = better of DeV/Exp magnitude fit\n",
    "\n",
    "7)i = better of DeV/Exp magnitude fit\n",
    "\n",
    "8)z = better of DeV/Exp magnitude fit     \n",
    "\n",
    "    The Thuan-Gunn astronomic magnitude system. u, g, r, i, z represent the response of the 5 bands of the telescope.\n",
    "    \n",
    "9)run = Run Number\n",
    "\n",
    "    run number, which identifies the specific scan\n",
    "    \n",
    "10)rereun = Rerun Number    \n",
    "\n",
    "    An additional number, rerun, specifies how the image was processed\n",
    "    \n",
    "11)camcol = Camera column\n",
    "\n",
    "    the camera column, or \"camcol,\" a number from 1 to 6, identifying the scanline within the run\n",
    "    \n",
    "12)field = Field number(Our Target Attribute)\n",
    "\n",
    "    the field number. The field number typically starts at 11 (after an initial rampup time), and can be as large as 800 for particularly long runs.\n",
    "    \n",
    "13)specobjid = Object Identifier\n",
    "\n",
    "    \"SpecObj\" which contains spectral data.\n",
    "\n",
    "14)class = object class (galaxy, star or quasar object)\n",
    "\n",
    "    The class identifies an object to be either a galaxy, star or quasar. This will be the response variable which we will be trying to predict\n",
    "    \n",
    "15)redshift = Final Redshift\n",
    "\n",
    "    redshift happens when light or other electromagnetic radiation from an object is increased in wavelength, or shifted to the red end of the spectrum\n",
    "    \n",
    "16)plate = plate number\n",
    "\n",
    "    Each plate has a unique serial number, which is called plate in views such as SpecObj in the CAS.\n",
    "    \n",
    "17)mjd = MJD of observation\n",
    "\n",
    "    Modified Julian Date, used to indicate the date that a given piece of SDSS data (image or spectrum) was taken.\n",
    "    \n",
    "18)fiberid = fiber ID\n",
    "\n",
    "   The SDSS spectrograph uses optical fibers to direct the light at the focal plane from individual objects to the slithead. Each object is assigned a corresponding fiberID."
   ]
  },
  {
   "cell_type": "markdown",
   "metadata": {},
   "source": [
    "# Basis Statistics about the Dataset"
   ]
  },
  {
   "cell_type": "code",
   "execution_count": 4,
   "metadata": {},
   "outputs": [
    {
     "name": "stdout",
     "output_type": "stream",
     "text": [
      "<class 'pandas.core.frame.DataFrame'>\n",
      "RangeIndex: 10000 entries, 0 to 9999\n",
      "Data columns (total 18 columns):\n",
      " #   Column     Non-Null Count  Dtype  \n",
      "---  ------     --------------  -----  \n",
      " 0   objid      10000 non-null  float64\n",
      " 1   ra         10000 non-null  float64\n",
      " 2   dec        10000 non-null  float64\n",
      " 3   u          10000 non-null  float64\n",
      " 4   g          10000 non-null  float64\n",
      " 5   r          10000 non-null  float64\n",
      " 6   i          10000 non-null  float64\n",
      " 7   z          10000 non-null  float64\n",
      " 8   run        10000 non-null  int64  \n",
      " 9   rerun      10000 non-null  int64  \n",
      " 10  camcol     10000 non-null  int64  \n",
      " 11  field      10000 non-null  int64  \n",
      " 12  specobjid  10000 non-null  float64\n",
      " 13  class      10000 non-null  object \n",
      " 14  redshift   10000 non-null  float64\n",
      " 15  plate      10000 non-null  int64  \n",
      " 16  mjd        10000 non-null  int64  \n",
      " 17  fiberid    10000 non-null  int64  \n",
      "dtypes: float64(10), int64(7), object(1)\n",
      "memory usage: 1.4+ MB\n"
     ]
    }
   ],
   "source": [
    "df.info()"
   ]
  },
  {
   "cell_type": "code",
   "execution_count": 5,
   "metadata": {},
   "outputs": [
    {
     "data": {
      "text/plain": [
       "(10000, 18)"
      ]
     },
     "execution_count": 5,
     "metadata": {},
     "output_type": "execute_result"
    }
   ],
   "source": [
    "df.shape"
   ]
  },
  {
   "cell_type": "code",
   "execution_count": 6,
   "metadata": {},
   "outputs": [
    {
     "data": {
      "text/plain": [
       "objid        float64\n",
       "ra           float64\n",
       "dec          float64\n",
       "u            float64\n",
       "g            float64\n",
       "r            float64\n",
       "i            float64\n",
       "z            float64\n",
       "run            int64\n",
       "rerun          int64\n",
       "camcol         int64\n",
       "field          int64\n",
       "specobjid    float64\n",
       "class         object\n",
       "redshift     float64\n",
       "plate          int64\n",
       "mjd            int64\n",
       "fiberid        int64\n",
       "dtype: object"
      ]
     },
     "execution_count": 6,
     "metadata": {},
     "output_type": "execute_result"
    }
   ],
   "source": [
    "df.dtypes"
   ]
  },
  {
   "cell_type": "code",
   "execution_count": 7,
   "metadata": {},
   "outputs": [
    {
     "data": {
      "text/plain": [
       "Index(['objid', 'ra', 'dec', 'u', 'g', 'r', 'i', 'z', 'run', 'rerun', 'camcol',\n",
       "       'field', 'specobjid', 'class', 'redshift', 'plate', 'mjd', 'fiberid'],\n",
       "      dtype='object')"
      ]
     },
     "execution_count": 7,
     "metadata": {},
     "output_type": "execute_result"
    }
   ],
   "source": [
    "df.columns"
   ]
  },
  {
   "cell_type": "markdown",
   "metadata": {},
   "source": [
    "# Finding Missing Values"
   ]
  },
  {
   "cell_type": "code",
   "execution_count": 8,
   "metadata": {},
   "outputs": [
    {
     "data": {
      "text/plain": [
       "objid        0\n",
       "ra           0\n",
       "dec          0\n",
       "u            0\n",
       "g            0\n",
       "r            0\n",
       "i            0\n",
       "z            0\n",
       "run          0\n",
       "rerun        0\n",
       "camcol       0\n",
       "field        0\n",
       "specobjid    0\n",
       "class        0\n",
       "redshift     0\n",
       "plate        0\n",
       "mjd          0\n",
       "fiberid      0\n",
       "dtype: int64"
      ]
     },
     "execution_count": 8,
     "metadata": {},
     "output_type": "execute_result"
    }
   ],
   "source": [
    "df.isnull().sum()"
   ]
  },
  {
   "cell_type": "markdown",
   "metadata": {},
   "source": [
    "There are no missing Values in any columns"
   ]
  },
  {
   "cell_type": "markdown",
   "metadata": {},
   "source": [
    "# Exploring Attributes"
   ]
  },
  {
   "cell_type": "markdown",
   "metadata": {},
   "source": [
    "##### column class"
   ]
  },
  {
   "cell_type": "code",
   "execution_count": 9,
   "metadata": {},
   "outputs": [
    {
     "data": {
      "text/plain": [
       "GALAXY    4998\n",
       "STAR      4152\n",
       "QSO        850\n",
       "Name: class, dtype: int64"
      ]
     },
     "execution_count": 9,
     "metadata": {},
     "output_type": "execute_result"
    }
   ],
   "source": [
    "df[\"class\"].value_counts()"
   ]
  },
  {
   "cell_type": "code",
   "execution_count": 10,
   "metadata": {},
   "outputs": [
    {
     "data": {
      "text/plain": [
       "<matplotlib.axes._subplots.AxesSubplot at 0x1e7e9e6c700>"
      ]
     },
     "execution_count": 10,
     "metadata": {},
     "output_type": "execute_result"
    },
    {
     "data": {
      "image/png": "[encoded data removed]",
      "text/plain": [
       "<Figure size 432x288 with 1 Axes>"
      ]
     },
     "metadata": {
      "needs_background": "light"
     },
     "output_type": "display_data"
    }
   ],
   "source": [
    "#Graphical visuvalisation\n",
    "sns.countplot(df[\"class\"])"
   ]
  },
  {
   "cell_type": "markdown",
   "metadata": {},
   "source": [
    "OBSERVATION\n",
    "\n",
    "The countplot shows that there is more galaxy registered followed by star and qso"
   ]
  },
  {
   "cell_type": "markdown",
   "metadata": {},
   "source": [
    "##### Column camcol"
   ]
  },
  {
   "cell_type": "code",
   "execution_count": 11,
   "metadata": {},
   "outputs": [
    {
     "data": {
      "text/plain": [
       "4    1834\n",
       "5    1827\n",
       "6    1769\n",
       "2    1712\n",
       "3    1560\n",
       "1    1298\n",
       "Name: camcol, dtype: int64"
      ]
     },
     "execution_count": 11,
     "metadata": {},
     "output_type": "execute_result"
    }
   ],
   "source": [
    "df[\"camcol\"].value_counts()"
   ]
  },
  {
   "cell_type": "code",
   "execution_count": 12,
   "metadata": {},
   "outputs": [
    {
     "data": {
      "text/plain": [
       "<matplotlib.axes._subplots.AxesSubplot at 0x1e7e9ef0400>"
      ]
     },
     "execution_count": 12,
     "metadata": {},
     "output_type": "execute_result"
    },
    {
     "data": {
      "image/png": "[encoded data removed]",
      "text/plain": [
       "<Figure size 432x288 with 1 Axes>"
      ]
     },
     "metadata": {
      "needs_background": "light"
     },
     "output_type": "display_data"
    }
   ],
   "source": [
    "sns.countplot(df[\"camcol\"])"
   ]
  },
  {
   "cell_type": "markdown",
   "metadata": {},
   "source": [
    "OBSERVATION:\n",
    "\n",
    "The camera column 4 has more number of entries for identifying the scanline within the run\n",
    "\n",
    "The camera column 1 has less number of entries for identifying the scanline within the run"
   ]
  },
  {
   "cell_type": "markdown",
   "metadata": {},
   "source": [
    "##### Column rerun"
   ]
  },
  {
   "cell_type": "code",
   "execution_count": 13,
   "metadata": {},
   "outputs": [
    {
     "data": {
      "text/plain": [
       "301    10000\n",
       "Name: rerun, dtype: int64"
      ]
     },
     "execution_count": 13,
     "metadata": {},
     "output_type": "execute_result"
    }
   ],
   "source": [
    "df[\"rerun\"].value_counts()"
   ]
  },
  {
   "cell_type": "markdown",
   "metadata": {},
   "source": [
    "this columnn has only one value throughout the dataset so it will not help us in any way \n",
    "\n",
    "so lets drop"
   ]
  },
  {
   "cell_type": "code",
   "execution_count": 14,
   "metadata": {},
   "outputs": [],
   "source": [
    "#dropping column rerun\n",
    "df.drop(columns=[\"rerun\"],inplace=True)"
   ]
  },
  {
   "cell_type": "markdown",
   "metadata": {},
   "source": [
    "##### column objid"
   ]
  },
  {
   "cell_type": "code",
   "execution_count": 15,
   "metadata": {},
   "outputs": [
    {
     "data": {
      "text/plain": [
       "1237650000000000000.00    10000\n",
       "Name: objid, dtype: int64"
      ]
     },
     "execution_count": 15,
     "metadata": {},
     "output_type": "execute_result"
    }
   ],
   "source": [
    "df[\"objid\"].value_counts()"
   ]
  },
  {
   "cell_type": "markdown",
   "metadata": {},
   "source": [
    "this columnn has only one value throughout the dataset so it will not help us in any way \n",
    "\n",
    "so lets drop"
   ]
  },
  {
   "cell_type": "code",
   "execution_count": 16,
   "metadata": {},
   "outputs": [],
   "source": [
    "#dropping column objid\n",
    "df.drop(columns=[\"objid\"],inplace=True)"
   ]
  },
  {
   "cell_type": "code",
   "execution_count": 17,
   "metadata": {},
   "outputs": [
    {
     "data": {
      "text/html": [
       "<div>\n",
       "<style scoped>\n",
       "    .dataframe tbody tr th:only-of-type {\n",
       "        vertical-align: middle;\n",
       "    }\n",
       "\n",
       "    .dataframe tbody tr th {\n",
       "        vertical-align: top;\n",
       "    }\n",
       "\n",
       "    .dataframe thead th {\n",
       "        text-align: right;\n",
       "    }\n",
       "</style>\n",
       "<table border=\"1\" class=\"dataframe\">\n",
       "  <thead>\n",
       "    <tr style=\"text-align: right;\">\n",
       "      <th></th>\n",
       "      <th>ra</th>\n",
       "      <th>dec</th>\n",
       "      <th>u</th>\n",
       "      <th>g</th>\n",
       "      <th>r</th>\n",
       "      <th>i</th>\n",
       "      <th>z</th>\n",
       "      <th>run</th>\n",
       "      <th>camcol</th>\n",
       "      <th>field</th>\n",
       "      <th>specobjid</th>\n",
       "      <th>redshift</th>\n",
       "      <th>plate</th>\n",
       "      <th>mjd</th>\n",
       "      <th>fiberid</th>\n",
       "    </tr>\n",
       "  </thead>\n",
       "  <tbody>\n",
       "    <tr>\n",
       "      <th>count</th>\n",
       "      <td>10000.00</td>\n",
       "      <td>10000.00</td>\n",
       "      <td>10000.00</td>\n",
       "      <td>10000.00</td>\n",
       "      <td>10000.00</td>\n",
       "      <td>10000.00</td>\n",
       "      <td>10000.00</td>\n",
       "      <td>10000.00</td>\n",
       "      <td>10000.00</td>\n",
       "      <td>10000.00</td>\n",
       "      <td>10000.00</td>\n",
       "      <td>10000.00</td>\n",
       "      <td>10000.00</td>\n",
       "      <td>10000.00</td>\n",
       "      <td>10000.00</td>\n",
       "    </tr>\n",
       "    <tr>\n",
       "      <th>mean</th>\n",
       "      <td>175.53</td>\n",
       "      <td>14.84</td>\n",
       "      <td>18.62</td>\n",
       "      <td>17.37</td>\n",
       "      <td>16.84</td>\n",
       "      <td>16.58</td>\n",
       "      <td>16.42</td>\n",
       "      <td>981.03</td>\n",
       "      <td>3.65</td>\n",
       "      <td>302.38</td>\n",
       "      <td>1645021569800003584.00</td>\n",
       "      <td>0.14</td>\n",
       "      <td>1460.99</td>\n",
       "      <td>52943.53</td>\n",
       "      <td>353.07</td>\n",
       "    </tr>\n",
       "    <tr>\n",
       "      <th>std</th>\n",
       "      <td>47.78</td>\n",
       "      <td>25.21</td>\n",
       "      <td>0.83</td>\n",
       "      <td>0.95</td>\n",
       "      <td>1.07</td>\n",
       "      <td>1.14</td>\n",
       "      <td>1.20</td>\n",
       "      <td>273.31</td>\n",
       "      <td>1.67</td>\n",
       "      <td>162.58</td>\n",
       "      <td>2013998492866906624.00</td>\n",
       "      <td>0.39</td>\n",
       "      <td>1788.78</td>\n",
       "      <td>1511.15</td>\n",
       "      <td>206.30</td>\n",
       "    </tr>\n",
       "    <tr>\n",
       "      <th>min</th>\n",
       "      <td>8.24</td>\n",
       "      <td>-5.38</td>\n",
       "      <td>12.99</td>\n",
       "      <td>12.80</td>\n",
       "      <td>12.43</td>\n",
       "      <td>11.95</td>\n",
       "      <td>11.61</td>\n",
       "      <td>308.00</td>\n",
       "      <td>1.00</td>\n",
       "      <td>11.00</td>\n",
       "      <td>299578000000000000.00</td>\n",
       "      <td>-0.00</td>\n",
       "      <td>266.00</td>\n",
       "      <td>51578.00</td>\n",
       "      <td>1.00</td>\n",
       "    </tr>\n",
       "    <tr>\n",
       "      <th>25%</th>\n",
       "      <td>157.37</td>\n",
       "      <td>-0.54</td>\n",
       "      <td>18.18</td>\n",
       "      <td>16.82</td>\n",
       "      <td>16.17</td>\n",
       "      <td>15.85</td>\n",
       "      <td>15.62</td>\n",
       "      <td>752.00</td>\n",
       "      <td>2.00</td>\n",
       "      <td>184.00</td>\n",
       "      <td>338924750000000000.00</td>\n",
       "      <td>0.00</td>\n",
       "      <td>301.00</td>\n",
       "      <td>51900.00</td>\n",
       "      <td>186.75</td>\n",
       "    </tr>\n",
       "    <tr>\n",
       "      <th>50%</th>\n",
       "      <td>180.39</td>\n",
       "      <td>0.40</td>\n",
       "      <td>18.85</td>\n",
       "      <td>17.50</td>\n",
       "      <td>16.86</td>\n",
       "      <td>16.55</td>\n",
       "      <td>16.39</td>\n",
       "      <td>756.00</td>\n",
       "      <td>4.00</td>\n",
       "      <td>299.00</td>\n",
       "      <td>496658000000000000.00</td>\n",
       "      <td>0.04</td>\n",
       "      <td>441.00</td>\n",
       "      <td>51997.00</td>\n",
       "      <td>351.00</td>\n",
       "    </tr>\n",
       "    <tr>\n",
       "      <th>75%</th>\n",
       "      <td>201.55</td>\n",
       "      <td>35.65</td>\n",
       "      <td>19.26</td>\n",
       "      <td>18.01</td>\n",
       "      <td>17.51</td>\n",
       "      <td>17.26</td>\n",
       "      <td>17.14</td>\n",
       "      <td>1331.00</td>\n",
       "      <td>5.00</td>\n",
       "      <td>414.00</td>\n",
       "      <td>2881300000000000000.00</td>\n",
       "      <td>0.09</td>\n",
       "      <td>2559.00</td>\n",
       "      <td>54468.00</td>\n",
       "      <td>510.00</td>\n",
       "    </tr>\n",
       "    <tr>\n",
       "      <th>max</th>\n",
       "      <td>260.88</td>\n",
       "      <td>68.54</td>\n",
       "      <td>19.60</td>\n",
       "      <td>19.92</td>\n",
       "      <td>24.80</td>\n",
       "      <td>28.18</td>\n",
       "      <td>22.83</td>\n",
       "      <td>1412.00</td>\n",
       "      <td>6.00</td>\n",
       "      <td>768.00</td>\n",
       "      <td>9468830000000000000.00</td>\n",
       "      <td>5.35</td>\n",
       "      <td>8410.00</td>\n",
       "      <td>57481.00</td>\n",
       "      <td>1000.00</td>\n",
       "    </tr>\n",
       "  </tbody>\n",
       "</table>\n",
       "</div>"
      ],
      "text/plain": [
       "            ra      dec        u        g        r        i        z      run  \\\n",
       "count 10000.00 10000.00 10000.00 10000.00 10000.00 10000.00 10000.00 10000.00   \n",
       "mean    175.53    14.84    18.62    17.37    16.84    16.58    16.42   981.03   \n",
       "std      47.78    25.21     0.83     0.95     1.07     1.14     1.20   273.31   \n",
       "min       8.24    -5.38    12.99    12.80    12.43    11.95    11.61   308.00   \n",
       "25%     157.37    -0.54    18.18    16.82    16.17    15.85    15.62   752.00   \n",
       "50%     180.39     0.40    18.85    17.50    16.86    16.55    16.39   756.00   \n",
       "75%     201.55    35.65    19.26    18.01    17.51    17.26    17.14  1331.00   \n",
       "max     260.88    68.54    19.60    19.92    24.80    28.18    22.83  1412.00   \n",
       "\n",
       "        camcol    field              specobjid  redshift    plate      mjd  \\\n",
       "count 10000.00 10000.00               10000.00  10000.00 10000.00 10000.00   \n",
       "mean      3.65   302.38 1645021569800003584.00      0.14  1460.99 52943.53   \n",
       "std       1.67   162.58 2013998492866906624.00      0.39  1788.78  1511.15   \n",
       "min       1.00    11.00  299578000000000000.00     -0.00   266.00 51578.00   \n",
       "25%       2.00   184.00  338924750000000000.00      0.00   301.00 51900.00   \n",
       "50%       4.00   299.00  496658000000000000.00      0.04   441.00 51997.00   \n",
       "75%       5.00   414.00 2881300000000000000.00      0.09  2559.00 54468.00   \n",
       "max       6.00   768.00 9468830000000000000.00      5.35  8410.00 57481.00   \n",
       "\n",
       "       fiberid  \n",
       "count 10000.00  \n",
       "mean    353.07  \n",
       "std     206.30  \n",
       "min       1.00  \n",
       "25%     186.75  \n",
       "50%     351.00  \n",
       "75%     510.00  \n",
       "max    1000.00  "
      ]
     },
     "execution_count": 17,
     "metadata": {},
     "output_type": "execute_result"
    }
   ],
   "source": [
    "df.describe()"
   ]
  },
  {
   "cell_type": "markdown",
   "metadata": {},
   "source": [
    "1)Here we find that the median is higher than mean in most of the columns\n",
    "\n",
    "If the mean is less than the median, the distribution is negatively skewed.\n",
    "\n",
    "2)the maximum and the 75% shows huge range of difference \n",
    "\n",
    "3)In column \"dec\" there is a wide range of difference between mean and the median(50%) \n",
    "\n",
    "From above we infer that we may have few outliers and skewness in some of the attributes \n",
    "\n"
   ]
  },
  {
   "cell_type": "markdown",
   "metadata": {},
   "source": [
    "# EDA"
   ]
  },
  {
   "cell_type": "markdown",
   "metadata": {},
   "source": [
    "###### UNIVARIATE ANALYSIS"
   ]
  },
  {
   "cell_type": "code",
   "execution_count": 18,
   "metadata": {},
   "outputs": [
    {
     "data": {
      "text/plain": [
       "<matplotlib.axes._subplots.AxesSubplot at 0x1e7e9f876d0>"
      ]
     },
     "execution_count": 18,
     "metadata": {},
     "output_type": "execute_result"
    },
    {
     "data": {
      "image/png": "[encoded data removed]",
      "text/plain": [
       "<Figure size 432x288 with 1 Axes>"
      ]
     },
     "metadata": {
      "needs_background": "light"
     },
     "output_type": "display_data"
    }
   ],
   "source": [
    "sns.distplot(df[\"ra\"])\n"
   ]
  },
  {
   "cell_type": "markdown",
   "metadata": {},
   "source": [
    "The range of right ascending is high between 150 to 200\n"
   ]
  },
  {
   "cell_type": "code",
   "execution_count": 19,
   "metadata": {},
   "outputs": [
    {
     "data": {
      "text/plain": [
       "<matplotlib.axes._subplots.AxesSubplot at 0x1e7ea09c580>"
      ]
     },
     "execution_count": 19,
     "metadata": {},
     "output_type": "execute_result"
    },
    {
     "data": {
      "image/png": "[encoded data removed]",
      "text/plain": [
       "<Figure size 432x288 with 1 Axes>"
      ]
     },
     "metadata": {
      "needs_background": "light"
     },
     "output_type": "display_data"
    }
   ],
   "source": [
    "sns.distplot(df[\"u\"])\n"
   ]
  },
  {
   "cell_type": "markdown",
   "metadata": {},
   "source": [
    "Response of the \"u\" band of the telescope shows left skewed distribution.\n",
    "\n",
    "It shows the value is Negatively skewed"
   ]
  },
  {
   "cell_type": "code",
   "execution_count": 20,
   "metadata": {},
   "outputs": [
    {
     "data": {
      "text/plain": [
       "<matplotlib.axes._subplots.AxesSubplot at 0x1e7e9feb100>"
      ]
     },
     "execution_count": 20,
     "metadata": {},
     "output_type": "execute_result"
    },
    {
     "data": {
      "image/png": "[encoded data removed]",
      "text/plain": [
       "<Figure size 432x288 with 1 Axes>"
      ]
     },
     "metadata": {
      "needs_background": "light"
     },
     "output_type": "display_data"
    }
   ],
   "source": [
    "sns.distplot(df[\"g\"])\n"
   ]
  },
  {
   "cell_type": "markdown",
   "metadata": {},
   "source": [
    "Response of the \"g\" band of the telescope shows left skewed distribution\n",
    "\n",
    "It shows the value is Negatively skewed\n",
    "\n"
   ]
  },
  {
   "cell_type": "code",
   "execution_count": 21,
   "metadata": {},
   "outputs": [
    {
     "data": {
      "text/plain": [
       "<matplotlib.axes._subplots.AxesSubplot at 0x1e7ea1a36a0>"
      ]
     },
     "execution_count": 21,
     "metadata": {},
     "output_type": "execute_result"
    },
    {
     "data": {
      "image/png": "[encoded data removed]",
      "text/plain": [
       "<Figure size 432x288 with 1 Axes>"
      ]
     },
     "metadata": {
      "needs_background": "light"
     },
     "output_type": "display_data"
    }
   ],
   "source": [
    "sns.distplot(df[\"r\"])"
   ]
  },
  {
   "cell_type": "markdown",
   "metadata": {},
   "source": [
    "Response of the \"r\" band of the telescope shows normal distribution"
   ]
  },
  {
   "cell_type": "code",
   "execution_count": 22,
   "metadata": {},
   "outputs": [
    {
     "data": {
      "text/plain": [
       "<matplotlib.axes._subplots.AxesSubplot at 0x1e7ea331af0>"
      ]
     },
     "execution_count": 22,
     "metadata": {},
     "output_type": "execute_result"
    },
    {
     "data": {
      "image/png": "[encoded data removed]",
      "text/plain": [
       "<Figure size 432x288 with 1 Axes>"
      ]
     },
     "metadata": {
      "needs_background": "light"
     },
     "output_type": "display_data"
    }
   ],
   "source": [
    "sns.distplot(df[\"i\"])"
   ]
  },
  {
   "cell_type": "markdown",
   "metadata": {},
   "source": [
    "Response of the \"i\" band of the telescope shows normal distribution"
   ]
  },
  {
   "cell_type": "code",
   "execution_count": 23,
   "metadata": {},
   "outputs": [
    {
     "data": {
      "text/plain": [
       "<matplotlib.axes._subplots.AxesSubplot at 0x1e7e50b7af0>"
      ]
     },
     "execution_count": 23,
     "metadata": {},
     "output_type": "execute_result"
    },
    {
     "data": {
      "image/png": "[encoded data removed]",
      "text/plain": [
       "<Figure size 432x288 with 1 Axes>"
      ]
     },
     "metadata": {
      "needs_background": "light"
     },
     "output_type": "display_data"
    }
   ],
   "source": [
    "sns.distplot(df[\"z\"])"
   ]
  },
  {
   "cell_type": "markdown",
   "metadata": {},
   "source": [
    "Response of the \"z\" band of the telescope shows normal distribution"
   ]
  },
  {
   "cell_type": "markdown",
   "metadata": {},
   "source": [
    "###### Bivariate Analysis"
   ]
  },
  {
   "cell_type": "code",
   "execution_count": 24,
   "metadata": {},
   "outputs": [
    {
     "data": {
      "text/plain": [
       "<matplotlib.axes._subplots.AxesSubplot at 0x1e7e9f8d850>"
      ]
     },
     "execution_count": 24,
     "metadata": {},
     "output_type": "execute_result"
    },
    {
     "data": {
      "image/png": "[encoded data removed]",
      "text/plain": [
       "<Figure size 432x288 with 1 Axes>"
      ]
     },
     "metadata": {
      "needs_background": "light"
     },
     "output_type": "display_data"
    }
   ],
   "source": [
    "#Class vs redshift\n",
    "sns.scatterplot(x=\"class\",y=\"redshift\",data=df)"
   ]
  },
  {
   "cell_type": "markdown",
   "metadata": {},
   "source": [
    "we observe that QSO has more redshift when compared with GALAXY and STAR"
   ]
  },
  {
   "cell_type": "code",
   "execution_count": 25,
   "metadata": {},
   "outputs": [
    {
     "data": {
      "text/plain": [
       "<matplotlib.axes._subplots.AxesSubplot at 0x1e7ea51cfd0>"
      ]
     },
     "execution_count": 25,
     "metadata": {},
     "output_type": "execute_result"
    },
    {
     "data": {
      "image/png": "[encoded data removed]",
      "text/plain": [
       "<Figure size 432x288 with 1 Axes>"
      ]
     },
     "metadata": {
      "needs_background": "light"
     },
     "output_type": "display_data"
    }
   ],
   "source": [
    "#class vs run\n",
    "sns.barplot (x=\"class\",y=\"run\",data=df)"
   ]
  },
  {
   "cell_type": "markdown",
   "metadata": {},
   "source": [
    "\"run\"(Specified scan) is higher in QSO followed by GALAXY and STAR"
   ]
  },
  {
   "cell_type": "markdown",
   "metadata": {},
   "source": [
    "# Encoding Target Variable"
   ]
  },
  {
   "cell_type": "code",
   "execution_count": 26,
   "metadata": {},
   "outputs": [],
   "source": [
    "#change Target variable \"class\" from object datatype to Numeric\n",
    "df[\"class\"]=df[\"class\"].map({\"STAR\":0,\"GALAXY\":1,\"QSO\":2}).astype(int)"
   ]
  },
  {
   "cell_type": "code",
   "execution_count": 27,
   "metadata": {},
   "outputs": [
    {
     "data": {
      "text/plain": [
       "ra           float64\n",
       "dec          float64\n",
       "u            float64\n",
       "g            float64\n",
       "r            float64\n",
       "i            float64\n",
       "z            float64\n",
       "run            int64\n",
       "camcol         int64\n",
       "field          int64\n",
       "specobjid    float64\n",
       "class          int32\n",
       "redshift     float64\n",
       "plate          int64\n",
       "mjd            int64\n",
       "fiberid        int64\n",
       "dtype: object"
      ]
     },
     "execution_count": 27,
     "metadata": {},
     "output_type": "execute_result"
    }
   ],
   "source": [
    "df.dtypes"
   ]
  },
  {
   "cell_type": "markdown",
   "metadata": {},
   "source": [
    "# CORRELATION"
   ]
  },
  {
   "cell_type": "code",
   "execution_count": 28,
   "metadata": {},
   "outputs": [
    {
     "data": {
      "text/html": [
       "<div>\n",
       "<style scoped>\n",
       "    .dataframe tbody tr th:only-of-type {\n",
       "        vertical-align: middle;\n",
       "    }\n",
       "\n",
       "    .dataframe tbody tr th {\n",
       "        vertical-align: top;\n",
       "    }\n",
       "\n",
       "    .dataframe thead th {\n",
       "        text-align: right;\n",
       "    }\n",
       "</style>\n",
       "<table border=\"1\" class=\"dataframe\">\n",
       "  <thead>\n",
       "    <tr style=\"text-align: right;\">\n",
       "      <th></th>\n",
       "      <th>ra</th>\n",
       "      <th>dec</th>\n",
       "      <th>u</th>\n",
       "      <th>g</th>\n",
       "      <th>r</th>\n",
       "      <th>i</th>\n",
       "      <th>z</th>\n",
       "      <th>run</th>\n",
       "      <th>camcol</th>\n",
       "      <th>field</th>\n",
       "      <th>specobjid</th>\n",
       "      <th>class</th>\n",
       "      <th>redshift</th>\n",
       "      <th>plate</th>\n",
       "      <th>mjd</th>\n",
       "      <th>fiberid</th>\n",
       "    </tr>\n",
       "  </thead>\n",
       "  <tbody>\n",
       "    <tr>\n",
       "      <th>ra</th>\n",
       "      <td>1.00</td>\n",
       "      <td>0.00</td>\n",
       "      <td>0.03</td>\n",
       "      <td>0.04</td>\n",
       "      <td>0.05</td>\n",
       "      <td>0.05</td>\n",
       "      <td>0.04</td>\n",
       "      <td>-0.09</td>\n",
       "      <td>-0.01</td>\n",
       "      <td>0.59</td>\n",
       "      <td>-0.10</td>\n",
       "      <td>0.04</td>\n",
       "      <td>0.03</td>\n",
       "      <td>-0.10</td>\n",
       "      <td>-0.09</td>\n",
       "      <td>0.06</td>\n",
       "    </tr>\n",
       "    <tr>\n",
       "      <th>dec</th>\n",
       "      <td>0.00</td>\n",
       "      <td>1.00</td>\n",
       "      <td>0.04</td>\n",
       "      <td>0.06</td>\n",
       "      <td>0.06</td>\n",
       "      <td>0.06</td>\n",
       "      <td>0.06</td>\n",
       "      <td>0.78</td>\n",
       "      <td>0.11</td>\n",
       "      <td>-0.13</td>\n",
       "      <td>0.09</td>\n",
       "      <td>0.09</td>\n",
       "      <td>0.07</td>\n",
       "      <td>0.09</td>\n",
       "      <td>0.07</td>\n",
       "      <td>0.16</td>\n",
       "    </tr>\n",
       "    <tr>\n",
       "      <th>u</th>\n",
       "      <td>0.03</td>\n",
       "      <td>0.04</td>\n",
       "      <td>1.00</td>\n",
       "      <td>0.85</td>\n",
       "      <td>0.69</td>\n",
       "      <td>0.60</td>\n",
       "      <td>0.55</td>\n",
       "      <td>0.04</td>\n",
       "      <td>0.01</td>\n",
       "      <td>0.01</td>\n",
       "      <td>-0.13</td>\n",
       "      <td>0.28</td>\n",
       "      <td>0.16</td>\n",
       "      <td>-0.13</td>\n",
       "      <td>-0.17</td>\n",
       "      <td>0.01</td>\n",
       "    </tr>\n",
       "    <tr>\n",
       "      <th>g</th>\n",
       "      <td>0.04</td>\n",
       "      <td>0.06</td>\n",
       "      <td>0.85</td>\n",
       "      <td>1.00</td>\n",
       "      <td>0.96</td>\n",
       "      <td>0.91</td>\n",
       "      <td>0.88</td>\n",
       "      <td>0.06</td>\n",
       "      <td>0.01</td>\n",
       "      <td>0.01</td>\n",
       "      <td>-0.05</td>\n",
       "      <td>0.36</td>\n",
       "      <td>0.41</td>\n",
       "      <td>-0.05</td>\n",
       "      <td>-0.09</td>\n",
       "      <td>0.05</td>\n",
       "    </tr>\n",
       "    <tr>\n",
       "      <th>r</th>\n",
       "      <td>0.05</td>\n",
       "      <td>0.06</td>\n",
       "      <td>0.69</td>\n",
       "      <td>0.96</td>\n",
       "      <td>1.00</td>\n",
       "      <td>0.98</td>\n",
       "      <td>0.97</td>\n",
       "      <td>0.06</td>\n",
       "      <td>0.01</td>\n",
       "      <td>0.02</td>\n",
       "      <td>0.02</td>\n",
       "      <td>0.28</td>\n",
       "      <td>0.44</td>\n",
       "      <td>0.02</td>\n",
       "      <td>-0.01</td>\n",
       "      <td>0.06</td>\n",
       "    </tr>\n",
       "    <tr>\n",
       "      <th>i</th>\n",
       "      <td>0.05</td>\n",
       "      <td>0.06</td>\n",
       "      <td>0.60</td>\n",
       "      <td>0.91</td>\n",
       "      <td>0.98</td>\n",
       "      <td>1.00</td>\n",
       "      <td>0.98</td>\n",
       "      <td>0.05</td>\n",
       "      <td>0.01</td>\n",
       "      <td>0.02</td>\n",
       "      <td>0.07</td>\n",
       "      <td>0.21</td>\n",
       "      <td>0.43</td>\n",
       "      <td>0.07</td>\n",
       "      <td>0.05</td>\n",
       "      <td>0.07</td>\n",
       "    </tr>\n",
       "    <tr>\n",
       "      <th>z</th>\n",
       "      <td>0.04</td>\n",
       "      <td>0.06</td>\n",
       "      <td>0.55</td>\n",
       "      <td>0.88</td>\n",
       "      <td>0.97</td>\n",
       "      <td>0.98</td>\n",
       "      <td>1.00</td>\n",
       "      <td>0.05</td>\n",
       "      <td>0.01</td>\n",
       "      <td>0.02</td>\n",
       "      <td>0.11</td>\n",
       "      <td>0.15</td>\n",
       "      <td>0.42</td>\n",
       "      <td>0.11</td>\n",
       "      <td>0.10</td>\n",
       "      <td>0.07</td>\n",
       "    </tr>\n",
       "    <tr>\n",
       "      <th>run</th>\n",
       "      <td>-0.09</td>\n",
       "      <td>0.78</td>\n",
       "      <td>0.04</td>\n",
       "      <td>0.06</td>\n",
       "      <td>0.06</td>\n",
       "      <td>0.05</td>\n",
       "      <td>0.05</td>\n",
       "      <td>1.00</td>\n",
       "      <td>0.15</td>\n",
       "      <td>-0.46</td>\n",
       "      <td>0.09</td>\n",
       "      <td>0.10</td>\n",
       "      <td>0.06</td>\n",
       "      <td>0.09</td>\n",
       "      <td>0.07</td>\n",
       "      <td>0.14</td>\n",
       "    </tr>\n",
       "    <tr>\n",
       "      <th>camcol</th>\n",
       "      <td>-0.01</td>\n",
       "      <td>0.11</td>\n",
       "      <td>0.01</td>\n",
       "      <td>0.01</td>\n",
       "      <td>0.01</td>\n",
       "      <td>0.01</td>\n",
       "      <td>0.01</td>\n",
       "      <td>0.15</td>\n",
       "      <td>1.00</td>\n",
       "      <td>-0.07</td>\n",
       "      <td>0.04</td>\n",
       "      <td>0.01</td>\n",
       "      <td>0.01</td>\n",
       "      <td>0.04</td>\n",
       "      <td>0.03</td>\n",
       "      <td>0.54</td>\n",
       "    </tr>\n",
       "    <tr>\n",
       "      <th>field</th>\n",
       "      <td>0.59</td>\n",
       "      <td>-0.13</td>\n",
       "      <td>0.01</td>\n",
       "      <td>0.01</td>\n",
       "      <td>0.02</td>\n",
       "      <td>0.02</td>\n",
       "      <td>0.02</td>\n",
       "      <td>-0.46</td>\n",
       "      <td>-0.07</td>\n",
       "      <td>1.00</td>\n",
       "      <td>-0.09</td>\n",
       "      <td>-0.00</td>\n",
       "      <td>0.02</td>\n",
       "      <td>-0.09</td>\n",
       "      <td>-0.09</td>\n",
       "      <td>-0.04</td>\n",
       "    </tr>\n",
       "    <tr>\n",
       "      <th>specobjid</th>\n",
       "      <td>-0.10</td>\n",
       "      <td>0.09</td>\n",
       "      <td>-0.13</td>\n",
       "      <td>-0.05</td>\n",
       "      <td>0.02</td>\n",
       "      <td>0.07</td>\n",
       "      <td>0.11</td>\n",
       "      <td>0.09</td>\n",
       "      <td>0.04</td>\n",
       "      <td>-0.09</td>\n",
       "      <td>1.00</td>\n",
       "      <td>-0.47</td>\n",
       "      <td>-0.04</td>\n",
       "      <td>1.00</td>\n",
       "      <td>0.97</td>\n",
       "      <td>0.23</td>\n",
       "    </tr>\n",
       "    <tr>\n",
       "      <th>class</th>\n",
       "      <td>0.04</td>\n",
       "      <td>0.09</td>\n",
       "      <td>0.28</td>\n",
       "      <td>0.36</td>\n",
       "      <td>0.28</td>\n",
       "      <td>0.21</td>\n",
       "      <td>0.15</td>\n",
       "      <td>0.10</td>\n",
       "      <td>0.01</td>\n",
       "      <td>-0.00</td>\n",
       "      <td>-0.47</td>\n",
       "      <td>1.00</td>\n",
       "      <td>0.62</td>\n",
       "      <td>-0.47</td>\n",
       "      <td>-0.53</td>\n",
       "      <td>-0.01</td>\n",
       "    </tr>\n",
       "    <tr>\n",
       "      <th>redshift</th>\n",
       "      <td>0.03</td>\n",
       "      <td>0.07</td>\n",
       "      <td>0.16</td>\n",
       "      <td>0.41</td>\n",
       "      <td>0.44</td>\n",
       "      <td>0.43</td>\n",
       "      <td>0.42</td>\n",
       "      <td>0.06</td>\n",
       "      <td>0.01</td>\n",
       "      <td>0.02</td>\n",
       "      <td>-0.04</td>\n",
       "      <td>0.62</td>\n",
       "      <td>1.00</td>\n",
       "      <td>-0.04</td>\n",
       "      <td>-0.06</td>\n",
       "      <td>0.05</td>\n",
       "    </tr>\n",
       "    <tr>\n",
       "      <th>plate</th>\n",
       "      <td>-0.10</td>\n",
       "      <td>0.09</td>\n",
       "      <td>-0.13</td>\n",
       "      <td>-0.05</td>\n",
       "      <td>0.02</td>\n",
       "      <td>0.07</td>\n",
       "      <td>0.11</td>\n",
       "      <td>0.09</td>\n",
       "      <td>0.04</td>\n",
       "      <td>-0.09</td>\n",
       "      <td>1.00</td>\n",
       "      <td>-0.47</td>\n",
       "      <td>-0.04</td>\n",
       "      <td>1.00</td>\n",
       "      <td>0.97</td>\n",
       "      <td>0.23</td>\n",
       "    </tr>\n",
       "    <tr>\n",
       "      <th>mjd</th>\n",
       "      <td>-0.09</td>\n",
       "      <td>0.07</td>\n",
       "      <td>-0.17</td>\n",
       "      <td>-0.09</td>\n",
       "      <td>-0.01</td>\n",
       "      <td>0.05</td>\n",
       "      <td>0.10</td>\n",
       "      <td>0.07</td>\n",
       "      <td>0.03</td>\n",
       "      <td>-0.09</td>\n",
       "      <td>0.97</td>\n",
       "      <td>-0.53</td>\n",
       "      <td>-0.06</td>\n",
       "      <td>0.97</td>\n",
       "      <td>1.00</td>\n",
       "      <td>0.19</td>\n",
       "    </tr>\n",
       "    <tr>\n",
       "      <th>fiberid</th>\n",
       "      <td>0.06</td>\n",
       "      <td>0.16</td>\n",
       "      <td>0.01</td>\n",
       "      <td>0.05</td>\n",
       "      <td>0.06</td>\n",
       "      <td>0.07</td>\n",
       "      <td>0.07</td>\n",
       "      <td>0.14</td>\n",
       "      <td>0.54</td>\n",
       "      <td>-0.04</td>\n",
       "      <td>0.23</td>\n",
       "      <td>-0.01</td>\n",
       "      <td>0.05</td>\n",
       "      <td>0.23</td>\n",
       "      <td>0.19</td>\n",
       "      <td>1.00</td>\n",
       "    </tr>\n",
       "  </tbody>\n",
       "</table>\n",
       "</div>"
      ],
      "text/plain": [
       "             ra   dec     u     g     r    i    z   run  camcol  field  \\\n",
       "ra         1.00  0.00  0.03  0.04  0.05 0.05 0.04 -0.09   -0.01   0.59   \n",
       "dec        0.00  1.00  0.04  0.06  0.06 0.06 0.06  0.78    0.11  -0.13   \n",
       "u          0.03  0.04  1.00  0.85  0.69 0.60 0.55  0.04    0.01   0.01   \n",
       "g          0.04  0.06  0.85  1.00  0.96 0.91 0.88  0.06    0.01   0.01   \n",
       "r          0.05  0.06  0.69  0.96  1.00 0.98 0.97  0.06    0.01   0.02   \n",
       "i          0.05  0.06  0.60  0.91  0.98 1.00 0.98  0.05    0.01   0.02   \n",
       "z          0.04  0.06  0.55  0.88  0.97 0.98 1.00  0.05    0.01   0.02   \n",
       "run       -0.09  0.78  0.04  0.06  0.06 0.05 0.05  1.00    0.15  -0.46   \n",
       "camcol    -0.01  0.11  0.01  0.01  0.01 0.01 0.01  0.15    1.00  -0.07   \n",
       "field      0.59 -0.13  0.01  0.01  0.02 0.02 0.02 -0.46   -0.07   1.00   \n",
       "specobjid -0.10  0.09 -0.13 -0.05  0.02 0.07 0.11  0.09    0.04  -0.09   \n",
       "class      0.04  0.09  0.28  0.36  0.28 0.21 0.15  0.10    0.01  -0.00   \n",
       "redshift   0.03  0.07  0.16  0.41  0.44 0.43 0.42  0.06    0.01   0.02   \n",
       "plate     -0.10  0.09 -0.13 -0.05  0.02 0.07 0.11  0.09    0.04  -0.09   \n",
       "mjd       -0.09  0.07 -0.17 -0.09 -0.01 0.05 0.10  0.07    0.03  -0.09   \n",
       "fiberid    0.06  0.16  0.01  0.05  0.06 0.07 0.07  0.14    0.54  -0.04   \n",
       "\n",
       "           specobjid  class  redshift  plate   mjd  fiberid  \n",
       "ra             -0.10   0.04      0.03  -0.10 -0.09     0.06  \n",
       "dec             0.09   0.09      0.07   0.09  0.07     0.16  \n",
       "u              -0.13   0.28      0.16  -0.13 -0.17     0.01  \n",
       "g              -0.05   0.36      0.41  -0.05 -0.09     0.05  \n",
       "r               0.02   0.28      0.44   0.02 -0.01     0.06  \n",
       "i               0.07   0.21      0.43   0.07  0.05     0.07  \n",
       "z               0.11   0.15      0.42   0.11  0.10     0.07  \n",
       "run             0.09   0.10      0.06   0.09  0.07     0.14  \n",
       "camcol          0.04   0.01      0.01   0.04  0.03     0.54  \n",
       "field          -0.09  -0.00      0.02  -0.09 -0.09    -0.04  \n",
       "specobjid       1.00  -0.47     -0.04   1.00  0.97     0.23  \n",
       "class          -0.47   1.00      0.62  -0.47 -0.53    -0.01  \n",
       "redshift       -0.04   0.62      1.00  -0.04 -0.06     0.05  \n",
       "plate           1.00  -0.47     -0.04   1.00  0.97     0.23  \n",
       "mjd             0.97  -0.53     -0.06   0.97  1.00     0.19  \n",
       "fiberid         0.23  -0.01      0.05   0.23  0.19     1.00  "
      ]
     },
     "execution_count": 28,
     "metadata": {},
     "output_type": "execute_result"
    }
   ],
   "source": [
    "cor=df.corr()\n",
    "cor"
   ]
  },
  {
   "cell_type": "code",
   "execution_count": 29,
   "metadata": {},
   "outputs": [
    {
     "data": {
      "text/plain": [
       "<matplotlib.axes._subplots.AxesSubplot at 0x1e7e9fdb640>"
      ]
     },
     "execution_count": 29,
     "metadata": {},
     "output_type": "execute_result"
    },
    {
     "data": {
      "image/png": "[encoded data removed]",
      "text/plain": [
       "<Figure size 864x864 with 2 Axes>"
      ]
     },
     "metadata": {
      "needs_background": "light"
     },
     "output_type": "display_data"
    }
   ],
   "source": [
    "import seaborn as sns\n",
    "import matplotlib.pyplot as plt\n",
    "plt.figure(figsize=(12,12))\n",
    "sns.heatmap((cor),annot=True)"
   ]
  },
  {
   "cell_type": "markdown",
   "metadata": {},
   "source": [
    "KEY OBSERVATION:"
   ]
  },
  {
   "cell_type": "markdown",
   "metadata": {},
   "source": [
    "from the above result it is clear that some columns making positive correlation while some has negative correlation to the target variable "
   ]
  },
  {
   "cell_type": "markdown",
   "metadata": {},
   "source": [
    "columns making positive correlation\n",
    "\n",
    "1)ra\n",
    "\n",
    "2)dec\n",
    "\n",
    "3)u\n",
    "\n",
    "4)g \n",
    "\n",
    "5)r  \n",
    "\n",
    "6)i\n",
    "\n",
    "7)z\n",
    "\n",
    "8)run\n",
    "\n",
    "9)camcol\n",
    "\n",
    "10)field\n",
    "\n",
    "11)redshift"
   ]
  },
  {
   "cell_type": "markdown",
   "metadata": {},
   "source": [
    "columns making negative correlation\n",
    "\n",
    "1)specobjid\n",
    "\n",
    "2)plate\n",
    "\n",
    "3)mjd\n",
    "\n",
    "4)fiberid\n",
    "\n",
    "                 \n",
    "                  \n",
    "\n",
    "\n"
   ]
  },
  {
   "cell_type": "markdown",
   "metadata": {},
   "source": [
    "# DATA CLEANING"
   ]
  },
  {
   "cell_type": "code",
   "execution_count": 30,
   "metadata": {},
   "outputs": [],
   "source": [
    "#Dropping columns which are not related\n",
    "df.drop(columns=[\"specobjid\",\"plate\",\"mjd\",\"fiberid\"],inplace=True)"
   ]
  },
  {
   "cell_type": "markdown",
   "metadata": {},
   "source": [
    "### Finding Outliers"
   ]
  },
  {
   "cell_type": "code",
   "execution_count": 31,
   "metadata": {},
   "outputs": [
    {
     "data": {
      "image/png": "[encoded data removed]",
      "text/plain": [
       "<Figure size 3240x2160 with 12 Axes>"
      ]
     },
     "metadata": {
      "needs_background": "light"
     },
     "output_type": "display_data"
    }
   ],
   "source": [
    "#Plotting Outliers\n",
    "collist=df.columns.values\n",
    "ncol=30\n",
    "nrow=15\n",
    "plt.figure(figsize=(3*nrow,ncol))\n",
    "for i in range (0,len(collist)):\n",
    "    plt.subplot(nrow,ncol,i+1)\n",
    "    sns.boxplot(df[collist[i]],color=\"yellow\",orient=\"v\")\n",
    "    plt.tight_layout()               "
   ]
  },
  {
   "cell_type": "markdown",
   "metadata": {},
   "source": [
    "we find outliers in most of the columns"
   ]
  },
  {
   "cell_type": "markdown",
   "metadata": {},
   "source": [
    "### Treating Outliers"
   ]
  },
  {
   "cell_type": "code",
   "execution_count": 32,
   "metadata": {},
   "outputs": [
    {
     "data": {
      "text/plain": [
       "array([[0.16745842, 0.58492272, 1.03148637, ..., 0.21763043, 1.07093597,\n",
       "        0.36973112],\n",
       "       [0.16886159, 0.58311429, 0.05243046, ..., 0.21763043, 1.07093597,\n",
       "        0.36984929],\n",
       "       [0.17057433, 0.58347525, 0.92156796, ..., 0.21147922, 0.52795321,\n",
       "        0.05302706],\n",
       "       ...,\n",
       "       [0.92039468, 1.46090664, 0.16753826, ..., 0.86350751, 1.07093597,\n",
       "        0.37074104],\n",
       "       [0.92197294, 1.46432109, 0.31801835, ..., 0.8573563 , 0.52795321,\n",
       "        0.33364691],\n",
       "       [0.91804124, 1.46639319, 0.79229193, ..., 0.8573563 , 0.52795321,\n",
       "        0.06510125]])"
      ]
     },
     "execution_count": 32,
     "metadata": {},
     "output_type": "execute_result"
    }
   ],
   "source": [
    "#using z-score technique\n",
    "#Removing Outliers\n",
    "#Z-score Techinique\n",
    "from scipy.stats import zscore\n",
    "z=np.abs(zscore(df))\n",
    "z\n"
   ]
  },
  {
   "cell_type": "code",
   "execution_count": 33,
   "metadata": {},
   "outputs": [
    {
     "name": "stdout",
     "output_type": "stream",
     "text": [
      "(array([  45,  109,  129, ..., 9929, 9940, 9956], dtype=int64), array([11, 11, 11, ...,  2, 11, 11], dtype=int64))\n"
     ]
    }
   ],
   "source": [
    "threshold=3\n",
    "print(np.where(z>3))"
   ]
  },
  {
   "cell_type": "code",
   "execution_count": 34,
   "metadata": {},
   "outputs": [
    {
     "data": {
      "text/plain": [
       "(10000, 12)"
      ]
     },
     "execution_count": 34,
     "metadata": {},
     "output_type": "execute_result"
    }
   ],
   "source": [
    "df.shape"
   ]
  },
  {
   "cell_type": "code",
   "execution_count": 35,
   "metadata": {},
   "outputs": [
    {
     "data": {
      "text/plain": [
       "(9097, 12)"
      ]
     },
     "execution_count": 35,
     "metadata": {},
     "output_type": "execute_result"
    }
   ],
   "source": [
    "df_new=df[(z<3).all(axis=1)]\n",
    "df_new.shape"
   ]
  },
  {
   "cell_type": "code",
   "execution_count": 36,
   "metadata": {},
   "outputs": [
    {
     "data": {
      "text/plain": [
       "9.030000000000001"
      ]
     },
     "execution_count": 36,
     "metadata": {},
     "output_type": "execute_result"
    }
   ],
   "source": [
    "#Percentage loss\n",
    "loss=(10000-9097)/10000*100\n",
    "loss"
   ]
  },
  {
   "cell_type": "markdown",
   "metadata": {},
   "source": [
    "### finding skewness"
   ]
  },
  {
   "cell_type": "code",
   "execution_count": 37,
   "metadata": {},
   "outputs": [
    {
     "data": {
      "text/plain": [
       "ra         -0.22\n",
       "dec         1.18\n",
       "u          -0.98\n",
       "g          -0.53\n",
       "r          -0.15\n",
       "i           0.05\n",
       "z           0.16\n",
       "run         0.44\n",
       "camcol     -0.16\n",
       "field       0.23\n",
       "class       0.27\n",
       "redshift    4.95\n",
       "dtype: float64"
      ]
     },
     "execution_count": 37,
     "metadata": {},
     "output_type": "execute_result"
    }
   ],
   "source": [
    "df_new.skew()"
   ]
  },
  {
   "cell_type": "markdown",
   "metadata": {},
   "source": [
    "Range of Skewness is (+/- 0.55)\n",
    "from the above observation the following columns falls under high skewness\n",
    "\n",
    "1) dec\n",
    "\n",
    "2) redshift\n",
    "\n",
    "3) u\n",
    "\n",
    "\n"
   ]
  },
  {
   "cell_type": "code",
   "execution_count": 38,
   "metadata": {},
   "outputs": [],
   "source": [
    "#Skewness treatment\n",
    "#treating using log\n",
    "threshold=0.55\n",
    "import numpy as np\n",
    "for i in df_new.columns:\n",
    "    if df[i].skew()>0.55:\n",
    "        df[i]=np.log1p(df[i])\n",
    "    "
   ]
  },
  {
   "cell_type": "code",
   "execution_count": 39,
   "metadata": {},
   "outputs": [
    {
     "data": {
      "text/plain": [
       "ra         -0.22\n",
       "dec         1.18\n",
       "u          -0.98\n",
       "g          -0.53\n",
       "r          -0.15\n",
       "i           0.05\n",
       "z           0.16\n",
       "run         0.44\n",
       "camcol     -0.16\n",
       "field       0.23\n",
       "class       0.27\n",
       "redshift    4.95\n",
       "dtype: float64"
      ]
     },
     "execution_count": 39,
     "metadata": {},
     "output_type": "execute_result"
    }
   ],
   "source": [
    "#after Skewness Removed\n",
    "df_new.skew()"
   ]
  },
  {
   "cell_type": "markdown",
   "metadata": {},
   "source": [
    "# Seperating Target Variable\n"
   ]
  },
  {
   "cell_type": "code",
   "execution_count": 40,
   "metadata": {},
   "outputs": [],
   "source": [
    "x_l=df_new.drop([\"class\"],axis=1)\n",
    "y=df_new[\"class\"]"
   ]
  },
  {
   "cell_type": "markdown",
   "metadata": {},
   "source": [
    "# Scaling Input Variable"
   ]
  },
  {
   "cell_type": "code",
   "execution_count": 41,
   "metadata": {},
   "outputs": [
    {
     "data": {
      "text/plain": [
       "array([[ 0.04916759, -0.57101034,  1.07690461, ...,  0.18131364,\n",
       "        -0.26995466, -0.44974143],\n",
       "       [ 0.05098843, -0.56922957,  0.03761941, ...,  0.18131364,\n",
       "        -0.26995466, -0.45001456],\n",
       "       [ 0.053211  , -0.569585  ,  0.96022427, ...,  0.18131364,\n",
       "        -0.26370923,  0.28225668],\n",
       "       ...,\n",
       "       [-1.36249802,  1.44353856,  0.15980837, ..., -0.41435634,\n",
       "        -0.92572468, -0.45207567],\n",
       "       [-1.36454607,  1.4469008 ,  0.31954566, ..., -0.41435634,\n",
       "        -0.91947925, -0.36634001],\n",
       "       [-1.35944405,  1.44894122,  0.82299547, ..., -0.41435634,\n",
       "        -0.91947925,  0.25434958]])"
      ]
     },
     "execution_count": 41,
     "metadata": {},
     "output_type": "execute_result"
    }
   ],
   "source": [
    "# Algorithms requires all features to be on common scale. \n",
    "#using Standard Scaler\n",
    "from sklearn.preprocessing import StandardScaler\n",
    "sc=StandardScaler()\n",
    "x=sc.fit_transform(x_l)\n",
    "x\n"
   ]
  },
  {
   "cell_type": "code",
   "execution_count": 62,
   "metadata": {},
   "outputs": [
    {
     "data": {
      "text/html": [
       "<div>\n",
       "<style scoped>\n",
       "    .dataframe tbody tr th:only-of-type {\n",
       "        vertical-align: middle;\n",
       "    }\n",
       "\n",
       "    .dataframe tbody tr th {\n",
       "        vertical-align: top;\n",
       "    }\n",
       "\n",
       "    .dataframe thead th {\n",
       "        text-align: right;\n",
       "    }\n",
       "</style>\n",
       "<table border=\"1\" class=\"dataframe\">\n",
       "  <thead>\n",
       "    <tr style=\"text-align: right;\">\n",
       "      <th></th>\n",
       "      <th>ra</th>\n",
       "      <th>dec</th>\n",
       "      <th>u</th>\n",
       "      <th>g</th>\n",
       "      <th>r</th>\n",
       "      <th>i</th>\n",
       "      <th>z</th>\n",
       "      <th>run</th>\n",
       "      <th>camcol</th>\n",
       "      <th>field</th>\n",
       "      <th>class</th>\n",
       "      <th>redshift</th>\n",
       "    </tr>\n",
       "  </thead>\n",
       "  <tbody>\n",
       "    <tr>\n",
       "      <th>0</th>\n",
       "      <td>183.53</td>\n",
       "      <td>0.09</td>\n",
       "      <td>19.47</td>\n",
       "      <td>17.04</td>\n",
       "      <td>15.95</td>\n",
       "      <td>15.50</td>\n",
       "      <td>15.23</td>\n",
       "      <td>752</td>\n",
       "      <td>4</td>\n",
       "      <td>267</td>\n",
       "      <td>0</td>\n",
       "      <td>-0.00</td>\n",
       "    </tr>\n",
       "    <tr>\n",
       "      <th>1</th>\n",
       "      <td>183.60</td>\n",
       "      <td>0.13</td>\n",
       "      <td>18.66</td>\n",
       "      <td>17.21</td>\n",
       "      <td>16.68</td>\n",
       "      <td>16.49</td>\n",
       "      <td>16.39</td>\n",
       "      <td>752</td>\n",
       "      <td>4</td>\n",
       "      <td>267</td>\n",
       "      <td>0</td>\n",
       "      <td>-0.00</td>\n",
       "    </tr>\n",
       "    <tr>\n",
       "      <th>2</th>\n",
       "      <td>183.68</td>\n",
       "      <td>0.12</td>\n",
       "      <td>19.38</td>\n",
       "      <td>18.19</td>\n",
       "      <td>17.47</td>\n",
       "      <td>17.09</td>\n",
       "      <td>16.80</td>\n",
       "      <td>752</td>\n",
       "      <td>4</td>\n",
       "      <td>268</td>\n",
       "      <td>1</td>\n",
       "      <td>0.12</td>\n",
       "    </tr>\n",
       "    <tr>\n",
       "      <th>3</th>\n",
       "      <td>183.87</td>\n",
       "      <td>0.05</td>\n",
       "      <td>17.77</td>\n",
       "      <td>16.60</td>\n",
       "      <td>16.16</td>\n",
       "      <td>15.98</td>\n",
       "      <td>15.90</td>\n",
       "      <td>752</td>\n",
       "      <td>4</td>\n",
       "      <td>269</td>\n",
       "      <td>0</td>\n",
       "      <td>-0.00</td>\n",
       "    </tr>\n",
       "    <tr>\n",
       "      <th>4</th>\n",
       "      <td>183.88</td>\n",
       "      <td>0.10</td>\n",
       "      <td>17.55</td>\n",
       "      <td>16.26</td>\n",
       "      <td>16.44</td>\n",
       "      <td>16.55</td>\n",
       "      <td>16.61</td>\n",
       "      <td>752</td>\n",
       "      <td>4</td>\n",
       "      <td>269</td>\n",
       "      <td>0</td>\n",
       "      <td>0.00</td>\n",
       "    </tr>\n",
       "    <tr>\n",
       "      <th>...</th>\n",
       "      <td>...</td>\n",
       "      <td>...</td>\n",
       "      <td>...</td>\n",
       "      <td>...</td>\n",
       "      <td>...</td>\n",
       "      <td>...</td>\n",
       "      <td>...</td>\n",
       "      <td>...</td>\n",
       "      <td>...</td>\n",
       "      <td>...</td>\n",
       "      <td>...</td>\n",
       "      <td>...</td>\n",
       "    </tr>\n",
       "    <tr>\n",
       "      <th>9995</th>\n",
       "      <td>131.32</td>\n",
       "      <td>3.96</td>\n",
       "      <td>18.82</td>\n",
       "      <td>17.47</td>\n",
       "      <td>16.92</td>\n",
       "      <td>16.68</td>\n",
       "      <td>16.51</td>\n",
       "      <td>1345</td>\n",
       "      <td>3</td>\n",
       "      <td>161</td>\n",
       "      <td>1</td>\n",
       "      <td>0.03</td>\n",
       "    </tr>\n",
       "    <tr>\n",
       "      <th>9996</th>\n",
       "      <td>131.31</td>\n",
       "      <td>3.96</td>\n",
       "      <td>18.27</td>\n",
       "      <td>17.44</td>\n",
       "      <td>17.08</td>\n",
       "      <td>16.72</td>\n",
       "      <td>16.70</td>\n",
       "      <td>1345</td>\n",
       "      <td>3</td>\n",
       "      <td>162</td>\n",
       "      <td>1</td>\n",
       "      <td>0.11</td>\n",
       "    </tr>\n",
       "    <tr>\n",
       "      <th>9997</th>\n",
       "      <td>131.55</td>\n",
       "      <td>3.96</td>\n",
       "      <td>18.76</td>\n",
       "      <td>17.78</td>\n",
       "      <td>17.52</td>\n",
       "      <td>17.43</td>\n",
       "      <td>17.42</td>\n",
       "      <td>1345</td>\n",
       "      <td>3</td>\n",
       "      <td>162</td>\n",
       "      <td>0</td>\n",
       "      <td>-0.00</td>\n",
       "    </tr>\n",
       "    <tr>\n",
       "      <th>9998</th>\n",
       "      <td>131.48</td>\n",
       "      <td>3.97</td>\n",
       "      <td>18.88</td>\n",
       "      <td>17.91</td>\n",
       "      <td>17.53</td>\n",
       "      <td>17.36</td>\n",
       "      <td>17.14</td>\n",
       "      <td>1345</td>\n",
       "      <td>3</td>\n",
       "      <td>163</td>\n",
       "      <td>1</td>\n",
       "      <td>0.01</td>\n",
       "    </tr>\n",
       "    <tr>\n",
       "      <th>9999</th>\n",
       "      <td>131.67</td>\n",
       "      <td>3.97</td>\n",
       "      <td>19.28</td>\n",
       "      <td>17.38</td>\n",
       "      <td>16.31</td>\n",
       "      <td>15.84</td>\n",
       "      <td>15.51</td>\n",
       "      <td>1345</td>\n",
       "      <td>3</td>\n",
       "      <td>163</td>\n",
       "      <td>1</td>\n",
       "      <td>0.11</td>\n",
       "    </tr>\n",
       "  </tbody>\n",
       "</table>\n",
       "<p>10000 rows × 12 columns</p>\n",
       "</div>"
      ],
      "text/plain": [
       "         ra  dec     u     g     r     i     z   run  camcol  field  class  \\\n",
       "0    183.53 0.09 19.47 17.04 15.95 15.50 15.23   752       4    267      0   \n",
       "1    183.60 0.13 18.66 17.21 16.68 16.49 16.39   752       4    267      0   \n",
       "2    183.68 0.12 19.38 18.19 17.47 17.09 16.80   752       4    268      1   \n",
       "3    183.87 0.05 17.77 16.60 16.16 15.98 15.90   752       4    269      0   \n",
       "4    183.88 0.10 17.55 16.26 16.44 16.55 16.61   752       4    269      0   \n",
       "...     ...  ...   ...   ...   ...   ...   ...   ...     ...    ...    ...   \n",
       "9995 131.32 3.96 18.82 17.47 16.92 16.68 16.51  1345       3    161      1   \n",
       "9996 131.31 3.96 18.27 17.44 17.08 16.72 16.70  1345       3    162      1   \n",
       "9997 131.55 3.96 18.76 17.78 17.52 17.43 17.42  1345       3    162      0   \n",
       "9998 131.48 3.97 18.88 17.91 17.53 17.36 17.14  1345       3    163      1   \n",
       "9999 131.67 3.97 19.28 17.38 16.31 15.84 15.51  1345       3    163      1   \n",
       "\n",
       "      redshift  \n",
       "0        -0.00  \n",
       "1        -0.00  \n",
       "2         0.12  \n",
       "3        -0.00  \n",
       "4         0.00  \n",
       "...        ...  \n",
       "9995      0.03  \n",
       "9996      0.11  \n",
       "9997     -0.00  \n",
       "9998      0.01  \n",
       "9999      0.11  \n",
       "\n",
       "[10000 rows x 12 columns]"
      ]
     },
     "execution_count": 62,
     "metadata": {},
     "output_type": "execute_result"
    }
   ],
   "source": [
    "df"
   ]
  },
  {
   "cell_type": "markdown",
   "metadata": {},
   "source": [
    "# preparing dataset for model training\n"
   ]
  },
  {
   "cell_type": "markdown",
   "metadata": {},
   "source": [
    "#### splitting the testing and training data"
   ]
  },
  {
   "cell_type": "code",
   "execution_count": 42,
   "metadata": {},
   "outputs": [],
   "source": [
    "#importing Libraries\n",
    "from sklearn.model_selection import train_test_split\n",
    "from sklearn.metrics import accuracy_score"
   ]
  },
  {
   "cell_type": "code",
   "execution_count": 43,
   "metadata": {},
   "outputs": [],
   "source": [
    "x_train,x_test,y_train,y_test=train_test_split(x,y,test_size=.20,random_state=42)"
   ]
  },
  {
   "cell_type": "code",
   "execution_count": 44,
   "metadata": {},
   "outputs": [
    {
     "name": "stdout",
     "output_type": "stream",
     "text": [
      "(7277, 11) \t (1820, 11)\n"
     ]
    }
   ],
   "source": [
    "print(x_train.shape,\"\\t\",x_test.shape)"
   ]
  },
  {
   "cell_type": "markdown",
   "metadata": {},
   "source": [
    "# Selecting Best Model"
   ]
  },
  {
   "cell_type": "markdown",
   "metadata": {},
   "source": [
    "### finding best model\n",
    "\n",
    "Popular algorithms that can be used for multi-class classification include:\n",
    "\n",
    "1)k-Nearest Neighbors.\n",
    "\n",
    "2)Decision Trees.\n",
    "\n",
    "3)Support Vector Machine\n",
    "\n",
    "4)Naive Bayes.\n",
    "\n",
    "4)Random Forest classifier\n",
    "\n",
    "6)Gradient Boosting"
   ]
  },
  {
   "cell_type": "code",
   "execution_count": 45,
   "metadata": {},
   "outputs": [],
   "source": [
    "#importing our model library\n",
    "from sklearn.neighbors import KNeighborsClassifier\n",
    "knn=KNeighborsClassifier()\n",
    "from sklearn.tree import DecisionTreeClassifier\n",
    "dt=DecisionTreeClassifier()\n",
    "from sklearn.svm import SVC\n",
    "svc=SVC()\n",
    "from sklearn.naive_bayes import GaussianNB\n",
    "nb=GaussianNB\n",
    "from sklearn.ensemble import RandomForestClassifier\n",
    "rf=RandomForestClassifier()\n",
    "from sklearn.ensemble import GradientBoostingClassifier\n",
    "gb=GradientBoostingClassifier()\n"
   ]
  },
  {
   "cell_type": "markdown",
   "metadata": {},
   "source": [
    "#### using Algorithms via for loop"
   ]
  },
  {
   "cell_type": "code",
   "execution_count": 46,
   "metadata": {},
   "outputs": [
    {
     "name": "stdout",
     "output_type": "stream",
     "text": [
      "the score of  KNeighborsClassifier() is\n",
      "training accuracy score  : 92.51064999312904\n",
      "testing accuracy score  : 87.85714285714286\n",
      "*********************************************************************\n",
      "\n",
      "\n",
      "\n",
      "the score of  DecisionTreeClassifier() is\n",
      "training accuracy score  : 100.0\n",
      "testing accuracy score  : 98.46153846153847\n",
      "*********************************************************************\n",
      "\n",
      "\n",
      "\n",
      "the score of  SVC() is\n",
      "training accuracy score  : 97.58142091521232\n",
      "testing accuracy score  : 96.97802197802197\n",
      "*********************************************************************\n",
      "\n",
      "\n",
      "\n",
      "the score of  RandomForestClassifier() is\n",
      "training accuracy score  : 100.0\n",
      "testing accuracy score  : 98.46153846153847\n",
      "*********************************************************************\n",
      "\n",
      "\n",
      "\n",
      "the score of  GradientBoostingClassifier() is\n",
      "training accuracy score  : 99.86258073381889\n",
      "testing accuracy score  : 98.73626373626374\n",
      "*********************************************************************\n",
      "\n",
      "\n",
      "\n"
     ]
    }
   ],
   "source": [
    "model=[knn,dt,svc,rf,gb]\n",
    "for m in model:\n",
    "    m.fit(x_train,y_train)\n",
    "    pred_train=m.predict(x_train)\n",
    "    pred_test=m.predict(x_test)\n",
    "    print(\"the score of \",m,\"is\")\n",
    "    print(\"training accuracy score  :\",accuracy_score(y_train,pred_train)*100)\n",
    "    print(\"testing accuracy score  :\",accuracy_score(y_test,pred_test)*100)\n",
    "    print(\"*********************************************************************\")\n",
    "    print(\"\\n\\n\")\n",
    "    "
   ]
  },
  {
   "cell_type": "code",
   "execution_count": 47,
   "metadata": {},
   "outputs": [
    {
     "name": "stdout",
     "output_type": "stream",
     "text": [
      "Acuuracy score of nb is\n",
      "training accuracy score  : 98.00742064037378\n",
      "testing accuracy score  :  97.96703296703296\n"
     ]
    }
   ],
   "source": [
    "#finding accuracy Score of KNeighbors\n",
    "from sklearn.model_selection import cross_val_score\n",
    "nb=GaussianNB(priors = None, var_smoothing = 1e-09)\n",
    "x_train,x_test,y_train,y_test=train_test_split(x,y,random_state=12,test_size=.20)\n",
    "nb.fit(x_train,y_train)\n",
    "nb_pred=nb.predict(x_test)\n",
    "pred_train=nb.predict(x_train)\n",
    "nbc=accuracy_score(y_test,nb_pred)\n",
    "print(\"Acuuracy score of nb is\")\n",
    "print(\"training accuracy score  :\",accuracy_score(y_train,pred_train)*100)\n",
    "print(\"testing accuracy score  : \",nbc*100)\n"
   ]
  },
  {
   "cell_type": "code",
   "execution_count": 48,
   "metadata": {},
   "outputs": [],
   "source": [
    "#importing \n",
    "#classification Report\n",
    "#confusion_matrix\n",
    "#f1_score\n",
    "#roc_auc_score\n",
    "from sklearn.metrics import confusion_matrix\n",
    "from sklearn.metrics import classification_report\n",
    "from sklearn.metrics import f1_score\n",
    "from sklearn.metrics import roc_auc_score"
   ]
  },
  {
   "cell_type": "code",
   "execution_count": 49,
   "metadata": {},
   "outputs": [
    {
     "name": "stdout",
     "output_type": "stream",
     "text": [
      "Report of  KNeighborsClassifier() is\n",
      "confussion matrix \n",
      " [[688  82   0]\n",
      " [111 841   3]\n",
      " [  1  17  77]]\n",
      "classification_report  \n",
      "               precision    recall  f1-score   support\n",
      "\n",
      "           0       0.86      0.89      0.88       770\n",
      "           1       0.89      0.88      0.89       955\n",
      "           2       0.96      0.81      0.88        95\n",
      "\n",
      "    accuracy                           0.88      1820\n",
      "   macro avg       0.91      0.86      0.88      1820\n",
      "weighted avg       0.88      0.88      0.88      1820\n",
      "\n",
      "Report of  DecisionTreeClassifier() is\n",
      "confussion matrix \n",
      " [[769   1   0]\n",
      " [  1 941  13]\n",
      " [  0  11  84]]\n",
      "classification_report  \n",
      "               precision    recall  f1-score   support\n",
      "\n",
      "           0       1.00      1.00      1.00       770\n",
      "           1       0.99      0.99      0.99       955\n",
      "           2       0.87      0.88      0.87        95\n",
      "\n",
      "    accuracy                           0.99      1820\n",
      "   macro avg       0.95      0.96      0.95      1820\n",
      "weighted avg       0.99      0.99      0.99      1820\n",
      "\n",
      "Report of  SVC() is\n",
      "confussion matrix \n",
      " [[769   1   0]\n",
      " [ 32 919   4]\n",
      " [  0  15  80]]\n",
      "classification_report  \n",
      "               precision    recall  f1-score   support\n",
      "\n",
      "           0       0.96      1.00      0.98       770\n",
      "           1       0.98      0.96      0.97       955\n",
      "           2       0.95      0.84      0.89        95\n",
      "\n",
      "    accuracy                           0.97      1820\n",
      "   macro avg       0.97      0.93      0.95      1820\n",
      "weighted avg       0.97      0.97      0.97      1820\n",
      "\n",
      "Report of  RandomForestClassifier() is\n",
      "confussion matrix \n",
      " [[770   0   0]\n",
      " [  5 945   5]\n",
      " [  0  12  83]]\n",
      "classification_report  \n",
      "               precision    recall  f1-score   support\n",
      "\n",
      "           0       0.99      1.00      1.00       770\n",
      "           1       0.99      0.99      0.99       955\n",
      "           2       0.94      0.87      0.91        95\n",
      "\n",
      "    accuracy                           0.99      1820\n",
      "   macro avg       0.97      0.95      0.96      1820\n",
      "weighted avg       0.99      0.99      0.99      1820\n",
      "\n",
      "Report of  GradientBoostingClassifier() is\n",
      "confussion matrix \n",
      " [[768   0   2]\n",
      " [  1 946   8]\n",
      " [  0  11  84]]\n",
      "classification_report  \n",
      "               precision    recall  f1-score   support\n",
      "\n",
      "           0       1.00      1.00      1.00       770\n",
      "           1       0.99      0.99      0.99       955\n",
      "           2       0.89      0.88      0.89        95\n",
      "\n",
      "    accuracy                           0.99      1820\n",
      "   macro avg       0.96      0.96      0.96      1820\n",
      "weighted avg       0.99      0.99      0.99      1820\n",
      "\n",
      "Report of  GaussianNB() is\n",
      "confussion matrix \n",
      " [[766   1   3]\n",
      " [  5 931  19]\n",
      " [  0   9  86]]\n",
      "classification_report  \n",
      "               precision    recall  f1-score   support\n",
      "\n",
      "           0       0.99      0.99      0.99       770\n",
      "           1       0.99      0.97      0.98       955\n",
      "           2       0.80      0.91      0.85        95\n",
      "\n",
      "    accuracy                           0.98      1820\n",
      "   macro avg       0.93      0.96      0.94      1820\n",
      "weighted avg       0.98      0.98      0.98      1820\n",
      "\n"
     ]
    }
   ],
   "source": [
    "alg=[knn,dt,svc,rf,gb,nb]\n",
    "for m in alg:\n",
    "    m.fit(x_train,y_train)\n",
    "    pred_train=m.predict(x_train)\n",
    "    pred_test=m.predict(x_test)\n",
    "    print(\"Report of \",m, \"is\")\n",
    "    print(\"confussion matrix \\n\",confusion_matrix(y_test,pred_test))\n",
    "    print(\"classification_report  \\n\",classification_report(y_test,pred_test))\n",
    "   \n",
    "   \n"
   ]
  },
  {
   "cell_type": "code",
   "execution_count": 50,
   "metadata": {
    "scrolled": false
   },
   "outputs": [
    {
     "name": "stdout",
     "output_type": "stream",
     "text": [
      "KNeighborsClassifier()\n",
      "At cv :  2 \n",
      "cross val score is :  83.46697293788945 \n",
      "accuracy score is:  88.24175824175823\n",
      "******************************************************************************\n",
      "\n",
      "\n",
      "\n",
      "KNeighborsClassifier()\n",
      "At cv :  3 \n",
      "cross val score is :  84.78594881689861 \n",
      "accuracy score is:  88.24175824175823\n",
      "******************************************************************************\n",
      "\n",
      "\n",
      "\n",
      "KNeighborsClassifier()\n",
      "At cv :  4 \n",
      "cross val score is :  84.53334879720104 \n",
      "accuracy score is:  88.24175824175823\n",
      "******************************************************************************\n",
      "\n",
      "\n",
      "\n",
      "DecisionTreeClassifier()\n",
      "At cv :  2 \n",
      "cross val score is :  83.46697293788945 \n",
      "accuracy score is:  98.68131868131869\n",
      "******************************************************************************\n",
      "\n",
      "\n",
      "\n",
      "DecisionTreeClassifier()\n",
      "At cv :  3 \n",
      "cross val score is :  84.78594881689861 \n",
      "accuracy score is:  98.68131868131869\n",
      "******************************************************************************\n",
      "\n",
      "\n",
      "\n",
      "DecisionTreeClassifier()\n",
      "At cv :  4 \n",
      "cross val score is :  84.53334879720104 \n",
      "accuracy score is:  98.68131868131869\n",
      "******************************************************************************\n",
      "\n",
      "\n",
      "\n",
      "SVC()\n",
      "At cv :  2 \n",
      "cross val score is :  83.46697293788945 \n",
      "accuracy score is:  97.14285714285714\n",
      "******************************************************************************\n",
      "\n",
      "\n",
      "\n",
      "SVC()\n",
      "At cv :  3 \n",
      "cross val score is :  84.78594881689861 \n",
      "accuracy score is:  97.14285714285714\n",
      "******************************************************************************\n",
      "\n",
      "\n",
      "\n",
      "SVC()\n",
      "At cv :  4 \n",
      "cross val score is :  84.53334879720104 \n",
      "accuracy score is:  97.14285714285714\n",
      "******************************************************************************\n",
      "\n",
      "\n",
      "\n",
      "RandomForestClassifier()\n",
      "At cv :  2 \n",
      "cross val score is :  83.46697293788945 \n",
      "accuracy score is:  98.84615384615385\n",
      "******************************************************************************\n",
      "\n",
      "\n",
      "\n",
      "RandomForestClassifier()\n",
      "At cv :  3 \n",
      "cross val score is :  84.78594881689861 \n",
      "accuracy score is:  98.84615384615385\n",
      "******************************************************************************\n",
      "\n",
      "\n",
      "\n",
      "RandomForestClassifier()\n",
      "At cv :  4 \n",
      "cross val score is :  84.53334879720104 \n",
      "accuracy score is:  98.84615384615385\n",
      "******************************************************************************\n",
      "\n",
      "\n",
      "\n",
      "GradientBoostingClassifier()\n",
      "At cv :  2 \n",
      "cross val score is :  83.46697293788945 \n",
      "accuracy score is:  98.84615384615385\n",
      "******************************************************************************\n",
      "\n",
      "\n",
      "\n",
      "GradientBoostingClassifier()\n",
      "At cv :  3 \n",
      "cross val score is :  84.78594881689861 \n",
      "accuracy score is:  98.84615384615385\n",
      "******************************************************************************\n",
      "\n",
      "\n",
      "\n",
      "GradientBoostingClassifier()\n",
      "At cv :  4 \n",
      "cross val score is :  84.53334879720104 \n",
      "accuracy score is:  98.84615384615385\n",
      "******************************************************************************\n",
      "\n",
      "\n",
      "\n",
      "GaussianNB()\n",
      "At cv :  2 \n",
      "cross val score is :  83.46697293788945 \n",
      "accuracy score is:  97.96703296703296\n",
      "******************************************************************************\n",
      "\n",
      "\n",
      "\n",
      "GaussianNB()\n",
      "At cv :  3 \n",
      "cross val score is :  84.78594881689861 \n",
      "accuracy score is:  97.96703296703296\n",
      "******************************************************************************\n",
      "\n",
      "\n",
      "\n",
      "GaussianNB()\n",
      "At cv :  4 \n",
      "cross val score is :  84.53334879720104 \n",
      "accuracy score is:  97.96703296703296\n",
      "******************************************************************************\n",
      "\n",
      "\n",
      "\n"
     ]
    }
   ],
   "source": [
    "#cross-validating for checking upper/lower cutting\n",
    "from sklearn.model_selection import cross_val_score\n",
    "alg=[knn,dt,svc,rf,gb,nb]\n",
    "for m in alg:\n",
    "    m.fit(x_train,y_train)\n",
    "    pred_train=m.predict(x_train)\n",
    "    pred_test=m.predict(x_test)\n",
    "    accuracy=accuracy_score(y_test,pred_test)\n",
    "    for i in range(2,5):\n",
    "        cr=cross_val_score(knn,x,y,cv=i)\n",
    "        cross=cr.mean()\n",
    "        print(m)\n",
    "        print(\"At cv : \",i,\"\\ncross val score is : \",cross*100,\"\\naccuracy score is: \",accuracy*100)\n",
    "        print(\"******************************************************************************\")\n",
    "        print(\"\\n\\n\")\n",
    "\n",
    "        \n",
    "\n"
   ]
  },
  {
   "cell_type": "markdown",
   "metadata": {},
   "source": [
    "# Observation"
   ]
  },
  {
   "cell_type": "markdown",
   "metadata": {},
   "source": [
    "##### From all the above we infer that the \"Random Forest Classifier\" performs well.\n",
    "\n",
    "It gives the Best results when compared with other models.\n",
    "\n",
    "        the score of  RandomForestClassifier() is\n",
    "\n",
    "        training accuracy score  : 100.0\n",
    "\n",
    "        testing accuracy score  : 98.4065934065934\n",
    "\n"
   ]
  },
  {
   "cell_type": "code",
   "execution_count": 51,
   "metadata": {},
   "outputs": [
    {
     "name": "stdout",
     "output_type": "stream",
     "text": [
      "{'n_estimators': 1000, 'random_state': 1}\n"
     ]
    }
   ],
   "source": [
    "#Hyper parameter Tuning\n",
    "#RandomForestClassifier\n",
    "#using GridSearchCV\n",
    "from sklearn.model_selection import GridSearchCV\n",
    "from sklearn.ensemble import RandomForestClassifier\n",
    "parameters={\"n_estimators\" :[1,10,100,1000], \"random_state\": list(range(0,10))}\n",
    "rf=RandomForestClassifier()\n",
    "clf=GridSearchCV(rf,parameters)\n",
    "clf.fit(x_train,y_train)\n",
    "print(clf.best_params_)\n",
    "\n"
   ]
  },
  {
   "cell_type": "code",
   "execution_count": 56,
   "metadata": {},
   "outputs": [
    {
     "name": "stdout",
     "output_type": "stream",
     "text": [
      "training accuracy :  100.0\n",
      "improved testing accuracy :  98.73626373626374\n"
     ]
    }
   ],
   "source": [
    "#using RandomForestClassification with best Result\n",
    "from sklearn.ensemble import RandomForestClassifier\n",
    "rf=RandomForestClassifier(random_state=1,n_estimators=1000)\n",
    "rf.fit(x_train,y_train)\n",
    "rf_test_pred=rf.predict(x_test)\n",
    "rf_train_pred=rf.predict(x_train)\n",
    "rf_test_acc=accuracy_score(y_test,rf_test_pred)\n",
    "rf_train_acc=accuracy_score(y_train,rf_train_pred)\n",
    "print(\"training accuracy : \",rf_train_acc*100)\n",
    "print(\"improved testing accuracy : \",rf_test_acc*100)\n"
   ]
  },
  {
   "cell_type": "code",
   "execution_count": 54,
   "metadata": {},
   "outputs": [
    {
     "name": "stdout",
     "output_type": "stream",
     "text": [
      "accuracy_score is :  98.73626373626374\n",
      "cv score is  98.93369137734173\n"
     ]
    }
   ],
   "source": [
    "#finding cross_validation_score\n",
    "from sklearn.ensemble import RandomForestClassifier\n",
    "rf=RandomForestClassifier(random_state=1,n_estimators=1000)\n",
    "rf.fit(x_train,y_train)\n",
    "rf_test_pred=rf.predict(x_test)\n",
    "rf_test_acc=accuracy_score(y_test,rf_test_pred)\n",
    "rf_cvscore=cross_val_score(rf,x,y).mean()\n",
    "print(\"accuracy_score is : \",rf_test_acc*100)\n",
    "print(\"cv score is \",(rf_cvscore*100))\n"
   ]
  },
  {
   "cell_type": "markdown",
   "metadata": {},
   "source": [
    "# MODEL SAVING "
   ]
  },
  {
   "cell_type": "code",
   "execution_count": 59,
   "metadata": {},
   "outputs": [
    {
     "data": {
      "text/plain": [
       "['space_server.obj']"
      ]
     },
     "execution_count": 59,
     "metadata": {},
     "output_type": "execute_result"
    }
   ],
   "source": [
    "import joblib\n",
    "joblib.dump(rf,\"space_server.obj\")\n"
   ]
  },
  {
   "cell_type": "markdown",
   "metadata": {},
   "source": [
    "# CONCLUSION"
   ]
  },
  {
   "cell_type": "code",
   "execution_count": 61,
   "metadata": {},
   "outputs": [
    {
     "data": {
      "text/html": [
       "<div>\n",
       "<style scoped>\n",
       "    .dataframe tbody tr th:only-of-type {\n",
       "        vertical-align: middle;\n",
       "    }\n",
       "\n",
       "    .dataframe tbody tr th {\n",
       "        vertical-align: top;\n",
       "    }\n",
       "\n",
       "    .dataframe thead th {\n",
       "        text-align: right;\n",
       "    }\n",
       "</style>\n",
       "<table border=\"1\" class=\"dataframe\">\n",
       "  <thead>\n",
       "    <tr style=\"text-align: right;\">\n",
       "      <th></th>\n",
       "      <th>original</th>\n",
       "      <th>Predicted</th>\n",
       "    </tr>\n",
       "  </thead>\n",
       "  <tbody>\n",
       "    <tr>\n",
       "      <th>0</th>\n",
       "      <td>1</td>\n",
       "      <td>1</td>\n",
       "    </tr>\n",
       "    <tr>\n",
       "      <th>1</th>\n",
       "      <td>0</td>\n",
       "      <td>0</td>\n",
       "    </tr>\n",
       "    <tr>\n",
       "      <th>2</th>\n",
       "      <td>0</td>\n",
       "      <td>0</td>\n",
       "    </tr>\n",
       "    <tr>\n",
       "      <th>3</th>\n",
       "      <td>0</td>\n",
       "      <td>0</td>\n",
       "    </tr>\n",
       "    <tr>\n",
       "      <th>4</th>\n",
       "      <td>1</td>\n",
       "      <td>1</td>\n",
       "    </tr>\n",
       "    <tr>\n",
       "      <th>5</th>\n",
       "      <td>0</td>\n",
       "      <td>0</td>\n",
       "    </tr>\n",
       "    <tr>\n",
       "      <th>6</th>\n",
       "      <td>1</td>\n",
       "      <td>1</td>\n",
       "    </tr>\n",
       "    <tr>\n",
       "      <th>7</th>\n",
       "      <td>1</td>\n",
       "      <td>1</td>\n",
       "    </tr>\n",
       "    <tr>\n",
       "      <th>8</th>\n",
       "      <td>1</td>\n",
       "      <td>1</td>\n",
       "    </tr>\n",
       "    <tr>\n",
       "      <th>9</th>\n",
       "      <td>0</td>\n",
       "      <td>0</td>\n",
       "    </tr>\n",
       "  </tbody>\n",
       "</table>\n",
       "</div>"
      ],
      "text/plain": [
       "   original  Predicted\n",
       "0         1          1\n",
       "1         0          0\n",
       "2         0          0\n",
       "3         0          0\n",
       "4         1          1\n",
       "5         0          0\n",
       "6         1          1\n",
       "7         1          1\n",
       "8         1          1\n",
       "9         0          0"
      ]
     },
     "execution_count": 61,
     "metadata": {},
     "output_type": "execute_result"
    }
   ],
   "source": [
    "import numpy as np\n",
    "a=np.array(y_test)\n",
    "predicted=np.array(rf.predict(x_test))\n",
    "df_con=pd.DataFrame({\"original\":a,\"Predicted\":predicted})\n",
    "df_con.head(10)"
   ]
  },
  {
   "cell_type": "markdown",
   "metadata": {},
   "source": [
    "# SAMPLE"
   ]
  },
  {
   "cell_type": "code",
   "execution_count": 65,
   "metadata": {},
   "outputs": [
    {
     "data": {
      "text/plain": [
       "(11,)"
      ]
     },
     "execution_count": 65,
     "metadata": {},
     "output_type": "execute_result"
    }
   ],
   "source": [
    "td=np.array([134,3,18.27,17.31,15,15.50,16.80,1320,2,163,-0.00])\n",
    "td.shape"
   ]
  },
  {
   "cell_type": "code",
   "execution_count": 66,
   "metadata": {},
   "outputs": [
    {
     "data": {
      "text/plain": [
       "array([[ 134.  ,    3.  ,   18.27,   17.31,   15.  ,   15.5 ,   16.8 ,\n",
       "        1320.  ,    2.  ,  163.  ,   -0.  ]])"
      ]
     },
     "execution_count": 66,
     "metadata": {},
     "output_type": "execute_result"
    }
   ],
   "source": [
    "td=td.reshape(1,-1)\n",
    "td"
   ]
  },
  {
   "cell_type": "code",
   "execution_count": 68,
   "metadata": {},
   "outputs": [
    {
     "data": {
      "text/plain": [
       "array([1])"
      ]
     },
     "execution_count": 68,
     "metadata": {},
     "output_type": "execute_result"
    }
   ],
   "source": [
    "rf.predict(td) "
   ]
  },
  {
   "cell_type": "markdown",
   "metadata": {},
   "source": [
    "### result\n",
    "The class  1 represents \"Galaxy\""
   ]
  },
  {
   "cell_type": "code",
   "execution_count": null,
   "metadata": {},
   "outputs": [],
   "source": []
  }
 ],
 "metadata": {
  "kernelspec": {
   "display_name": "Python 3",
   "language": "python",
   "name": "python3"
  },
  "language_info": {
   "codemirror_mode": {
    "name": "ipython",
    "version": 3
   },
   "file_extension": ".py",
   "mimetype": "text/x-python",
   "name": "python",
   "nbconvert_exporter": "python",
   "pygments_lexer": "ipython3",
   "version": "3.8.3"
  },
  "toc": {
   "base_numbering": 1,
   "nav_menu": {},
   "number_sections": false,
   "sideBar": true,
   "skip_h1_title": false,
   "title_cell": "Table of Contents",
   "title_sidebar": "Contents",
   "toc_cell": false,
   "toc_position": {},
   "toc_section_display": true,
   "toc_window_display": false
  }
 },
 "nbformat": 4,
 "nbformat_minor": 4
}
