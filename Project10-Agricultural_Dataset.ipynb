{
 "cells": [
  {
   "cell_type": "markdown",
   "metadata": {},
   "source": [
    "# Program to predict the crop damage which determine the outcome of the Harvest season using Classification Methods"
   ]
  },
  {
   "cell_type": "markdown",
   "metadata": {},
   "source": [
    "## Machine Learning in Agriculture\n",
    "\n",
    "   Recently we have observed the emerging concept of smart farming that makes agriculture more efficient and effective with the help of high-precision algorithms. The mechanism that drives it is Machine Learning — the scientific field that gives machines the ability to learn without being strictly programmed. It has emerged together with big data technologies and high-performance computing to create new opportunities to unravel, quantify, and understand data intensive processes in agricultural operational environments.\n",
    "\n",
    "   Machine learning is everywhere throughout the whole growing and harvesting cycle. It begins with a seed being planted in the soil — from the soil preparation, seeds breeding and water feed measurement — and it ends when neural networks pick up the harvest determining the ripeness with the help of computer vision."
   ]
  },
  {
   "cell_type": "markdown",
   "metadata": {},
   "source": [
    "## The Toxic Pesticides\n",
    "\n",
    "Though, many of us don't appreciate much, but a farmer's job is real test of endurance and determination. Once the seeds are sown, he works days and nights to make sure that he cultivates a good harvest at the end of season. A good harvest is ensured by several factors such as availability of water, soil fertility, protecting crops from rodents, timely use of pesticides & other useful chemicals and nature. While a lot of these factors are difficult to control for, the amount and frequency of pesticides is something the farmer can control.\n",
    "\n",
    "Pesticides are also special, because while they protect the crop with the right dosage. But, if you add more than required, they may spoil the entire harvest. A high level of pesticide can deem the crop dead / unsuitable for consumption among many outcomes. This data is based on crops harvested by various farmers at the end of harvest season. To simplify the problem, you can assume that all other factors like variations in farming techniques have been controlled for."
   ]
  },
  {
   "cell_type": "code",
   "execution_count": 1,
   "metadata": {},
   "outputs": [],
   "source": [
    "#importing libraries\n",
    "import pandas as pd\n",
    "import numpy as np\n",
    "import matplotlib.pyplot as plt\n",
    "import seaborn as sns\n",
    "import warnings\n",
    "warnings.filterwarnings(\"ignore\")"
   ]
  },
  {
   "cell_type": "code",
   "execution_count": 2,
   "metadata": {},
   "outputs": [
    {
     "data": {
      "text/html": [
       "<div>\n",
       "<style scoped>\n",
       "    .dataframe tbody tr th:only-of-type {\n",
       "        vertical-align: middle;\n",
       "    }\n",
       "\n",
       "    .dataframe tbody tr th {\n",
       "        vertical-align: top;\n",
       "    }\n",
       "\n",
       "    .dataframe thead th {\n",
       "        text-align: right;\n",
       "    }\n",
       "</style>\n",
       "<table border=\"1\" class=\"dataframe\">\n",
       "  <thead>\n",
       "    <tr style=\"text-align: right;\">\n",
       "      <th></th>\n",
       "      <th>ID</th>\n",
       "      <th>Estimated_Insects_Count</th>\n",
       "      <th>Crop_Type</th>\n",
       "      <th>Soil_Type</th>\n",
       "      <th>Pesticide_Use_Category</th>\n",
       "      <th>Number_Doses_Week</th>\n",
       "      <th>Number_Weeks_Used</th>\n",
       "      <th>Number_Weeks_Quit</th>\n",
       "      <th>Season</th>\n",
       "      <th>Crop_Damage</th>\n",
       "    </tr>\n",
       "  </thead>\n",
       "  <tbody>\n",
       "    <tr>\n",
       "      <th>0</th>\n",
       "      <td>F00000001</td>\n",
       "      <td>188</td>\n",
       "      <td>1</td>\n",
       "      <td>0</td>\n",
       "      <td>1</td>\n",
       "      <td>0</td>\n",
       "      <td>0.0</td>\n",
       "      <td>0</td>\n",
       "      <td>1</td>\n",
       "      <td>0</td>\n",
       "    </tr>\n",
       "    <tr>\n",
       "      <th>1</th>\n",
       "      <td>F00000003</td>\n",
       "      <td>209</td>\n",
       "      <td>1</td>\n",
       "      <td>0</td>\n",
       "      <td>1</td>\n",
       "      <td>0</td>\n",
       "      <td>0.0</td>\n",
       "      <td>0</td>\n",
       "      <td>2</td>\n",
       "      <td>1</td>\n",
       "    </tr>\n",
       "    <tr>\n",
       "      <th>2</th>\n",
       "      <td>F00000004</td>\n",
       "      <td>257</td>\n",
       "      <td>1</td>\n",
       "      <td>0</td>\n",
       "      <td>1</td>\n",
       "      <td>0</td>\n",
       "      <td>0.0</td>\n",
       "      <td>0</td>\n",
       "      <td>2</td>\n",
       "      <td>1</td>\n",
       "    </tr>\n",
       "    <tr>\n",
       "      <th>3</th>\n",
       "      <td>F00000005</td>\n",
       "      <td>257</td>\n",
       "      <td>1</td>\n",
       "      <td>1</td>\n",
       "      <td>1</td>\n",
       "      <td>0</td>\n",
       "      <td>0.0</td>\n",
       "      <td>0</td>\n",
       "      <td>2</td>\n",
       "      <td>1</td>\n",
       "    </tr>\n",
       "    <tr>\n",
       "      <th>4</th>\n",
       "      <td>F00000006</td>\n",
       "      <td>342</td>\n",
       "      <td>1</td>\n",
       "      <td>0</td>\n",
       "      <td>1</td>\n",
       "      <td>0</td>\n",
       "      <td>0.0</td>\n",
       "      <td>0</td>\n",
       "      <td>2</td>\n",
       "      <td>1</td>\n",
       "    </tr>\n",
       "    <tr>\n",
       "      <th>...</th>\n",
       "      <td>...</td>\n",
       "      <td>...</td>\n",
       "      <td>...</td>\n",
       "      <td>...</td>\n",
       "      <td>...</td>\n",
       "      <td>...</td>\n",
       "      <td>...</td>\n",
       "      <td>...</td>\n",
       "      <td>...</td>\n",
       "      <td>...</td>\n",
       "    </tr>\n",
       "    <tr>\n",
       "      <th>4594</th>\n",
       "      <td>F00008078</td>\n",
       "      <td>2138</td>\n",
       "      <td>0</td>\n",
       "      <td>1</td>\n",
       "      <td>2</td>\n",
       "      <td>20</td>\n",
       "      <td>NaN</td>\n",
       "      <td>1</td>\n",
       "      <td>1</td>\n",
       "      <td>1</td>\n",
       "    </tr>\n",
       "    <tr>\n",
       "      <th>4595</th>\n",
       "      <td>F00008079</td>\n",
       "      <td>2139</td>\n",
       "      <td>0</td>\n",
       "      <td>1</td>\n",
       "      <td>2</td>\n",
       "      <td>30</td>\n",
       "      <td>47.0</td>\n",
       "      <td>2</td>\n",
       "      <td>1</td>\n",
       "      <td>1</td>\n",
       "    </tr>\n",
       "    <tr>\n",
       "      <th>4596</th>\n",
       "      <td>F00008080</td>\n",
       "      <td>2267</td>\n",
       "      <td>0</td>\n",
       "      <td>1</td>\n",
       "      <td>2</td>\n",
       "      <td>10</td>\n",
       "      <td>7.0</td>\n",
       "      <td>27</td>\n",
       "      <td>2</td>\n",
       "      <td>0</td>\n",
       "    </tr>\n",
       "    <tr>\n",
       "      <th>4597</th>\n",
       "      <td>F00008082</td>\n",
       "      <td>2267</td>\n",
       "      <td>0</td>\n",
       "      <td>1</td>\n",
       "      <td>2</td>\n",
       "      <td>10</td>\n",
       "      <td>20.0</td>\n",
       "      <td>24</td>\n",
       "      <td>2</td>\n",
       "      <td>0</td>\n",
       "    </tr>\n",
       "    <tr>\n",
       "      <th>4598</th>\n",
       "      <td>F00008083</td>\n",
       "      <td>2267</td>\n",
       "      <td>0</td>\n",
       "      <td>1</td>\n",
       "      <td>2</td>\n",
       "      <td>10</td>\n",
       "      <td>33.0</td>\n",
       "      <td>17</td>\n",
       "      <td>2</td>\n",
       "      <td>0</td>\n",
       "    </tr>\n",
       "  </tbody>\n",
       "</table>\n",
       "<p>4599 rows × 10 columns</p>\n",
       "</div>"
      ],
      "text/plain": [
       "             ID  Estimated_Insects_Count  Crop_Type  Soil_Type  \\\n",
       "0     F00000001                      188          1          0   \n",
       "1     F00000003                      209          1          0   \n",
       "2     F00000004                      257          1          0   \n",
       "3     F00000005                      257          1          1   \n",
       "4     F00000006                      342          1          0   \n",
       "...         ...                      ...        ...        ...   \n",
       "4594  F00008078                     2138          0          1   \n",
       "4595  F00008079                     2139          0          1   \n",
       "4596  F00008080                     2267          0          1   \n",
       "4597  F00008082                     2267          0          1   \n",
       "4598  F00008083                     2267          0          1   \n",
       "\n",
       "      Pesticide_Use_Category  Number_Doses_Week  Number_Weeks_Used  \\\n",
       "0                          1                  0                0.0   \n",
       "1                          1                  0                0.0   \n",
       "2                          1                  0                0.0   \n",
       "3                          1                  0                0.0   \n",
       "4                          1                  0                0.0   \n",
       "...                      ...                ...                ...   \n",
       "4594                       2                 20                NaN   \n",
       "4595                       2                 30               47.0   \n",
       "4596                       2                 10                7.0   \n",
       "4597                       2                 10               20.0   \n",
       "4598                       2                 10               33.0   \n",
       "\n",
       "      Number_Weeks_Quit  Season  Crop_Damage  \n",
       "0                     0       1            0  \n",
       "1                     0       2            1  \n",
       "2                     0       2            1  \n",
       "3                     0       2            1  \n",
       "4                     0       2            1  \n",
       "...                 ...     ...          ...  \n",
       "4594                  1       1            1  \n",
       "4595                  2       1            1  \n",
       "4596                 27       2            0  \n",
       "4597                 24       2            0  \n",
       "4598                 17       2            0  \n",
       "\n",
       "[4599 rows x 10 columns]"
      ]
     },
     "execution_count": 2,
     "metadata": {},
     "output_type": "execute_result"
    }
   ],
   "source": [
    "#loading training data\n",
    "df_train=pd.read_excel(r\"C:\\Users\\arunp\\Downloads\\train_agriculture.xlsx\")\n",
    "df_train"
   ]
  },
  {
   "cell_type": "markdown",
   "metadata": {},
   "source": [
    "###### Attributes Description:\n",
    "\n",
    "\n",
    "      ID      -       UniqueID\n",
    "    \n",
    "      Estimated_Insects_Count    -  Estimated insects counts per square meter\n",
    "        \n",
    "      Crop_Type      -     Catagery of crop(0,1) \n",
    "    \n",
    "      Soil_Type      -      Catagery of soil(0,1)\n",
    "        \n",
    "      Pesticide_use_Category   -   Types of Pesticides uses(1-never,2-Previously used,3-Currently using)  \n",
    "    \n",
    "      Number_Doses_Week      -     Number of doses per week\n",
    "        \n",
    "      Number_Weeks_Used     -     Number of  weeks used\n",
    "    \n",
    "      Number_Weeks_Quit     -     Number of weeks quit\n",
    "        \n",
    "      Season            -       Season Catagory(1,2,3) \n",
    "    \n",
    "      Crop_Damage       -       Crop Damage Category(0-Alive,1-Damage due to other causes,2-Damage Due to Pesticides )\n",
    "        \n",
    "        \n",
    "      "
   ]
  },
  {
   "cell_type": "markdown",
   "metadata": {},
   "source": [
    "# Basis Statistics"
   ]
  },
  {
   "cell_type": "code",
   "execution_count": 6,
   "metadata": {},
   "outputs": [
    {
     "data": {
      "text/plain": [
       "Index(['ID', 'Estimated_Insects_Count', 'Crop_Type', 'Soil_Type',\n",
       "       'Pesticide_Use_Category', 'Number_Doses_Week', 'Number_Weeks_Used',\n",
       "       'Number_Weeks_Quit', 'Season', 'Crop_Damage'],\n",
       "      dtype='object')"
      ]
     },
     "execution_count": 6,
     "metadata": {},
     "output_type": "execute_result"
    }
   ],
   "source": [
    "df_train.columns"
   ]
  },
  {
   "cell_type": "code",
   "execution_count": 3,
   "metadata": {},
   "outputs": [
    {
     "data": {
      "text/plain": [
       "(4599, 10)"
      ]
     },
     "execution_count": 3,
     "metadata": {},
     "output_type": "execute_result"
    }
   ],
   "source": [
    "df_train.shape"
   ]
  },
  {
   "cell_type": "code",
   "execution_count": 4,
   "metadata": {},
   "outputs": [
    {
     "name": "stdout",
     "output_type": "stream",
     "text": [
      "<class 'pandas.core.frame.DataFrame'>\n",
      "RangeIndex: 4599 entries, 0 to 4598\n",
      "Data columns (total 10 columns):\n",
      " #   Column                   Non-Null Count  Dtype  \n",
      "---  ------                   --------------  -----  \n",
      " 0   ID                       4599 non-null   object \n",
      " 1   Estimated_Insects_Count  4599 non-null   int64  \n",
      " 2   Crop_Type                4599 non-null   int64  \n",
      " 3   Soil_Type                4599 non-null   int64  \n",
      " 4   Pesticide_Use_Category   4599 non-null   int64  \n",
      " 5   Number_Doses_Week        4599 non-null   int64  \n",
      " 6   Number_Weeks_Used        4157 non-null   float64\n",
      " 7   Number_Weeks_Quit        4599 non-null   int64  \n",
      " 8   Season                   4599 non-null   int64  \n",
      " 9   Crop_Damage              4599 non-null   int64  \n",
      "dtypes: float64(1), int64(8), object(1)\n",
      "memory usage: 359.4+ KB\n"
     ]
    }
   ],
   "source": [
    "df_train.info()"
   ]
  },
  {
   "cell_type": "code",
   "execution_count": 5,
   "metadata": {},
   "outputs": [
    {
     "data": {
      "text/plain": [
       "ID                          object\n",
       "Estimated_Insects_Count      int64\n",
       "Crop_Type                    int64\n",
       "Soil_Type                    int64\n",
       "Pesticide_Use_Category       int64\n",
       "Number_Doses_Week            int64\n",
       "Number_Weeks_Used          float64\n",
       "Number_Weeks_Quit            int64\n",
       "Season                       int64\n",
       "Crop_Damage                  int64\n",
       "dtype: object"
      ]
     },
     "execution_count": 5,
     "metadata": {},
     "output_type": "execute_result"
    }
   ],
   "source": [
    "df_train.dtypes"
   ]
  },
  {
   "cell_type": "markdown",
   "metadata": {},
   "source": [
    "# finding Missing values"
   ]
  },
  {
   "cell_type": "code",
   "execution_count": 7,
   "metadata": {},
   "outputs": [
    {
     "data": {
      "text/plain": [
       "ID                           0\n",
       "Estimated_Insects_Count      0\n",
       "Crop_Type                    0\n",
       "Soil_Type                    0\n",
       "Pesticide_Use_Category       0\n",
       "Number_Doses_Week            0\n",
       "Number_Weeks_Used          442\n",
       "Number_Weeks_Quit            0\n",
       "Season                       0\n",
       "Crop_Damage                  0\n",
       "dtype: int64"
      ]
     },
     "execution_count": 7,
     "metadata": {},
     "output_type": "execute_result"
    }
   ],
   "source": [
    "df_train.isnull().sum()"
   ]
  },
  {
   "cell_type": "code",
   "execution_count": 8,
   "metadata": {},
   "outputs": [
    {
     "data": {
      "text/plain": [
       "20.0    209\n",
       "30.0    194\n",
       "25.0    165\n",
       "40.0    133\n",
       "35.0    128\n",
       "       ... \n",
       "62.0      5\n",
       "59.0      5\n",
       "65.0      3\n",
       "66.0      3\n",
       "64.0      1\n",
       "Name: Number_Weeks_Used, Length: 63, dtype: int64"
      ]
     },
     "execution_count": 8,
     "metadata": {},
     "output_type": "execute_result"
    }
   ],
   "source": [
    "df_train[\"Number_Weeks_Used\"].value_counts()"
   ]
  },
  {
   "cell_type": "markdown",
   "metadata": {},
   "source": [
    "###### Observation:\n",
    "\n",
    "dropping column with NaN values may lead to loss of data.\n",
    "\n",
    "since column \"Number_Weeks_Used\" has a continious value we will fill the missing data with the mean value."
   ]
  },
  {
   "cell_type": "code",
   "execution_count": 9,
   "metadata": {},
   "outputs": [
    {
     "data": {
      "text/plain": [
       "28.89102718306471"
      ]
     },
     "execution_count": 9,
     "metadata": {},
     "output_type": "execute_result"
    }
   ],
   "source": [
    "df_train[\"Number_Weeks_Used\"].mean()"
   ]
  },
  {
   "cell_type": "code",
   "execution_count": 10,
   "metadata": {},
   "outputs": [],
   "source": [
    "df_train[\"Number_Weeks_Used\"].fillna(df_train[\"Number_Weeks_Used\"].mean(),inplace=True)"
   ]
  },
  {
   "cell_type": "code",
   "execution_count": 11,
   "metadata": {},
   "outputs": [
    {
     "data": {
      "text/plain": [
       "ID                         0\n",
       "Estimated_Insects_Count    0\n",
       "Crop_Type                  0\n",
       "Soil_Type                  0\n",
       "Pesticide_Use_Category     0\n",
       "Number_Doses_Week          0\n",
       "Number_Weeks_Used          0\n",
       "Number_Weeks_Quit          0\n",
       "Season                     0\n",
       "Crop_Damage                0\n",
       "dtype: int64"
      ]
     },
     "execution_count": 11,
     "metadata": {},
     "output_type": "execute_result"
    }
   ],
   "source": [
    "df_train.isnull().sum()"
   ]
  },
  {
   "cell_type": "markdown",
   "metadata": {},
   "source": [
    "# Data Analysis and EDA"
   ]
  },
  {
   "cell_type": "code",
   "execution_count": 12,
   "metadata": {},
   "outputs": [
    {
     "data": {
      "text/plain": [
       "0       F00000001\n",
       "1       F00000003\n",
       "2       F00000004\n",
       "3       F00000005\n",
       "4       F00000006\n",
       "          ...    \n",
       "4594    F00008078\n",
       "4595    F00008079\n",
       "4596    F00008080\n",
       "4597    F00008082\n",
       "4598    F00008083\n",
       "Name: ID, Length: 4599, dtype: object"
      ]
     },
     "execution_count": 12,
     "metadata": {},
     "output_type": "execute_result"
    }
   ],
   "source": [
    "df_train[\"ID\"]"
   ]
  },
  {
   "cell_type": "markdown",
   "metadata": {},
   "source": [
    "###### column \"ID\" is not much useful for our program.so lets drop it"
   ]
  },
  {
   "cell_type": "code",
   "execution_count": 13,
   "metadata": {},
   "outputs": [],
   "source": [
    "df_train.drop(columns=[\"ID\"],inplace=True)"
   ]
  },
  {
   "cell_type": "code",
   "execution_count": 14,
   "metadata": {},
   "outputs": [
    {
     "data": {
      "text/plain": [
       "Index(['Estimated_Insects_Count', 'Crop_Type', 'Soil_Type',\n",
       "       'Pesticide_Use_Category', 'Number_Doses_Week', 'Number_Weeks_Used',\n",
       "       'Number_Weeks_Quit', 'Season', 'Crop_Damage'],\n",
       "      dtype='object')"
      ]
     },
     "execution_count": 14,
     "metadata": {},
     "output_type": "execute_result"
    }
   ],
   "source": [
    "df_train.columns"
   ]
  },
  {
   "cell_type": "markdown",
   "metadata": {},
   "source": [
    "### UNIVARIATE ANALYSIS"
   ]
  },
  {
   "cell_type": "code",
   "execution_count": 15,
   "metadata": {},
   "outputs": [
    {
     "data": {
      "text/plain": [
       "<matplotlib.axes._subplots.AxesSubplot at 0x1bf14dff850>"
      ]
     },
     "execution_count": 15,
     "metadata": {},
     "output_type": "execute_result"
    },
    {
     "data": {
      "image/png": "[encoded data removed]",
      "text/plain": [
       "<Figure size 432x288 with 1 Axes>"
      ]
     },
     "metadata": {
      "needs_background": "light"
     },
     "output_type": "display_data"
    }
   ],
   "source": [
    "#displacement graph for Estimated_Insects_Count\n",
    "sns.distplot(df_train[\"Estimated_Insects_Count\"])"
   ]
  },
  {
   "cell_type": "markdown",
   "metadata": {},
   "source": [
    "###### Observation:\n",
    "\n",
    "Estimated insects count is higher at 500 - 1500\n",
    "\n",
    "The graph shows Right Skewed Distribution. \n",
    "\n",
    "Hence it is Positively skewed"
   ]
  },
  {
   "cell_type": "code",
   "execution_count": 16,
   "metadata": {},
   "outputs": [
    {
     "data": {
      "text/plain": [
       "<matplotlib.axes._subplots.AxesSubplot at 0x1bf14cc7310>"
      ]
     },
     "execution_count": 16,
     "metadata": {},
     "output_type": "execute_result"
    },
    {
     "data": {
      "image/png": "[encoded data removed]",
      "text/plain": [
       "<Figure size 432x288 with 1 Axes>"
      ]
     },
     "metadata": {
      "needs_background": "light"
     },
     "output_type": "display_data"
    }
   ],
   "source": [
    "#displacement graph for Number_Doses_Week\n",
    "sns.distplot(df_train[\"Number_Doses_Week\"])"
   ]
  },
  {
   "cell_type": "markdown",
   "metadata": {},
   "source": [
    "###### Observation:\n",
    "\n",
    "The Displacement graph of number of pesticide doses per week to sow is normally distributed"
   ]
  },
  {
   "cell_type": "code",
   "execution_count": 17,
   "metadata": {},
   "outputs": [
    {
     "data": {
      "text/plain": [
       "array([1, 0], dtype=int64)"
      ]
     },
     "execution_count": 17,
     "metadata": {},
     "output_type": "execute_result"
    }
   ],
   "source": [
    "#exploring column \"Crop_Type\"\n",
    "df_train[\"Crop_Type\"].unique()"
   ]
  },
  {
   "cell_type": "code",
   "execution_count": 18,
   "metadata": {},
   "outputs": [
    {
     "data": {
      "text/plain": [
       "<matplotlib.axes._subplots.AxesSubplot at 0x1bf14e6bf70>"
      ]
     },
     "execution_count": 18,
     "metadata": {},
     "output_type": "execute_result"
    },
    {
     "data": {
      "image/png": "[encoded data removed]",
      "text/plain": [
       "<Figure size 432x288 with 1 Axes>"
      ]
     },
     "metadata": {
      "needs_background": "light"
     },
     "output_type": "display_data"
    }
   ],
   "source": [
    "#Graphical visuvalisation\n",
    "sns.countplot(df_train[\"Crop_Type\"])"
   ]
  },
  {
   "cell_type": "markdown",
   "metadata": {},
   "source": [
    "###### observation :\n",
    "\n",
    "The crop type \"0\" has been used more when compared with crop type \"1\""
   ]
  },
  {
   "cell_type": "code",
   "execution_count": 19,
   "metadata": {},
   "outputs": [
    {
     "data": {
      "text/plain": [
       "array([0, 1], dtype=int64)"
      ]
     },
     "execution_count": 19,
     "metadata": {},
     "output_type": "execute_result"
    }
   ],
   "source": [
    "#exploring column Soil_Type\n",
    "df_train[\"Soil_Type\"].unique()"
   ]
  },
  {
   "cell_type": "code",
   "execution_count": 20,
   "metadata": {},
   "outputs": [
    {
     "data": {
      "text/plain": [
       "0    2407\n",
       "1    2192\n",
       "Name: Soil_Type, dtype: int64"
      ]
     },
     "execution_count": 20,
     "metadata": {},
     "output_type": "execute_result"
    }
   ],
   "source": [
    "df_train[\"Soil_Type\"].value_counts()"
   ]
  },
  {
   "cell_type": "code",
   "execution_count": 21,
   "metadata": {},
   "outputs": [
    {
     "data": {
      "text/plain": [
       "<matplotlib.axes._subplots.AxesSubplot at 0x1bf14edc2b0>"
      ]
     },
     "execution_count": 21,
     "metadata": {},
     "output_type": "execute_result"
    },
    {
     "data": {
      "image/png": "[encoded data removed]",
      "text/plain": [
       "<Figure size 432x288 with 1 Axes>"
      ]
     },
     "metadata": {
      "needs_background": "light"
     },
     "output_type": "display_data"
    }
   ],
   "source": [
    "#Graphical visuvalisation\n",
    "sns.countplot(df_train[\"Soil_Type\"])"
   ]
  },
  {
   "cell_type": "markdown",
   "metadata": {},
   "source": [
    "###### Observation \n",
    "\n",
    "soil Type \"0\" is listed more than the soil_Type \"1\" "
   ]
  },
  {
   "cell_type": "code",
   "execution_count": 22,
   "metadata": {},
   "outputs": [
    {
     "data": {
      "text/plain": [
       "array([1, 3, 2], dtype=int64)"
      ]
     },
     "execution_count": 22,
     "metadata": {},
     "output_type": "execute_result"
    }
   ],
   "source": [
    "#exploring column Soil_Type\n",
    "df_train[\"Pesticide_Use_Category\"].unique()"
   ]
  },
  {
   "cell_type": "code",
   "execution_count": 23,
   "metadata": {},
   "outputs": [
    {
     "data": {
      "text/plain": [
       "2    3205\n",
       "3    1349\n",
       "1      45\n",
       "Name: Pesticide_Use_Category, dtype: int64"
      ]
     },
     "execution_count": 23,
     "metadata": {},
     "output_type": "execute_result"
    }
   ],
   "source": [
    "df_train[\"Pesticide_Use_Category\"].value_counts()"
   ]
  },
  {
   "cell_type": "code",
   "execution_count": 24,
   "metadata": {},
   "outputs": [
    {
     "data": {
      "text/plain": [
       "<matplotlib.axes._subplots.AxesSubplot at 0x1bf14f16d30>"
      ]
     },
     "execution_count": 24,
     "metadata": {},
     "output_type": "execute_result"
    },
    {
     "data": {
      "image/png": "[encoded data removed]",
      "text/plain": [
       "<Figure size 432x288 with 1 Axes>"
      ]
     },
     "metadata": {
      "needs_background": "light"
     },
     "output_type": "display_data"
    }
   ],
   "source": [
    "#Graphical visuvalisation\n",
    "sns.countplot(df_train[\"Pesticide_Use_Category\"])"
   ]
  },
  {
   "cell_type": "markdown",
   "metadata": {},
   "source": [
    "###### Observation\n",
    "\n",
    "i)The pesticide of catagery 2 is used more \n",
    "\n",
    "ii)The pesticide of catagery 1 is used less than the other two catagery "
   ]
  },
  {
   "cell_type": "code",
   "execution_count": 25,
   "metadata": {},
   "outputs": [
    {
     "data": {
      "text/plain": [
       "array([1, 2, 3], dtype=int64)"
      ]
     },
     "execution_count": 25,
     "metadata": {},
     "output_type": "execute_result"
    }
   ],
   "source": [
    "#exploring column Season\n",
    "df_train[\"Season\"].unique()"
   ]
  },
  {
   "cell_type": "code",
   "execution_count": 26,
   "metadata": {},
   "outputs": [
    {
     "data": {
      "text/plain": [
       "2    2327\n",
       "1    1379\n",
       "3     893\n",
       "Name: Season, dtype: int64"
      ]
     },
     "execution_count": 26,
     "metadata": {},
     "output_type": "execute_result"
    }
   ],
   "source": [
    "df_train[\"Season\"].value_counts()"
   ]
  },
  {
   "cell_type": "code",
   "execution_count": 27,
   "metadata": {},
   "outputs": [
    {
     "data": {
      "text/plain": [
       "<matplotlib.axes._subplots.AxesSubplot at 0x1bf14f82a00>"
      ]
     },
     "execution_count": 27,
     "metadata": {},
     "output_type": "execute_result"
    },
    {
     "data": {
      "image/png": "[encoded data removed]",
      "text/plain": [
       "<Figure size 432x288 with 1 Axes>"
      ]
     },
     "metadata": {
      "needs_background": "light"
     },
     "output_type": "display_data"
    }
   ],
   "source": [
    "#Graphical visuvalisation\n",
    "sns.countplot(df_train[\"Season\"])"
   ]
  },
  {
   "cell_type": "markdown",
   "metadata": {},
   "source": [
    "###### Observation\n",
    "\n",
    "the crops harvested were seen more in Season \"2\", \n",
    "\n",
    "followed by Season \"1\" and season \"3\""
   ]
  },
  {
   "cell_type": "code",
   "execution_count": 28,
   "metadata": {},
   "outputs": [
    {
     "data": {
      "text/plain": [
       "array([0, 1, 2], dtype=int64)"
      ]
     },
     "execution_count": 28,
     "metadata": {},
     "output_type": "execute_result"
    }
   ],
   "source": [
    "#exploring column Crop_Damage\n",
    "df_train[\"Crop_Damage\"].unique()"
   ]
  },
  {
   "cell_type": "code",
   "execution_count": 29,
   "metadata": {},
   "outputs": [
    {
     "data": {
      "text/plain": [
       "0    3820\n",
       "1     664\n",
       "2     115\n",
       "Name: Crop_Damage, dtype: int64"
      ]
     },
     "execution_count": 29,
     "metadata": {},
     "output_type": "execute_result"
    }
   ],
   "source": [
    "df_train[\"Crop_Damage\"].value_counts()"
   ]
  },
  {
   "cell_type": "code",
   "execution_count": 30,
   "metadata": {},
   "outputs": [
    {
     "data": {
      "text/plain": [
       "<matplotlib.axes._subplots.AxesSubplot at 0x1bf14fc55e0>"
      ]
     },
     "execution_count": 30,
     "metadata": {},
     "output_type": "execute_result"
    },
    {
     "data": {
      "image/png": "[encoded data removed]",
      "text/plain": [
       "<Figure size 432x288 with 1 Axes>"
      ]
     },
     "metadata": {
      "needs_background": "light"
     },
     "output_type": "display_data"
    }
   ],
   "source": [
    "#Graphical visuvalisation\n",
    "sns.countplot(df_train[\"Crop_Damage\"])"
   ]
  },
  {
   "cell_type": "markdown",
   "metadata": {},
   "source": [
    "###### Observation\n",
    "\n",
    "The crop damage \"0\" represents - the crop is alive\n",
    "\n",
    "The crop damage \"1\" represents - the crop is damaged due to other causes\n",
    "\n",
    "The crop damage \"2\" represents - the crop is damaged due to Pesticides\n",
    "\n",
    "the Graph shows that the reason for crops damage is more due to other causes rather than over usage of Pesticides "
   ]
  },
  {
   "cell_type": "markdown",
   "metadata": {},
   "source": [
    "# BIVARIATE ANALYSIS"
   ]
  },
  {
   "cell_type": "code",
   "execution_count": 31,
   "metadata": {},
   "outputs": [
    {
     "data": {
      "text/plain": [
       "<matplotlib.axes._subplots.AxesSubplot at 0x1bf14ffd730>"
      ]
     },
     "execution_count": 31,
     "metadata": {},
     "output_type": "execute_result"
    },
    {
     "data": {
      "image/png": "[encoded data removed]",
      "text/plain": [
       "<Figure size 432x288 with 1 Axes>"
      ]
     },
     "metadata": {
      "needs_background": "light"
     },
     "output_type": "display_data"
    }
   ],
   "source": [
    "#scatterplot between crop damage vs Estimated insects counts\n",
    "sns.barplot(x=\"Crop_Damage\",y=\"Estimated_Insects_Count\",data=df_train)"
   ]
  },
  {
   "cell_type": "markdown",
   "metadata": {},
   "source": [
    "###### observation:\n",
    "\n",
    "Estimated insect counts per square meter is high in the region where the Crop damage is due to other causes.we can infer that the other major cause for the crop damage is insects\n",
    "\n",
    "Estimated insect counts per square meter is low in the region where the crops are alive\n",
    "\n"
   ]
  },
  {
   "cell_type": "code",
   "execution_count": 32,
   "metadata": {},
   "outputs": [
    {
     "data": {
      "text/plain": [
       "<matplotlib.axes._subplots.AxesSubplot at 0x1bf14ede370>"
      ]
     },
     "execution_count": 32,
     "metadata": {},
     "output_type": "execute_result"
    },
    {
     "data": {
      "image/png": "[encoded data removed]",
      "text/plain": [
       "<Figure size 432x288 with 1 Axes>"
      ]
     },
     "metadata": {
      "needs_background": "light"
     },
     "output_type": "display_data"
    }
   ],
   "source": [
    "#scatterplot between crop damage vs Estimated insects counts\n",
    "sns.barplot(x=\"Season\",y=\"Crop_Damage\",data=df_train)"
   ]
  },
  {
   "cell_type": "markdown",
   "metadata": {},
   "source": [
    "Observation:\n",
    "    \n",
    "    The crop damage is high in season 2 whereas\n",
    "    \n",
    "    the crop damage is low in season 3\n",
    "    "
   ]
  },
  {
   "cell_type": "markdown",
   "metadata": {},
   "source": [
    "# CORRELATION"
   ]
  },
  {
   "cell_type": "code",
   "execution_count": 33,
   "metadata": {},
   "outputs": [
    {
     "data": {
      "text/html": [
       "<div>\n",
       "<style scoped>\n",
       "    .dataframe tbody tr th:only-of-type {\n",
       "        vertical-align: middle;\n",
       "    }\n",
       "\n",
       "    .dataframe tbody tr th {\n",
       "        vertical-align: top;\n",
       "    }\n",
       "\n",
       "    .dataframe thead th {\n",
       "        text-align: right;\n",
       "    }\n",
       "</style>\n",
       "<table border=\"1\" class=\"dataframe\">\n",
       "  <thead>\n",
       "    <tr style=\"text-align: right;\">\n",
       "      <th></th>\n",
       "      <th>Estimated_Insects_Count</th>\n",
       "      <th>Crop_Type</th>\n",
       "      <th>Soil_Type</th>\n",
       "      <th>Pesticide_Use_Category</th>\n",
       "      <th>Number_Doses_Week</th>\n",
       "      <th>Number_Weeks_Used</th>\n",
       "      <th>Number_Weeks_Quit</th>\n",
       "      <th>Season</th>\n",
       "      <th>Crop_Damage</th>\n",
       "    </tr>\n",
       "  </thead>\n",
       "  <tbody>\n",
       "    <tr>\n",
       "      <th>Estimated_Insects_Count</th>\n",
       "      <td>1.000000</td>\n",
       "      <td>-0.036911</td>\n",
       "      <td>-0.151796</td>\n",
       "      <td>-0.027111</td>\n",
       "      <td>-0.122509</td>\n",
       "      <td>0.427904</td>\n",
       "      <td>0.246719</td>\n",
       "      <td>-0.009482</td>\n",
       "      <td>0.202312</td>\n",
       "    </tr>\n",
       "    <tr>\n",
       "      <th>Crop_Type</th>\n",
       "      <td>-0.036911</td>\n",
       "      <td>1.000000</td>\n",
       "      <td>-0.175019</td>\n",
       "      <td>0.349662</td>\n",
       "      <td>-0.163832</td>\n",
       "      <td>-0.002128</td>\n",
       "      <td>-0.273475</td>\n",
       "      <td>-0.000549</td>\n",
       "      <td>0.021772</td>\n",
       "    </tr>\n",
       "    <tr>\n",
       "      <th>Soil_Type</th>\n",
       "      <td>-0.151796</td>\n",
       "      <td>-0.175019</td>\n",
       "      <td>1.000000</td>\n",
       "      <td>0.021661</td>\n",
       "      <td>0.050099</td>\n",
       "      <td>-0.093539</td>\n",
       "      <td>-0.034355</td>\n",
       "      <td>0.011052</td>\n",
       "      <td>-0.059481</td>\n",
       "    </tr>\n",
       "    <tr>\n",
       "      <th>Pesticide_Use_Category</th>\n",
       "      <td>-0.027111</td>\n",
       "      <td>0.349662</td>\n",
       "      <td>0.021661</td>\n",
       "      <td>1.000000</td>\n",
       "      <td>-0.005985</td>\n",
       "      <td>0.368106</td>\n",
       "      <td>-0.569467</td>\n",
       "      <td>0.008487</td>\n",
       "      <td>0.199195</td>\n",
       "    </tr>\n",
       "    <tr>\n",
       "      <th>Number_Doses_Week</th>\n",
       "      <td>-0.122509</td>\n",
       "      <td>-0.163832</td>\n",
       "      <td>0.050099</td>\n",
       "      <td>-0.005985</td>\n",
       "      <td>1.000000</td>\n",
       "      <td>0.099705</td>\n",
       "      <td>-0.032381</td>\n",
       "      <td>-0.003768</td>\n",
       "      <td>-0.018363</td>\n",
       "    </tr>\n",
       "    <tr>\n",
       "      <th>Number_Weeks_Used</th>\n",
       "      <td>0.427904</td>\n",
       "      <td>-0.002128</td>\n",
       "      <td>-0.093539</td>\n",
       "      <td>0.368106</td>\n",
       "      <td>0.099705</td>\n",
       "      <td>1.000000</td>\n",
       "      <td>-0.446200</td>\n",
       "      <td>-0.010590</td>\n",
       "      <td>0.231925</td>\n",
       "    </tr>\n",
       "    <tr>\n",
       "      <th>Number_Weeks_Quit</th>\n",
       "      <td>0.246719</td>\n",
       "      <td>-0.273475</td>\n",
       "      <td>-0.034355</td>\n",
       "      <td>-0.569467</td>\n",
       "      <td>-0.032381</td>\n",
       "      <td>-0.446200</td>\n",
       "      <td>1.000000</td>\n",
       "      <td>0.004861</td>\n",
       "      <td>-0.152918</td>\n",
       "    </tr>\n",
       "    <tr>\n",
       "      <th>Season</th>\n",
       "      <td>-0.009482</td>\n",
       "      <td>-0.000549</td>\n",
       "      <td>0.011052</td>\n",
       "      <td>0.008487</td>\n",
       "      <td>-0.003768</td>\n",
       "      <td>-0.010590</td>\n",
       "      <td>0.004861</td>\n",
       "      <td>1.000000</td>\n",
       "      <td>-0.016196</td>\n",
       "    </tr>\n",
       "    <tr>\n",
       "      <th>Crop_Damage</th>\n",
       "      <td>0.202312</td>\n",
       "      <td>0.021772</td>\n",
       "      <td>-0.059481</td>\n",
       "      <td>0.199195</td>\n",
       "      <td>-0.018363</td>\n",
       "      <td>0.231925</td>\n",
       "      <td>-0.152918</td>\n",
       "      <td>-0.016196</td>\n",
       "      <td>1.000000</td>\n",
       "    </tr>\n",
       "  </tbody>\n",
       "</table>\n",
       "</div>"
      ],
      "text/plain": [
       "                         Estimated_Insects_Count  Crop_Type  Soil_Type  \\\n",
       "Estimated_Insects_Count                 1.000000  -0.036911  -0.151796   \n",
       "Crop_Type                              -0.036911   1.000000  -0.175019   \n",
       "Soil_Type                              -0.151796  -0.175019   1.000000   \n",
       "Pesticide_Use_Category                 -0.027111   0.349662   0.021661   \n",
       "Number_Doses_Week                      -0.122509  -0.163832   0.050099   \n",
       "Number_Weeks_Used                       0.427904  -0.002128  -0.093539   \n",
       "Number_Weeks_Quit                       0.246719  -0.273475  -0.034355   \n",
       "Season                                 -0.009482  -0.000549   0.011052   \n",
       "Crop_Damage                             0.202312   0.021772  -0.059481   \n",
       "\n",
       "                         Pesticide_Use_Category  Number_Doses_Week  \\\n",
       "Estimated_Insects_Count               -0.027111          -0.122509   \n",
       "Crop_Type                              0.349662          -0.163832   \n",
       "Soil_Type                              0.021661           0.050099   \n",
       "Pesticide_Use_Category                 1.000000          -0.005985   \n",
       "Number_Doses_Week                     -0.005985           1.000000   \n",
       "Number_Weeks_Used                      0.368106           0.099705   \n",
       "Number_Weeks_Quit                     -0.569467          -0.032381   \n",
       "Season                                 0.008487          -0.003768   \n",
       "Crop_Damage                            0.199195          -0.018363   \n",
       "\n",
       "                         Number_Weeks_Used  Number_Weeks_Quit    Season  \\\n",
       "Estimated_Insects_Count           0.427904           0.246719 -0.009482   \n",
       "Crop_Type                        -0.002128          -0.273475 -0.000549   \n",
       "Soil_Type                        -0.093539          -0.034355  0.011052   \n",
       "Pesticide_Use_Category            0.368106          -0.569467  0.008487   \n",
       "Number_Doses_Week                 0.099705          -0.032381 -0.003768   \n",
       "Number_Weeks_Used                 1.000000          -0.446200 -0.010590   \n",
       "Number_Weeks_Quit                -0.446200           1.000000  0.004861   \n",
       "Season                           -0.010590           0.004861  1.000000   \n",
       "Crop_Damage                       0.231925          -0.152918 -0.016196   \n",
       "\n",
       "                         Crop_Damage  \n",
       "Estimated_Insects_Count     0.202312  \n",
       "Crop_Type                   0.021772  \n",
       "Soil_Type                  -0.059481  \n",
       "Pesticide_Use_Category      0.199195  \n",
       "Number_Doses_Week          -0.018363  \n",
       "Number_Weeks_Used           0.231925  \n",
       "Number_Weeks_Quit          -0.152918  \n",
       "Season                     -0.016196  \n",
       "Crop_Damage                 1.000000  "
      ]
     },
     "execution_count": 33,
     "metadata": {},
     "output_type": "execute_result"
    }
   ],
   "source": [
    "cor=df_train.corr()\n",
    "cor"
   ]
  },
  {
   "cell_type": "code",
   "execution_count": 34,
   "metadata": {},
   "outputs": [
    {
     "data": {
      "image/png": "[encoded data removed]",
      "text/plain": [
       "<Figure size 576x576 with 2 Axes>"
      ]
     },
     "metadata": {
      "needs_background": "light"
     },
     "output_type": "display_data"
    }
   ],
   "source": [
    "#visuvalization of correlation using Heatmap\n",
    "plt.figure(figsize=(8,8))\n",
    "sns.heatmap(cor,annot=True)\n",
    "plt.show()"
   ]
  },
  {
   "cell_type": "markdown",
   "metadata": {},
   "source": [
    "###### KEY OBSERVATION:\n",
    "\n",
    "from the above result it is clear that some columns making positive correlation while some has negative correlation to the target variable \n",
    "\n",
    "columns making positive correlation\n",
    "\n",
    "1)Estimated_Insects_Count\n",
    "\n",
    "2)Crop_Type\n",
    "\n",
    "3)Pesticide_Use_Category\n",
    "\n",
    "4)Number_Weeks_Used\n",
    "\n",
    "\n",
    "columns making negative correlation\n",
    "\n",
    "1)Soil_Type\n",
    "\n",
    "2)Number_Weeks_Quit\n",
    "\n",
    "3)Season\n",
    "\n",
    "4)Number_Doses_Week\n",
    "\n",
    "                 \n",
    "                  \n",
    "\n",
    "\n"
   ]
  },
  {
   "cell_type": "markdown",
   "metadata": {},
   "source": [
    "# DATA CLEANING"
   ]
  },
  {
   "cell_type": "markdown",
   "metadata": {},
   "source": [
    "## finding outliers"
   ]
  },
  {
   "cell_type": "code",
   "execution_count": 35,
   "metadata": {},
   "outputs": [
    {
     "data": {
      "image/png": "[encoded data removed]",
      "text/plain": [
       "<Figure size 648x648 with 9 Axes>"
      ]
     },
     "metadata": {
      "needs_background": "light"
     },
     "output_type": "display_data"
    }
   ],
   "source": [
    "#Plotting Outliers\n",
    "collist=df_train.columns.values\n",
    "ncol=3\n",
    "nrow=3\n",
    "plt.figure(figsize=(3*nrow,3*ncol))\n",
    "for i in range (0,len(collist)):\n",
    "    plt.subplot(nrow,ncol,i+1)\n",
    "    sns.boxplot(df_train[collist[i]],color=\"red\",orient=\"v\")\n",
    "    plt.tight_layout()               "
   ]
  },
  {
   "cell_type": "markdown",
   "metadata": {},
   "source": [
    "###### Observation:\n",
    "\n",
    "Outliers present in \n",
    "\n",
    "1)Estimated_Insects_Count\n",
    "\n",
    "2)Crop_Type\n",
    "\n",
    "3)Number_Doses_Week\n",
    "        \n",
    "4)Number_Weeks_Used\n",
    "\n",
    "5)Number_Weeks_Quit\n",
    "      \n",
    "6)Crop_Damage"
   ]
  },
  {
   "cell_type": "markdown",
   "metadata": {},
   "source": [
    "## Treating Outliers"
   ]
  },
  {
   "cell_type": "code",
   "execution_count": 36,
   "metadata": {},
   "outputs": [
    {
     "data": {
      "text/plain": [
       "array([[1.44286807, 1.85681868, 0.95429408, ..., 0.94782668, 1.28702725,\n",
       "        0.42765624],\n",
       "       [1.41708065, 1.85681868, 0.95429408, ..., 0.94782668, 0.15207762,\n",
       "        1.77233374],\n",
       "       [1.35813798, 1.85681868, 0.95429408, ..., 0.94782668, 0.15207762,\n",
       "        1.77233374],\n",
       "       ...,\n",
       "       [1.11008649, 0.53855555, 1.04789501, ..., 1.83218282, 0.15207762,\n",
       "        0.42765624],\n",
       "       [1.11008649, 0.53855555, 1.04789501, ..., 1.52329287, 0.15207762,\n",
       "        0.42765624],\n",
       "       [1.11008649, 0.53855555, 1.04789501, ..., 0.80254967, 0.15207762,\n",
       "        0.42765624]])"
      ]
     },
     "execution_count": 36,
     "metadata": {},
     "output_type": "execute_result"
    }
   ],
   "source": [
    "#Removing Outliers\n",
    "#Z-score Techinique\n",
    "from scipy.stats import zscore\n",
    "z=np.abs(zscore(df_train))\n",
    "z\n"
   ]
  },
  {
   "cell_type": "code",
   "execution_count": 37,
   "metadata": {},
   "outputs": [
    {
     "name": "stdout",
     "output_type": "stream",
     "text": [
      "(array([   7,    9,   14,   22,   23,  100,  103,  112,  149,  165,  166,\n",
      "        167,  179,  185,  186,  197,  207,  222,  223,  242,  248,  252,\n",
      "        264,  265,  290,  296,  305,  316,  325,  346,  351,  355,  361,\n",
      "        374,  375,  377,  384,  453,  458,  466,  480,  510,  517,  522,\n",
      "        557,  595,  612,  634,  693,  702,  703,  704,  705,  706,  807,\n",
      "        819,  855,  856,  911,  944,  978,  980,  998, 1017, 1019, 1067,\n",
      "       1097, 1178, 1212, 1291, 1307, 1324, 1326, 1327, 1329, 1337, 1339,\n",
      "       1340, 1341, 1342, 1343, 1344, 1345, 1346, 1347, 1347, 1348, 1349,\n",
      "       1406, 1443, 1457, 1489, 1523, 1589, 1652, 1654, 1737, 1807, 1868,\n",
      "       2019, 2043, 2090, 2136, 2139, 2140, 2165, 2170, 2171, 2174, 2183,\n",
      "       2185, 2188, 2190, 2190, 2191, 2192, 2193, 2194, 2237, 2392, 2553,\n",
      "       2565, 2585, 2589, 2590, 2590, 2591, 2615, 2663, 2671, 2696, 2702,\n",
      "       2710, 2714, 2716, 2723, 2767, 2779, 2792, 2796, 2797, 2804, 2806,\n",
      "       2814, 2828, 2829, 2834, 2841, 2842, 2851, 2860, 2861, 2870, 2884,\n",
      "       2888, 2912, 2915, 2917, 2921, 2923, 2928, 2929, 2940, 2942, 2944,\n",
      "       2945, 3015, 3045, 3048, 3058, 3086, 3107, 3126, 3183, 3189, 3206,\n",
      "       3241, 3248, 3252, 3253, 3254, 3255, 3256, 3257, 3336, 3388, 3526,\n",
      "       3628, 3629, 3657, 3682, 3686, 3716, 3717, 3718, 3718, 3740, 3766,\n",
      "       3796, 3830, 3840, 3841, 3850, 3851, 3856, 3894, 3902, 3915, 3919,\n",
      "       3932, 3932, 3933, 3934, 3935, 3935, 3936, 3937, 3938, 3939, 3940,\n",
      "       3940, 4024, 4091, 4155, 4186, 4213, 4274, 4277, 4278, 4375, 4376,\n",
      "       4378, 4436, 4516, 4545, 4570], dtype=int64), array([8, 8, 8, 0, 0, 4, 8, 8, 8, 8, 8, 8, 8, 4, 8, 8, 8, 8, 8, 8, 8, 4,\n",
      "       8, 8, 8, 8, 8, 8, 4, 4, 8, 8, 8, 8, 5, 8, 0, 8, 8, 8, 8, 8, 8, 8,\n",
      "       8, 8, 8, 8, 8, 0, 0, 0, 0, 0, 4, 8, 4, 4, 4, 8, 4, 8, 4, 4, 4, 8,\n",
      "       4, 8, 6, 6, 6, 6, 6, 8, 6, 6, 8, 8, 0, 0, 0, 0, 0, 0, 0, 6, 0, 0,\n",
      "       4, 4, 4, 4, 4, 4, 4, 4, 8, 8, 4, 4, 8, 6, 4, 8, 6, 6, 8, 8, 6, 6,\n",
      "       6, 6, 0, 6, 0, 0, 0, 0, 8, 4, 6, 6, 8, 0, 0, 8, 0, 4, 8, 8, 8, 4,\n",
      "       8, 4, 8, 8, 8, 4, 8, 8, 8, 8, 8, 8, 8, 8, 8, 8, 8, 8, 8, 8, 8, 8,\n",
      "       8, 8, 8, 8, 8, 8, 5, 5, 5, 5, 0, 0, 8, 8, 4, 8, 8, 8, 8, 8, 8, 8,\n",
      "       5, 8, 0, 0, 0, 0, 0, 0, 4, 4, 4, 8, 8, 8, 4, 8, 8, 8, 4, 8, 8, 4,\n",
      "       8, 4, 6, 6, 8, 8, 6, 6, 6, 4, 6, 0, 6, 0, 0, 0, 8, 0, 0, 0, 0, 0,\n",
      "       6, 4, 8, 8, 4, 4, 4, 8, 8, 4, 4, 8, 4, 4, 8, 8], dtype=int64))\n"
     ]
    }
   ],
   "source": [
    "threshold=3\n",
    "print(np.where(z>3))"
   ]
  },
  {
   "cell_type": "code",
   "execution_count": 38,
   "metadata": {},
   "outputs": [
    {
     "data": {
      "text/plain": [
       "(4599, 9)"
      ]
     },
     "execution_count": 38,
     "metadata": {},
     "output_type": "execute_result"
    }
   ],
   "source": [
    "df_train.shape"
   ]
  },
  {
   "cell_type": "code",
   "execution_count": 39,
   "metadata": {},
   "outputs": [
    {
     "data": {
      "text/plain": [
       "(4370, 9)"
      ]
     },
     "execution_count": 39,
     "metadata": {},
     "output_type": "execute_result"
    }
   ],
   "source": [
    "df_new=df_train[(z<3).all(axis=1)]\n",
    "df_new.shape"
   ]
  },
  {
   "cell_type": "code",
   "execution_count": 40,
   "metadata": {},
   "outputs": [
    {
     "data": {
      "text/plain": [
       "4.979343335507719"
      ]
     },
     "execution_count": 40,
     "metadata": {},
     "output_type": "execute_result"
    }
   ],
   "source": [
    "#Percentage loss\n",
    "loss=(4599-4370)/4599*100\n",
    "loss"
   ]
  },
  {
   "cell_type": "markdown",
   "metadata": {},
   "source": [
    "###### Observation:\n",
    "\n",
    "The Outliers loss percentange is minimal.so proceeding further"
   ]
  },
  {
   "cell_type": "markdown",
   "metadata": {},
   "source": [
    "## Finding Skewness"
   ]
  },
  {
   "cell_type": "code",
   "execution_count": 41,
   "metadata": {},
   "outputs": [
    {
     "data": {
      "text/plain": [
       "Estimated_Insects_Count    0.789806\n",
       "Crop_Type                  1.308548\n",
       "Soil_Type                  0.079724\n",
       "Pesticide_Use_Category     0.753578\n",
       "Number_Doses_Week          0.711083\n",
       "Number_Weeks_Used          0.275330\n",
       "Number_Weeks_Quit          0.813382\n",
       "Season                     0.141605\n",
       "Crop_Damage                2.003206\n",
       "dtype: float64"
      ]
     },
     "execution_count": 41,
     "metadata": {},
     "output_type": "execute_result"
    }
   ],
   "source": [
    "#checking for skewness\n",
    "df_new.skew()"
   ]
  },
  {
   "cell_type": "markdown",
   "metadata": {},
   "source": [
    "###### Observation:\n",
    "\n",
    "All the columns are positively skewed"
   ]
  },
  {
   "cell_type": "markdown",
   "metadata": {},
   "source": [
    "# Seperating Target Variable\n"
   ]
  },
  {
   "cell_type": "code",
   "execution_count": 42,
   "metadata": {},
   "outputs": [],
   "source": [
    "x_l=df_new.drop([\"Crop_Damage\"],axis=1)\n",
    "y=df_new[\"Crop_Damage\"]"
   ]
  },
  {
   "cell_type": "code",
   "execution_count": 43,
   "metadata": {},
   "outputs": [
    {
     "data": {
      "text/html": [
       "<div>\n",
       "<style scoped>\n",
       "    .dataframe tbody tr th:only-of-type {\n",
       "        vertical-align: middle;\n",
       "    }\n",
       "\n",
       "    .dataframe tbody tr th {\n",
       "        vertical-align: top;\n",
       "    }\n",
       "\n",
       "    .dataframe thead th {\n",
       "        text-align: right;\n",
       "    }\n",
       "</style>\n",
       "<table border=\"1\" class=\"dataframe\">\n",
       "  <thead>\n",
       "    <tr style=\"text-align: right;\">\n",
       "      <th></th>\n",
       "      <th>Estimated_Insects_Count</th>\n",
       "      <th>Crop_Type</th>\n",
       "      <th>Soil_Type</th>\n",
       "      <th>Pesticide_Use_Category</th>\n",
       "      <th>Number_Doses_Week</th>\n",
       "      <th>Number_Weeks_Used</th>\n",
       "      <th>Number_Weeks_Quit</th>\n",
       "      <th>Season</th>\n",
       "    </tr>\n",
       "  </thead>\n",
       "  <tbody>\n",
       "    <tr>\n",
       "      <th>0</th>\n",
       "      <td>188</td>\n",
       "      <td>1</td>\n",
       "      <td>0</td>\n",
       "      <td>1</td>\n",
       "      <td>0</td>\n",
       "      <td>0.0</td>\n",
       "      <td>0</td>\n",
       "      <td>1</td>\n",
       "    </tr>\n",
       "    <tr>\n",
       "      <th>1</th>\n",
       "      <td>209</td>\n",
       "      <td>1</td>\n",
       "      <td>0</td>\n",
       "      <td>1</td>\n",
       "      <td>0</td>\n",
       "      <td>0.0</td>\n",
       "      <td>0</td>\n",
       "      <td>2</td>\n",
       "    </tr>\n",
       "    <tr>\n",
       "      <th>2</th>\n",
       "      <td>257</td>\n",
       "      <td>1</td>\n",
       "      <td>0</td>\n",
       "      <td>1</td>\n",
       "      <td>0</td>\n",
       "      <td>0.0</td>\n",
       "      <td>0</td>\n",
       "      <td>2</td>\n",
       "    </tr>\n",
       "    <tr>\n",
       "      <th>3</th>\n",
       "      <td>257</td>\n",
       "      <td>1</td>\n",
       "      <td>1</td>\n",
       "      <td>1</td>\n",
       "      <td>0</td>\n",
       "      <td>0.0</td>\n",
       "      <td>0</td>\n",
       "      <td>2</td>\n",
       "    </tr>\n",
       "    <tr>\n",
       "      <th>4</th>\n",
       "      <td>342</td>\n",
       "      <td>1</td>\n",
       "      <td>0</td>\n",
       "      <td>1</td>\n",
       "      <td>0</td>\n",
       "      <td>0.0</td>\n",
       "      <td>0</td>\n",
       "      <td>2</td>\n",
       "    </tr>\n",
       "  </tbody>\n",
       "</table>\n",
       "</div>"
      ],
      "text/plain": [
       "   Estimated_Insects_Count  Crop_Type  Soil_Type  Pesticide_Use_Category  \\\n",
       "0                      188          1          0                       1   \n",
       "1                      209          1          0                       1   \n",
       "2                      257          1          0                       1   \n",
       "3                      257          1          1                       1   \n",
       "4                      342          1          0                       1   \n",
       "\n",
       "   Number_Doses_Week  Number_Weeks_Used  Number_Weeks_Quit  Season  \n",
       "0                  0                0.0                  0       1  \n",
       "1                  0                0.0                  0       2  \n",
       "2                  0                0.0                  0       2  \n",
       "3                  0                0.0                  0       2  \n",
       "4                  0                0.0                  0       2  "
      ]
     },
     "execution_count": 43,
     "metadata": {},
     "output_type": "execute_result"
    }
   ],
   "source": [
    "x_l.head()"
   ]
  },
  {
   "cell_type": "code",
   "execution_count": 44,
   "metadata": {},
   "outputs": [
    {
     "data": {
      "text/plain": [
       "0       0\n",
       "1       1\n",
       "2       1\n",
       "3       1\n",
       "4       1\n",
       "       ..\n",
       "4594    1\n",
       "4595    1\n",
       "4596    0\n",
       "4597    0\n",
       "4598    0\n",
       "Name: Crop_Damage, Length: 4370, dtype: int64"
      ]
     },
     "execution_count": 44,
     "metadata": {},
     "output_type": "execute_result"
    }
   ],
   "source": [
    "y"
   ]
  },
  {
   "cell_type": "markdown",
   "metadata": {},
   "source": [
    "## Removing Skewness"
   ]
  },
  {
   "cell_type": "code",
   "execution_count": 45,
   "metadata": {},
   "outputs": [],
   "source": [
    "#Skewness treatment\n",
    "#treating using log\n",
    "threshold=0.55\n",
    "import numpy as np\n",
    "for i in x_l.columns:\n",
    "    if x_l[i].skew()>0.65:\n",
    "        x_l[i]=np.log1p(x_l[i])\n",
    "    "
   ]
  },
  {
   "cell_type": "markdown",
   "metadata": {},
   "source": [
    "# Scaling Input Variable"
   ]
  },
  {
   "cell_type": "code",
   "execution_count": 46,
   "metadata": {},
   "outputs": [
    {
     "data": {
      "text/plain": [
       "array([[-2.6958167 ,  1.8489469 , -0.9609451 , ..., -2.44567922,\n",
       "        -1.29813915, -1.28855889],\n",
       "       [-2.53419472,  1.8489469 , -0.9609451 , ..., -2.44567922,\n",
       "        -1.29813915,  0.14755495],\n",
       "       [-2.21841971,  1.8489469 , -0.9609451 , ..., -2.44567922,\n",
       "        -1.29813915,  0.14755495],\n",
       "       ...,\n",
       "       [ 1.11600538, -0.54084841,  1.04064217, ..., -1.8474572 ,\n",
       "         1.28920135,  0.14755495],\n",
       "       [ 1.11600538, -0.54084841,  1.04064217, ..., -0.73647346,\n",
       "         1.20120558,  0.14755495],\n",
       "       [ 1.11600538, -0.54084841,  1.04064217, ...,  0.37451028,\n",
       "         0.94613364,  0.14755495]])"
      ]
     },
     "execution_count": 46,
     "metadata": {},
     "output_type": "execute_result"
    }
   ],
   "source": [
    "# Algorithms requires all features to be on common scale. \n",
    "#using Standard Scaler\n",
    "from sklearn.preprocessing import StandardScaler\n",
    "sc=StandardScaler()\n",
    "x=sc.fit_transform(x_l)\n",
    "x\n"
   ]
  },
  {
   "cell_type": "markdown",
   "metadata": {},
   "source": [
    "# preparing dataset for model training\n"
   ]
  },
  {
   "cell_type": "markdown",
   "metadata": {},
   "source": [
    "## splitting the testing and training data"
   ]
  },
  {
   "cell_type": "code",
   "execution_count": 47,
   "metadata": {},
   "outputs": [],
   "source": [
    "#importing Libraries\n",
    "from sklearn.model_selection import train_test_split\n",
    "from sklearn.metrics import accuracy_score"
   ]
  },
  {
   "cell_type": "code",
   "execution_count": 48,
   "metadata": {},
   "outputs": [],
   "source": [
    "x_train,x_test,y_train,y_test=train_test_split(x,y,test_size=.20,random_state=42)"
   ]
  },
  {
   "cell_type": "code",
   "execution_count": 49,
   "metadata": {},
   "outputs": [
    {
     "data": {
      "text/plain": [
       "((3496, 8), (874, 8), (3496,), (874,))"
      ]
     },
     "execution_count": 49,
     "metadata": {},
     "output_type": "execute_result"
    }
   ],
   "source": [
    "x_train.shape,x_test.shape,y_train.shape,y_test.shape"
   ]
  },
  {
   "cell_type": "markdown",
   "metadata": {},
   "source": [
    "# finding best model\n",
    "\n",
    "Popular algorithms that can be used for multi-class classification include:\n",
    "\n",
    "1)k-Nearest Neighbors.\n",
    "\n",
    "2)Decision Trees.\n",
    "\n",
    "3)Support Vector Machine\n",
    "\n",
    "4)Random Forest Regressor\n",
    "\n",
    "5)Gradient Boosting"
   ]
  },
  {
   "cell_type": "code",
   "execution_count": 50,
   "metadata": {},
   "outputs": [],
   "source": [
    "#importing our model library\n",
    "from sklearn.neighbors import KNeighborsClassifier\n",
    "knn=KNeighborsClassifier()\n",
    "from sklearn.tree import DecisionTreeClassifier\n",
    "dt=DecisionTreeClassifier()\n",
    "from sklearn.svm import SVC\n",
    "svc=SVC()\n",
    "from sklearn.ensemble import RandomForestClassifier\n",
    "rf=RandomForestClassifier()\n",
    "from sklearn.ensemble import GradientBoostingClassifier\n",
    "gb=GradientBoostingClassifier()\n"
   ]
  },
  {
   "cell_type": "markdown",
   "metadata": {},
   "source": [
    "## using Algorithms via for loop"
   ]
  },
  {
   "cell_type": "code",
   "execution_count": 51,
   "metadata": {},
   "outputs": [
    {
     "name": "stdout",
     "output_type": "stream",
     "text": [
      "the score of  KNeighborsClassifier() is\n",
      "training accuracy score  : 87.98627002288329\n",
      "testing accuracy score  : 84.09610983981693\n",
      "*********************************************************************\n",
      "\n",
      "\n",
      "\n",
      "the score of  DecisionTreeClassifier() is\n",
      "training accuracy score  : 99.9141876430206\n",
      "testing accuracy score  : 75.74370709382151\n",
      "*********************************************************************\n",
      "\n",
      "\n",
      "\n",
      "the score of  SVC() is\n",
      "training accuracy score  : 86.29862700228833\n",
      "testing accuracy score  : 85.58352402745996\n",
      "*********************************************************************\n",
      "\n",
      "\n",
      "\n",
      "the score of  RandomForestClassifier() is\n",
      "training accuracy score  : 99.9141876430206\n",
      "testing accuracy score  : 84.32494279176201\n",
      "*********************************************************************\n",
      "\n",
      "\n",
      "\n",
      "the score of  GradientBoostingClassifier() is\n",
      "training accuracy score  : 87.90045766590389\n",
      "testing accuracy score  : 85.58352402745996\n",
      "*********************************************************************\n",
      "\n",
      "\n",
      "\n"
     ]
    }
   ],
   "source": [
    "model=[knn,dt,svc,rf,gb]\n",
    "for m in model:\n",
    "    m.fit(x_train,y_train)\n",
    "    pred_train=m.predict(x_train)\n",
    "    pred_test=m.predict(x_test)\n",
    "    print(\"the score of \",m,\"is\")\n",
    "    print(\"training accuracy score  :\",accuracy_score(y_train,pred_train)*100)\n",
    "    print(\"testing accuracy score  :\",accuracy_score(y_test,pred_test)*100)\n",
    "    print(\"*********************************************************************\")\n",
    "    print(\"\\n\\n\")\n",
    "    "
   ]
  },
  {
   "cell_type": "code",
   "execution_count": 52,
   "metadata": {},
   "outputs": [],
   "source": [
    "#importing \n",
    "#classification Report\n",
    "#confusion_matrix\n",
    "#f1_score\n",
    "#roc_auc_score\n",
    "from sklearn.metrics import confusion_matrix\n",
    "from sklearn.metrics import classification_report\n",
    "from sklearn.metrics import f1_score\n",
    "from sklearn.metrics import roc_auc_score"
   ]
  },
  {
   "cell_type": "code",
   "execution_count": 53,
   "metadata": {},
   "outputs": [
    {
     "name": "stdout",
     "output_type": "stream",
     "text": [
      "Report of  KNeighborsClassifier() is\n",
      "confussion matrix \n",
      " [[706  44]\n",
      " [ 95  29]]\n",
      "classification_report  \n",
      "               precision    recall  f1-score   support\n",
      "\n",
      "           0       0.88      0.94      0.91       750\n",
      "           1       0.40      0.23      0.29       124\n",
      "\n",
      "    accuracy                           0.84       874\n",
      "   macro avg       0.64      0.59      0.60       874\n",
      "weighted avg       0.81      0.84      0.82       874\n",
      "\n",
      "Report of  DecisionTreeClassifier() is\n",
      "confussion matrix \n",
      " [[629 121]\n",
      " [ 86  38]]\n",
      "classification_report  \n",
      "               precision    recall  f1-score   support\n",
      "\n",
      "           0       0.88      0.84      0.86       750\n",
      "           1       0.24      0.31      0.27       124\n",
      "\n",
      "    accuracy                           0.76       874\n",
      "   macro avg       0.56      0.57      0.56       874\n",
      "weighted avg       0.79      0.76      0.77       874\n",
      "\n",
      "Report of  SVC() is\n",
      "confussion matrix \n",
      " [[739  11]\n",
      " [115   9]]\n",
      "classification_report  \n",
      "               precision    recall  f1-score   support\n",
      "\n",
      "           0       0.87      0.99      0.92       750\n",
      "           1       0.45      0.07      0.12       124\n",
      "\n",
      "    accuracy                           0.86       874\n",
      "   macro avg       0.66      0.53      0.52       874\n",
      "weighted avg       0.81      0.86      0.81       874\n",
      "\n",
      "Report of  RandomForestClassifier() is\n",
      "confussion matrix \n",
      " [[717  33]\n",
      " [ 99  25]]\n",
      "classification_report  \n",
      "               precision    recall  f1-score   support\n",
      "\n",
      "           0       0.88      0.96      0.92       750\n",
      "           1       0.43      0.20      0.27       124\n",
      "\n",
      "    accuracy                           0.85       874\n",
      "   macro avg       0.65      0.58      0.60       874\n",
      "weighted avg       0.82      0.85      0.82       874\n",
      "\n",
      "Report of  GradientBoostingClassifier() is\n",
      "confussion matrix \n",
      " [[729  21]\n",
      " [105  19]]\n",
      "classification_report  \n",
      "               precision    recall  f1-score   support\n",
      "\n",
      "           0       0.87      0.97      0.92       750\n",
      "           1       0.47      0.15      0.23       124\n",
      "\n",
      "    accuracy                           0.86       874\n",
      "   macro avg       0.67      0.56      0.58       874\n",
      "weighted avg       0.82      0.86      0.82       874\n",
      "\n"
     ]
    }
   ],
   "source": [
    "model=[knn,dt,svc,rf,gb]\n",
    "for m in model:\n",
    "    m.fit(x_train,y_train)\n",
    "    pred_train=m.predict(x_train)\n",
    "    pred_test=m.predict(x_test)\n",
    "    print(\"Report of \",m, \"is\")\n",
    "    print(\"confussion matrix \\n\",confusion_matrix(y_test,pred_test))\n",
    "    print(\"classification_report  \\n\",classification_report(y_test,pred_test))\n",
    "   \n",
    "   \n"
   ]
  },
  {
   "cell_type": "markdown",
   "metadata": {},
   "source": [
    "# Observation"
   ]
  },
  {
   "cell_type": "markdown",
   "metadata": {},
   "source": [
    "##### From all the above we infer that the \"Random Forest Classifier\" performs well.\n",
    "\n",
    "It gives the Best results when compared with other models.\n",
    "\n",
    "        the score of  RandomForestClassifier() is\n",
    "\n",
    "        training accuracy score  : 99.914\n",
    "\n",
    "        testing accuracy score  : 84.096\n",
    "\n"
   ]
  },
  {
   "cell_type": "code",
   "execution_count": 54,
   "metadata": {},
   "outputs": [
    {
     "name": "stdout",
     "output_type": "stream",
     "text": [
      "{'n_estimators': 100, 'random_state': 4}\n"
     ]
    }
   ],
   "source": [
    "#Hyper parameter Tuning\n",
    "#RandomForestClassifier\n",
    "#using GridSearchCV\n",
    "from sklearn.model_selection import GridSearchCV\n",
    "from sklearn.ensemble import RandomForestClassifier\n",
    "parameters={\"n_estimators\" :[1,10,100,1000], \"random_state\": list(range(0,10))}\n",
    "rf=RandomForestClassifier()\n",
    "clf=GridSearchCV(rf,parameters)\n",
    "clf.fit(x_train,y_train)\n",
    "print(clf.best_params_)\n",
    "\n"
   ]
  },
  {
   "cell_type": "code",
   "execution_count": 55,
   "metadata": {},
   "outputs": [
    {
     "name": "stdout",
     "output_type": "stream",
     "text": [
      "At cv :  2 \n",
      "cross val score is :  84.16475972540044 \n",
      "accuracy score is:  84.32494279176201\n",
      "******************************************************************************\n",
      "\n",
      "\n",
      "\n",
      "At cv :  3 \n",
      "cross val score is :  83.75315201842312 \n",
      "accuracy score is:  84.32494279176201\n",
      "******************************************************************************\n",
      "\n",
      "\n",
      "\n",
      "At cv :  4 \n",
      "cross val score is :  83.04358991115625 \n",
      "accuracy score is:  84.32494279176201\n",
      "******************************************************************************\n",
      "\n",
      "\n",
      "\n",
      "At cv :  5 \n",
      "cross val score is :  83.56979405034328 \n",
      "accuracy score is:  84.32494279176201\n",
      "******************************************************************************\n",
      "\n",
      "\n",
      "\n",
      "At cv :  6 \n",
      "cross val score is :  81.39584181250848 \n",
      "accuracy score is:  84.32494279176201\n",
      "******************************************************************************\n",
      "\n",
      "\n",
      "\n",
      "At cv :  7 \n",
      "cross val score is :  81.48824175824176 \n",
      "accuracy score is:  84.32494279176201\n",
      "******************************************************************************\n",
      "\n",
      "\n",
      "\n",
      "At cv :  8 \n",
      "cross val score is :  80.52664885388833 \n",
      "accuracy score is:  84.32494279176201\n",
      "******************************************************************************\n",
      "\n",
      "\n",
      "\n",
      "At cv :  9 \n",
      "cross val score is :  81.28076402735942 \n",
      "accuracy score is:  84.32494279176201\n",
      "******************************************************************************\n",
      "\n",
      "\n",
      "\n"
     ]
    }
   ],
   "source": [
    "#cross validating \n",
    "#Random forest classifier\n",
    "#cross-validating for checking upper/lower cutting\n",
    "from sklearn.model_selection import cross_val_score\n",
    "rf.fit(x_train,y_train)\n",
    "pred_train=rf.predict(x_train)\n",
    "pred_test=rf.predict(x_test)\n",
    "accuracy=accuracy_score(y_test,pred_test)\n",
    "for i in range(2,10):\n",
    "    cr=cross_val_score(rf,x,y,cv=i)\n",
    "    cross=cr.mean()\n",
    "    print(\"At cv : \",i,\"\\ncross val score is : \",cross*100,\"\\naccuracy score is: \",accuracy*100)\n",
    "    print(\"******************************************************************************\")\n",
    "    print(\"\\n\\n\")\n",
    "\n",
    "        \n",
    "\n"
   ]
  },
  {
   "cell_type": "markdown",
   "metadata": {},
   "source": [
    "###### Observation\n",
    "\n",
    "At cv:3\n",
    "\n",
    "the accuracy score and the cross validation score is very nearer.\n",
    "\n",
    "so we are going in good approach.\n",
    "\n"
   ]
  },
  {
   "cell_type": "code",
   "execution_count": 56,
   "metadata": {},
   "outputs": [
    {
     "name": "stdout",
     "output_type": "stream",
     "text": [
      "training accuracy :  99.9141876430206\n",
      "final accuracy :  83.98169336384439\n"
     ]
    }
   ],
   "source": [
    "#using RandomForestClassification with best Result\n",
    "from sklearn.ensemble import RandomForestClassifier\n",
    "rf=RandomForestClassifier(random_state=4,n_estimators=100)\n",
    "rf.fit(x_train,y_train)\n",
    "rf_test_pred=rf.predict(x_test)\n",
    "rf_train_pred=rf.predict(x_train)\n",
    "rf_test_acc=accuracy_score(y_test,rf_test_pred)\n",
    "rf_train_acc=accuracy_score(y_train,rf_train_pred)\n",
    "print(\"training accuracy : \",rf_train_acc*100)\n",
    "print(\"final accuracy : \",rf_test_acc*100)\n"
   ]
  },
  {
   "cell_type": "code",
   "execution_count": 57,
   "metadata": {},
   "outputs": [],
   "source": [
    "import pickle\n",
    "filename=\"agriculture_training.pkl\"\n",
    "pickle.dump(rf,open(filename,\"wb\"))\n"
   ]
  },
  {
   "cell_type": "markdown",
   "metadata": {},
   "source": [
    "# USING THE TEST DATASET"
   ]
  },
  {
   "cell_type": "code",
   "execution_count": 58,
   "metadata": {},
   "outputs": [
    {
     "data": {
      "text/html": [
       "<div>\n",
       "<style scoped>\n",
       "    .dataframe tbody tr th:only-of-type {\n",
       "        vertical-align: middle;\n",
       "    }\n",
       "\n",
       "    .dataframe tbody tr th {\n",
       "        vertical-align: top;\n",
       "    }\n",
       "\n",
       "    .dataframe thead th {\n",
       "        text-align: right;\n",
       "    }\n",
       "</style>\n",
       "<table border=\"1\" class=\"dataframe\">\n",
       "  <thead>\n",
       "    <tr style=\"text-align: right;\">\n",
       "      <th></th>\n",
       "      <th>ID</th>\n",
       "      <th>Estimated_Insects_Count</th>\n",
       "      <th>Crop_Type</th>\n",
       "      <th>Soil_Type</th>\n",
       "      <th>Pesticide_Use_Category</th>\n",
       "      <th>Number_Doses_Week</th>\n",
       "      <th>Number_Weeks_Used</th>\n",
       "      <th>Number_Weeks_Quit</th>\n",
       "      <th>Season</th>\n",
       "    </tr>\n",
       "  </thead>\n",
       "  <tbody>\n",
       "    <tr>\n",
       "      <th>0</th>\n",
       "      <td>F00000002</td>\n",
       "      <td>188</td>\n",
       "      <td>1</td>\n",
       "      <td>1</td>\n",
       "      <td>1</td>\n",
       "      <td>0</td>\n",
       "      <td>NaN</td>\n",
       "      <td>0</td>\n",
       "      <td>2</td>\n",
       "    </tr>\n",
       "    <tr>\n",
       "      <th>1</th>\n",
       "      <td>F00000007</td>\n",
       "      <td>410</td>\n",
       "      <td>1</td>\n",
       "      <td>1</td>\n",
       "      <td>1</td>\n",
       "      <td>0</td>\n",
       "      <td>0.0</td>\n",
       "      <td>0</td>\n",
       "      <td>2</td>\n",
       "    </tr>\n",
       "    <tr>\n",
       "      <th>2</th>\n",
       "      <td>F00000011</td>\n",
       "      <td>626</td>\n",
       "      <td>1</td>\n",
       "      <td>0</td>\n",
       "      <td>1</td>\n",
       "      <td>0</td>\n",
       "      <td>0.0</td>\n",
       "      <td>0</td>\n",
       "      <td>2</td>\n",
       "    </tr>\n",
       "    <tr>\n",
       "      <th>3</th>\n",
       "      <td>F00000013</td>\n",
       "      <td>731</td>\n",
       "      <td>1</td>\n",
       "      <td>0</td>\n",
       "      <td>1</td>\n",
       "      <td>0</td>\n",
       "      <td>0.0</td>\n",
       "      <td>0</td>\n",
       "      <td>2</td>\n",
       "    </tr>\n",
       "    <tr>\n",
       "      <th>4</th>\n",
       "      <td>F00000014</td>\n",
       "      <td>789</td>\n",
       "      <td>0</td>\n",
       "      <td>0</td>\n",
       "      <td>1</td>\n",
       "      <td>0</td>\n",
       "      <td>0.0</td>\n",
       "      <td>0</td>\n",
       "      <td>1</td>\n",
       "    </tr>\n",
       "    <tr>\n",
       "      <th>...</th>\n",
       "      <td>...</td>\n",
       "      <td>...</td>\n",
       "      <td>...</td>\n",
       "      <td>...</td>\n",
       "      <td>...</td>\n",
       "      <td>...</td>\n",
       "      <td>...</td>\n",
       "      <td>...</td>\n",
       "      <td>...</td>\n",
       "    </tr>\n",
       "    <tr>\n",
       "      <th>1194</th>\n",
       "      <td>F00003133</td>\n",
       "      <td>1132</td>\n",
       "      <td>0</td>\n",
       "      <td>1</td>\n",
       "      <td>2</td>\n",
       "      <td>40</td>\n",
       "      <td>34.0</td>\n",
       "      <td>7</td>\n",
       "      <td>3</td>\n",
       "    </tr>\n",
       "    <tr>\n",
       "      <th>1195</th>\n",
       "      <td>F00003135</td>\n",
       "      <td>1132</td>\n",
       "      <td>0</td>\n",
       "      <td>1</td>\n",
       "      <td>2</td>\n",
       "      <td>40</td>\n",
       "      <td>25.0</td>\n",
       "      <td>3</td>\n",
       "      <td>1</td>\n",
       "    </tr>\n",
       "    <tr>\n",
       "      <th>1196</th>\n",
       "      <td>F00003138</td>\n",
       "      <td>1132</td>\n",
       "      <td>0</td>\n",
       "      <td>1</td>\n",
       "      <td>2</td>\n",
       "      <td>20</td>\n",
       "      <td>13.0</td>\n",
       "      <td>23</td>\n",
       "      <td>1</td>\n",
       "    </tr>\n",
       "    <tr>\n",
       "      <th>1197</th>\n",
       "      <td>F00003149</td>\n",
       "      <td>1212</td>\n",
       "      <td>0</td>\n",
       "      <td>1</td>\n",
       "      <td>2</td>\n",
       "      <td>10</td>\n",
       "      <td>35.0</td>\n",
       "      <td>5</td>\n",
       "      <td>1</td>\n",
       "    </tr>\n",
       "    <tr>\n",
       "      <th>1198</th>\n",
       "      <td>F00003150</td>\n",
       "      <td>1212</td>\n",
       "      <td>0</td>\n",
       "      <td>1</td>\n",
       "      <td>2</td>\n",
       "      <td>15</td>\n",
       "      <td>NaN</td>\n",
       "      <td>20</td>\n",
       "      <td>3</td>\n",
       "    </tr>\n",
       "  </tbody>\n",
       "</table>\n",
       "<p>1199 rows × 9 columns</p>\n",
       "</div>"
      ],
      "text/plain": [
       "             ID  Estimated_Insects_Count  Crop_Type  Soil_Type  \\\n",
       "0     F00000002                      188          1          1   \n",
       "1     F00000007                      410          1          1   \n",
       "2     F00000011                      626          1          0   \n",
       "3     F00000013                      731          1          0   \n",
       "4     F00000014                      789          0          0   \n",
       "...         ...                      ...        ...        ...   \n",
       "1194  F00003133                     1132          0          1   \n",
       "1195  F00003135                     1132          0          1   \n",
       "1196  F00003138                     1132          0          1   \n",
       "1197  F00003149                     1212          0          1   \n",
       "1198  F00003150                     1212          0          1   \n",
       "\n",
       "      Pesticide_Use_Category  Number_Doses_Week  Number_Weeks_Used  \\\n",
       "0                          1                  0                NaN   \n",
       "1                          1                  0                0.0   \n",
       "2                          1                  0                0.0   \n",
       "3                          1                  0                0.0   \n",
       "4                          1                  0                0.0   \n",
       "...                      ...                ...                ...   \n",
       "1194                       2                 40               34.0   \n",
       "1195                       2                 40               25.0   \n",
       "1196                       2                 20               13.0   \n",
       "1197                       2                 10               35.0   \n",
       "1198                       2                 15                NaN   \n",
       "\n",
       "      Number_Weeks_Quit  Season  \n",
       "0                     0       2  \n",
       "1                     0       2  \n",
       "2                     0       2  \n",
       "3                     0       2  \n",
       "4                     0       1  \n",
       "...                 ...     ...  \n",
       "1194                  7       3  \n",
       "1195                  3       1  \n",
       "1196                 23       1  \n",
       "1197                  5       1  \n",
       "1198                 20       3  \n",
       "\n",
       "[1199 rows x 9 columns]"
      ]
     },
     "execution_count": 58,
     "metadata": {},
     "output_type": "execute_result"
    }
   ],
   "source": [
    "#importing test dataset\n",
    "df_test=pd.read_excel(r\"C:\\Users\\arunp\\Downloads\\test_agriculture.xlsx\")\n",
    "df_test"
   ]
  },
  {
   "cell_type": "code",
   "execution_count": 59,
   "metadata": {},
   "outputs": [
    {
     "data": {
      "text/plain": [
       "(1199, 9)"
      ]
     },
     "execution_count": 59,
     "metadata": {},
     "output_type": "execute_result"
    }
   ],
   "source": [
    "df_test.shape"
   ]
  },
  {
   "cell_type": "code",
   "execution_count": 60,
   "metadata": {},
   "outputs": [
    {
     "name": "stdout",
     "output_type": "stream",
     "text": [
      "<class 'pandas.core.frame.DataFrame'>\n",
      "RangeIndex: 1199 entries, 0 to 1198\n",
      "Data columns (total 9 columns):\n",
      " #   Column                   Non-Null Count  Dtype  \n",
      "---  ------                   --------------  -----  \n",
      " 0   ID                       1199 non-null   object \n",
      " 1   Estimated_Insects_Count  1199 non-null   int64  \n",
      " 2   Crop_Type                1199 non-null   int64  \n",
      " 3   Soil_Type                1199 non-null   int64  \n",
      " 4   Pesticide_Use_Category   1199 non-null   int64  \n",
      " 5   Number_Doses_Week        1199 non-null   int64  \n",
      " 6   Number_Weeks_Used        1080 non-null   float64\n",
      " 7   Number_Weeks_Quit        1199 non-null   int64  \n",
      " 8   Season                   1199 non-null   int64  \n",
      "dtypes: float64(1), int64(7), object(1)\n",
      "memory usage: 84.4+ KB\n"
     ]
    }
   ],
   "source": [
    "df_test.info()"
   ]
  },
  {
   "cell_type": "code",
   "execution_count": 61,
   "metadata": {},
   "outputs": [
    {
     "data": {
      "text/plain": [
       "ID                          object\n",
       "Estimated_Insects_Count      int64\n",
       "Crop_Type                    int64\n",
       "Soil_Type                    int64\n",
       "Pesticide_Use_Category       int64\n",
       "Number_Doses_Week            int64\n",
       "Number_Weeks_Used          float64\n",
       "Number_Weeks_Quit            int64\n",
       "Season                       int64\n",
       "dtype: object"
      ]
     },
     "execution_count": 61,
     "metadata": {},
     "output_type": "execute_result"
    }
   ],
   "source": [
    "df_test.dtypes"
   ]
  },
  {
   "cell_type": "code",
   "execution_count": 62,
   "metadata": {},
   "outputs": [
    {
     "data": {
      "text/plain": [
       "Index(['ID', 'Estimated_Insects_Count', 'Crop_Type', 'Soil_Type',\n",
       "       'Pesticide_Use_Category', 'Number_Doses_Week', 'Number_Weeks_Used',\n",
       "       'Number_Weeks_Quit', 'Season'],\n",
       "      dtype='object')"
      ]
     },
     "execution_count": 62,
     "metadata": {},
     "output_type": "execute_result"
    }
   ],
   "source": [
    "df_test.columns"
   ]
  },
  {
   "cell_type": "markdown",
   "metadata": {},
   "source": [
    "# finding Missing values"
   ]
  },
  {
   "cell_type": "code",
   "execution_count": 63,
   "metadata": {},
   "outputs": [
    {
     "data": {
      "text/plain": [
       "ID                           0\n",
       "Estimated_Insects_Count      0\n",
       "Crop_Type                    0\n",
       "Soil_Type                    0\n",
       "Pesticide_Use_Category       0\n",
       "Number_Doses_Week            0\n",
       "Number_Weeks_Used          119\n",
       "Number_Weeks_Quit            0\n",
       "Season                       0\n",
       "dtype: int64"
      ]
     },
     "execution_count": 63,
     "metadata": {},
     "output_type": "execute_result"
    }
   ],
   "source": [
    "df_test.isnull().sum()"
   ]
  },
  {
   "cell_type": "markdown",
   "metadata": {},
   "source": [
    "###### observation\n",
    "\n",
    "dropping column with NaN values may lead to loss of data.\n",
    "\n",
    "since column \"Number_Weeks_Used\" has a continious value we will fill the missing data with the mean value."
   ]
  },
  {
   "cell_type": "code",
   "execution_count": 64,
   "metadata": {},
   "outputs": [
    {
     "data": {
      "text/plain": [
       "29.033333333333335"
      ]
     },
     "execution_count": 64,
     "metadata": {},
     "output_type": "execute_result"
    }
   ],
   "source": [
    "df_test[\"Number_Weeks_Used\"].mean()"
   ]
  },
  {
   "cell_type": "code",
   "execution_count": 65,
   "metadata": {},
   "outputs": [],
   "source": [
    "#filling missing values with mean\n",
    "df_test[\"Number_Weeks_Used\"].fillna(df_test[\"Number_Weeks_Used\"].mean(),inplace=True)"
   ]
  },
  {
   "cell_type": "code",
   "execution_count": 66,
   "metadata": {},
   "outputs": [
    {
     "data": {
      "text/plain": [
       "ID                         0\n",
       "Estimated_Insects_Count    0\n",
       "Crop_Type                  0\n",
       "Soil_Type                  0\n",
       "Pesticide_Use_Category     0\n",
       "Number_Doses_Week          0\n",
       "Number_Weeks_Used          0\n",
       "Number_Weeks_Quit          0\n",
       "Season                     0\n",
       "dtype: int64"
      ]
     },
     "execution_count": 66,
     "metadata": {},
     "output_type": "execute_result"
    }
   ],
   "source": [
    "#rechecking missing values\n",
    "df_test.isnull().sum()"
   ]
  },
  {
   "cell_type": "markdown",
   "metadata": {},
   "source": [
    "# Exploring Attributes"
   ]
  },
  {
   "cell_type": "code",
   "execution_count": 67,
   "metadata": {},
   "outputs": [
    {
     "data": {
      "text/plain": [
       "0       F00000002\n",
       "1       F00000007\n",
       "2       F00000011\n",
       "3       F00000013\n",
       "4       F00000014\n",
       "          ...    \n",
       "1194    F00003133\n",
       "1195    F00003135\n",
       "1196    F00003138\n",
       "1197    F00003149\n",
       "1198    F00003150\n",
       "Name: ID, Length: 1199, dtype: object"
      ]
     },
     "execution_count": 67,
     "metadata": {},
     "output_type": "execute_result"
    }
   ],
   "source": [
    "df_test[\"ID\"]"
   ]
  },
  {
   "cell_type": "markdown",
   "metadata": {},
   "source": [
    "###### observation:\n",
    "\n",
    "    column \"ID\" is not much useful for our program.\n",
    "    \n",
    "    so lets drop it"
   ]
  },
  {
   "cell_type": "code",
   "execution_count": 68,
   "metadata": {},
   "outputs": [],
   "source": [
    "df_test.drop(columns=[\"ID\"],inplace=True)"
   ]
  },
  {
   "cell_type": "markdown",
   "metadata": {},
   "source": [
    "# DATA CLEANING"
   ]
  },
  {
   "cell_type": "markdown",
   "metadata": {},
   "source": [
    "## finding outliers"
   ]
  },
  {
   "cell_type": "code",
   "execution_count": 69,
   "metadata": {},
   "outputs": [
    {
     "data": {
      "image/png": "[encoded data removed]",
      "text/plain": [
       "<Figure size 3240x2160 with 8 Axes>"
      ]
     },
     "metadata": {
      "needs_background": "light"
     },
     "output_type": "display_data"
    }
   ],
   "source": [
    "#Plotting Outliers\n",
    "collist=df_test.columns.values\n",
    "ncol=30\n",
    "nrow=15\n",
    "plt.figure(figsize=(3*nrow,ncol))\n",
    "for i in range (0,len(collist)):\n",
    "    plt.subplot(nrow,ncol,i+1)\n",
    "    sns.boxplot(df_test[collist[i]],color=\"red\",orient=\"v\")\n",
    "    plt.tight_layout()               "
   ]
  },
  {
   "cell_type": "markdown",
   "metadata": {},
   "source": [
    "###### Observation:\n",
    "\n",
    "Outliers present in \n",
    "\n",
    "1)Estimated_Insects_Count\n",
    "\n",
    "2)Crop_Type\n",
    "\n",
    "3)Number_Doses_Week\n",
    "        \n",
    "4)Number_Weeks_Used\n",
    "\n",
    "5)Number_Weeks_Quit\n",
    "      "
   ]
  },
  {
   "cell_type": "markdown",
   "metadata": {},
   "source": [
    "## Treating Outliers"
   ]
  },
  {
   "cell_type": "code",
   "execution_count": 70,
   "metadata": {},
   "outputs": [
    {
     "data": {
      "text/plain": [
       "array([[1.30318366e+00, 2.03615391e+00, 1.09360445e+00, ...,\n",
       "        5.85986262e-16, 7.96003797e-01, 1.72804130e-01],\n",
       "       [1.04035366e+00, 2.03615391e+00, 1.09360445e+00, ...,\n",
       "        2.39438582e+00, 7.96003797e-01, 1.72804130e-01],\n",
       "       [7.84627185e-01, 2.03615391e+00, 9.14407397e-01, ...,\n",
       "        2.39438582e+00, 7.96003797e-01, 1.72804130e-01],\n",
       "       ...,\n",
       "       [1.85564227e-01, 4.91122009e-01, 1.09360445e+00, ...,\n",
       "        1.32227276e+00, 1.79995135e+00, 1.28629553e+00],\n",
       "       [9.08507165e-02, 4.91122009e-01, 1.09360445e+00, ...,\n",
       "        4.92072401e-01, 2.31665722e-01, 1.28629553e+00],\n",
       "       [9.08507165e-02, 4.91122009e-01, 1.09360445e+00, ...,\n",
       "        5.85986262e-16, 1.46134850e+00, 1.63190379e+00]])"
      ]
     },
     "execution_count": 70,
     "metadata": {},
     "output_type": "execute_result"
    }
   ],
   "source": [
    "#Removing Outliers\n",
    "#Z-score Techinique\n",
    "from scipy.stats import zscore\n",
    "z=np.abs(zscore(df_test))\n",
    "z\n"
   ]
  },
  {
   "cell_type": "code",
   "execution_count": 71,
   "metadata": {},
   "outputs": [
    {
     "name": "stdout",
     "output_type": "stream",
     "text": [
      "(array([  50,   83,  129,  136,  179,  255,  280,  281,  282,  501,  502,\n",
      "        503,  535,  574,  613,  630,  751,  775,  827,  829,  853,  868,\n",
      "        870,  871,  883,  890,  895,  897,  902,  904,  910,  911,  912,\n",
      "        913,  914,  915,  916, 1030, 1152], dtype=int64), array([4, 4, 4, 4, 4, 4, 0, 0, 0, 0, 0, 0, 4, 4, 4, 4, 4, 6, 6, 6, 6, 6,\n",
      "       6, 6, 6, 6, 6, 6, 6, 6, 0, 0, 0, 0, 0, 0, 0, 4, 4], dtype=int64))\n"
     ]
    }
   ],
   "source": [
    "threshold=3\n",
    "print(np.where(z>3))"
   ]
  },
  {
   "cell_type": "code",
   "execution_count": 72,
   "metadata": {},
   "outputs": [
    {
     "data": {
      "text/plain": [
       "(1199, 8)"
      ]
     },
     "execution_count": 72,
     "metadata": {},
     "output_type": "execute_result"
    }
   ],
   "source": [
    "df_test.shape"
   ]
  },
  {
   "cell_type": "code",
   "execution_count": 73,
   "metadata": {},
   "outputs": [
    {
     "data": {
      "text/plain": [
       "(1160, 8)"
      ]
     },
     "execution_count": 73,
     "metadata": {},
     "output_type": "execute_result"
    }
   ],
   "source": [
    "df_new1=df_test[(z<3).all(axis=1)]\n",
    "df_new1.shape"
   ]
  },
  {
   "cell_type": "code",
   "execution_count": 74,
   "metadata": {},
   "outputs": [
    {
     "data": {
      "text/plain": [
       "3.252710592160134"
      ]
     },
     "execution_count": 74,
     "metadata": {},
     "output_type": "execute_result"
    }
   ],
   "source": [
    "#Percentage loss\n",
    "loss=(1199-1160)/1199*100\n",
    "loss"
   ]
  },
  {
   "cell_type": "markdown",
   "metadata": {},
   "source": [
    "###### Observation:\n",
    "\n",
    "    The percentage dataloss is very minimal. so proceeding with next step"
   ]
  },
  {
   "cell_type": "markdown",
   "metadata": {},
   "source": [
    "## Finding Skewness"
   ]
  },
  {
   "cell_type": "code",
   "execution_count": 75,
   "metadata": {},
   "outputs": [
    {
     "data": {
      "text/plain": [
       "Estimated_Insects_Count    1.013185\n",
       "Crop_Type                  1.515496\n",
       "Soil_Type                  0.148878\n",
       "Pesticide_Use_Category     0.069452\n",
       "Number_Doses_Week          0.645208\n",
       "Number_Weeks_Used          0.223826\n",
       "Number_Weeks_Quit          1.032108\n",
       "Season                     0.159728\n",
       "dtype: float64"
      ]
     },
     "execution_count": 75,
     "metadata": {},
     "output_type": "execute_result"
    }
   ],
   "source": [
    "#checking for skewness\n",
    "df_new1.skew()"
   ]
  },
  {
   "cell_type": "markdown",
   "metadata": {},
   "source": [
    "##### Observation:\n",
    "\n",
    "Most the columns are positively skewed"
   ]
  },
  {
   "cell_type": "markdown",
   "metadata": {},
   "source": [
    "## Removing Skewness"
   ]
  },
  {
   "cell_type": "code",
   "execution_count": 77,
   "metadata": {},
   "outputs": [],
   "source": [
    "#Skewness treatment\n",
    "#treating using log\n",
    "threshold=0.55\n",
    "import numpy as np\n",
    "for i in df_new1.columns:\n",
    "    if df_new1[i].skew()>0.65:\n",
    "        df_new1[i]=np.log1p(df_new1[i])\n",
    "    "
   ]
  },
  {
   "cell_type": "code",
   "execution_count": 78,
   "metadata": {},
   "outputs": [
    {
     "data": {
      "text/plain": [
       "Estimated_Insects_Count   -0.319397\n",
       "Crop_Type                  1.515496\n",
       "Soil_Type                  0.148878\n",
       "Pesticide_Use_Category     0.069452\n",
       "Number_Doses_Week          0.645208\n",
       "Number_Weeks_Used          0.223826\n",
       "Number_Weeks_Quit          0.199224\n",
       "Season                     0.159728\n",
       "dtype: float64"
      ]
     },
     "execution_count": 78,
     "metadata": {},
     "output_type": "execute_result"
    }
   ],
   "source": [
    "#Rechecking Skewness\n",
    "df_new1.skew()"
   ]
  },
  {
   "cell_type": "markdown",
   "metadata": {},
   "source": [
    "###### Data Cleaning is completed ."
   ]
  },
  {
   "cell_type": "markdown",
   "metadata": {},
   "source": [
    "# Scaling Input Variable"
   ]
  },
  {
   "cell_type": "code",
   "execution_count": 80,
   "metadata": {},
   "outputs": [
    {
     "data": {
      "text/plain": [
       "array([[-2.50728813,  2.01084019,  1.07710212, ...,  0.0069657 ,\n",
       "        -1.00542808,  0.1775195 ],\n",
       "       [-1.34703014,  2.01084019,  1.07710212, ..., -2.39257857,\n",
       "        -1.00542808,  0.1775195 ],\n",
       "       [-0.71622468,  2.01084019, -0.92841708, ..., -2.39257857,\n",
       "        -1.00542808,  0.1775195 ],\n",
       "       ...,\n",
       "       [ 0.16747508, -0.49730456,  1.07710212, ..., -1.31815576,\n",
       "         1.45148655, -1.28292465],\n",
       "       [ 0.26937643, -0.49730456,  1.07710212, ...,  0.50009822,\n",
       "         0.3797593 , -1.28292465],\n",
       "       [ 0.26937643, -0.49730456,  1.07710212, ...,  0.0069657 ,\n",
       "         1.34825506,  1.63796365]])"
      ]
     },
     "execution_count": 80,
     "metadata": {},
     "output_type": "execute_result"
    }
   ],
   "source": [
    "# Algorithms requires all features to be on common scale. \n",
    "#using Standard Scaler\n",
    "from sklearn.preprocessing import StandardScaler\n",
    "sc=StandardScaler()\n",
    "test_df=sc.fit_transform(df_new1)\n",
    "test_df\n"
   ]
  },
  {
   "cell_type": "markdown",
   "metadata": {},
   "source": [
    "# Loading the Model"
   ]
  },
  {
   "cell_type": "code",
   "execution_count": 79,
   "metadata": {},
   "outputs": [
    {
     "data": {
      "text/plain": [
       "RandomForestClassifier(random_state=4)"
      ]
     },
     "execution_count": 79,
     "metadata": {},
     "output_type": "execute_result"
    }
   ],
   "source": [
    "fitted_model=pickle.load(open(\"agriculture_training.pkl\",\"rb\"))\n",
    "fitted_model"
   ]
  },
  {
   "cell_type": "markdown",
   "metadata": {},
   "source": [
    "# Predicting over Test Data"
   ]
  },
  {
   "cell_type": "code",
   "execution_count": 81,
   "metadata": {},
   "outputs": [
    {
     "data": {
      "text/plain": [
       "array([0, 0, 0, ..., 0, 0, 0], dtype=int64)"
      ]
     },
     "execution_count": 81,
     "metadata": {},
     "output_type": "execute_result"
    }
   ],
   "source": [
    "prediction=fitted_model.predict(test_df)\n",
    "prediction"
   ]
  },
  {
   "cell_type": "code",
   "execution_count": null,
   "metadata": {},
   "outputs": [],
   "source": []
  },
  {
   "cell_type": "code",
   "execution_count": null,
   "metadata": {},
   "outputs": [],
   "source": []
  },
  {
   "cell_type": "code",
   "execution_count": null,
   "metadata": {},
   "outputs": [],
   "source": []
  },
  {
   "cell_type": "code",
   "execution_count": null,
   "metadata": {},
   "outputs": [],
   "source": []
  }
 ],
 "metadata": {
  "kernelspec": {
   "display_name": "Python 3",
   "language": "python",
   "name": "python3"
  },
  "language_info": {
   "codemirror_mode": {
    "name": "ipython",
    "version": 3
   },
   "file_extension": ".py",
   "mimetype": "text/x-python",
   "name": "python",
   "nbconvert_exporter": "python",
   "pygments_lexer": "ipython3",
   "version": "3.8.3"
  },
  "toc": {
   "base_numbering": 1,
   "nav_menu": {},
   "number_sections": false,
   "sideBar": true,
   "skip_h1_title": false,
   "title_cell": "Table of Contents",
   "title_sidebar": "Contents",
   "toc_cell": false,
   "toc_position": {},
   "toc_section_display": true,
   "toc_window_display": false
  }
 },
 "nbformat": 4,
 "nbformat_minor": 4
}
